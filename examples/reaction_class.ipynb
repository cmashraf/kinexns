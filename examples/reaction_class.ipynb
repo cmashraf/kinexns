{
 "cells": [
  {
   "cell_type": "markdown",
   "metadata": {},
   "source": [
    "# Kinetic Modeling with PYthon (kmpy)"
   ]
  },
  {
   "cell_type": "code",
   "execution_count": 1,
   "metadata": {},
   "outputs": [],
   "source": [
    "import os, sys\n",
    "import numpy as np\n",
    "from constants import GAS_CONST, PR_ATM\n",
    "from constants import KCAL_JL, HT_JL\n",
    "import pandas as pd\n",
    "import math"
   ]
  },
  {
   "cell_type": "code",
   "execution_count": 2,
   "metadata": {},
   "outputs": [],
   "source": [
    "cwd = os.getcwd()"
   ]
  },
  {
   "cell_type": "markdown",
   "metadata": {},
   "source": [
    "setting up the paths for the input files"
   ]
  },
  {
   "cell_type": "code",
   "execution_count": 3,
   "metadata": {},
   "outputs": [],
   "source": [
    "def set_paths(myPath):\n",
    "    \"\"\"\n",
    "    Set the absolute path to required files on the current machine.\n",
    "\n",
    "    Returns\n",
    "    -------\n",
    "    reactionlist_path     : str\n",
    "                            path to the file `complete_reactionlist.dat`\n",
    "    rateconstantlist_path : str\n",
    "                            path to the file `complete_rateconstantlist.dat`\n",
    "    free_enenry_path      : str\n",
    "                            path to the file `compositionlist.dat`\n",
    "    \"\"\"\n",
    "    #myPath = os.path.dirname(os.path.abspath(__file__))\n",
    "#     reactionlist_path = myPath + '/data/complete_reaction_list.dat'\n",
    "#     rateconstantlist_path = myPath + '/data/complete_rateconstant_list.dat'\n",
    "#     free_energy_path = myPath + '/data/free_energy_library.dat'\n",
    "    reactionlist_path = myPath + '/data/reaction_list.dat'\n",
    "    rateconstantlist_path = myPath + '/data/rateconstant_list.dat'\n",
    "    free_energy_path = myPath + '/../kmpy/data/free_energy_library.dat'\n",
    "    return reactionlist_path, rateconstantlist_path, free_energy_path\n"
   ]
  },
  {
   "cell_type": "code",
   "execution_count": 4,
   "metadata": {},
   "outputs": [],
   "source": [
    "file_reactionlist, file_rateconstantlist, file_free_energy = set_paths(cwd)"
   ]
  },
  {
   "cell_type": "code",
   "execution_count": 5,
   "metadata": {},
   "outputs": [
    {
     "data": {
      "text/html": [
       "<div>\n",
       "<style scoped>\n",
       "    .dataframe tbody tr th:only-of-type {\n",
       "        vertical-align: middle;\n",
       "    }\n",
       "\n",
       "    .dataframe tbody tr th {\n",
       "        vertical-align: top;\n",
       "    }\n",
       "\n",
       "    .dataframe thead th {\n",
       "        text-align: right;\n",
       "    }\n",
       "</style>\n",
       "<table border=\"1\" class=\"dataframe\">\n",
       "  <thead>\n",
       "    <tr style=\"text-align: right;\">\n",
       "      <th></th>\n",
       "      <th>0</th>\n",
       "      <th>1</th>\n",
       "      <th>2</th>\n",
       "    </tr>\n",
       "  </thead>\n",
       "  <tbody>\n",
       "    <tr>\n",
       "      <th>0</th>\n",
       "      <td>-1.0_O[C@H]1[C@H](O)CO[C@@H](O)[C@@H]1O</td>\n",
       "      <td>1.0_O</td>\n",
       "      <td>1.0_OC1=COC[C@@H](O)[C@@H]1O</td>\n",
       "    </tr>\n",
       "    <tr>\n",
       "      <th>1</th>\n",
       "      <td>-1.0_O[C@H]1[C@H](O)CO[C@@H](O)[C@@H]1O</td>\n",
       "      <td>1.0_O</td>\n",
       "      <td>1.0_OC1=C[C@@H](O)[C@H](O)OC1</td>\n",
       "    </tr>\n",
       "    <tr>\n",
       "      <th>2</th>\n",
       "      <td>-1.0_O[C@H]1[C@H](O)CO[C@@H](O)[C@@H]1O</td>\n",
       "      <td>1.0_O</td>\n",
       "      <td>1.0_O[C@H]1C=CO[C@@H](O)[C@@H]1O</td>\n",
       "    </tr>\n",
       "    <tr>\n",
       "      <th>3</th>\n",
       "      <td>-1.0_O[C@H]1[C@H](O)CO[C@@H](O)[C@@H]1O</td>\n",
       "      <td>1.0_O=C[C@@H](O)[C@H](O)[C@@H](O)CO</td>\n",
       "      <td>NaN</td>\n",
       "    </tr>\n",
       "    <tr>\n",
       "      <th>4</th>\n",
       "      <td>-1.0_O[C@H]1C=CO[C@@H](O)[C@@H]1O</td>\n",
       "      <td>1.0_O=C[C@H](O)[C@@H](O)/C=C\\O</td>\n",
       "      <td>NaN</td>\n",
       "    </tr>\n",
       "  </tbody>\n",
       "</table>\n",
       "</div>"
      ],
      "text/plain": [
       "                                         0  \\\n",
       "0  -1.0_O[C@H]1[C@H](O)CO[C@@H](O)[C@@H]1O   \n",
       "1  -1.0_O[C@H]1[C@H](O)CO[C@@H](O)[C@@H]1O   \n",
       "2  -1.0_O[C@H]1[C@H](O)CO[C@@H](O)[C@@H]1O   \n",
       "3  -1.0_O[C@H]1[C@H](O)CO[C@@H](O)[C@@H]1O   \n",
       "4        -1.0_O[C@H]1C=CO[C@@H](O)[C@@H]1O   \n",
       "\n",
       "                                     1                                 2  \n",
       "0                                1.0_O      1.0_OC1=COC[C@@H](O)[C@@H]1O  \n",
       "1                                1.0_O     1.0_OC1=C[C@@H](O)[C@H](O)OC1  \n",
       "2                                1.0_O  1.0_O[C@H]1C=CO[C@@H](O)[C@@H]1O  \n",
       "3  1.0_O=C[C@@H](O)[C@H](O)[C@@H](O)CO                               NaN  \n",
       "4       1.0_O=C[C@H](O)[C@@H](O)/C=C\\O                               NaN  "
      ]
     },
     "execution_count": 5,
     "metadata": {},
     "output_type": "execute_result"
    }
   ],
   "source": [
    "df_reaction = pd.read_csv(file_reactionlist, header = None)\n",
    "df_reaction.head()"
   ]
  },
  {
   "cell_type": "code",
   "execution_count": 6,
   "metadata": {},
   "outputs": [
    {
     "data": {
      "text/html": [
       "<div>\n",
       "<style scoped>\n",
       "    .dataframe tbody tr th:only-of-type {\n",
       "        vertical-align: middle;\n",
       "    }\n",
       "\n",
       "    .dataframe tbody tr th {\n",
       "        vertical-align: top;\n",
       "    }\n",
       "\n",
       "    .dataframe thead th {\n",
       "        text-align: right;\n",
       "    }\n",
       "</style>\n",
       "<table border=\"1\" class=\"dataframe\">\n",
       "  <thead>\n",
       "    <tr style=\"text-align: right;\">\n",
       "      <th></th>\n",
       "      <th>0</th>\n",
       "      <th>1</th>\n",
       "      <th>2</th>\n",
       "    </tr>\n",
       "  </thead>\n",
       "  <tbody>\n",
       "    <tr>\n",
       "      <th>0</th>\n",
       "      <td>5.000000e+15</td>\n",
       "      <td>0</td>\n",
       "      <td>57.0</td>\n",
       "    </tr>\n",
       "    <tr>\n",
       "      <th>1</th>\n",
       "      <td>5.000000e+15</td>\n",
       "      <td>0</td>\n",
       "      <td>57.0</td>\n",
       "    </tr>\n",
       "    <tr>\n",
       "      <th>2</th>\n",
       "      <td>6.000000e+15</td>\n",
       "      <td>0</td>\n",
       "      <td>59.0</td>\n",
       "    </tr>\n",
       "    <tr>\n",
       "      <th>3</th>\n",
       "      <td>3.000000e+13</td>\n",
       "      <td>0</td>\n",
       "      <td>47.0</td>\n",
       "    </tr>\n",
       "    <tr>\n",
       "      <th>4</th>\n",
       "      <td>9.000000e+12</td>\n",
       "      <td>0</td>\n",
       "      <td>46.1</td>\n",
       "    </tr>\n",
       "  </tbody>\n",
       "</table>\n",
       "</div>"
      ],
      "text/plain": [
       "              0  1     2\n",
       "0  5.000000e+15  0  57.0\n",
       "1  5.000000e+15  0  57.0\n",
       "2  6.000000e+15  0  59.0\n",
       "3  3.000000e+13  0  47.0\n",
       "4  9.000000e+12  0  46.1"
      ]
     },
     "execution_count": 6,
     "metadata": {},
     "output_type": "execute_result"
    }
   ],
   "source": [
    "df_rate = pd.read_csv(file_rateconstantlist, header = None, sep = ' ')\n",
    "df_rate.head()"
   ]
  },
  {
   "cell_type": "code",
   "execution_count": 7,
   "metadata": {},
   "outputs": [
    {
     "data": {
      "text/html": [
       "<div>\n",
       "<style scoped>\n",
       "    .dataframe tbody tr th:only-of-type {\n",
       "        vertical-align: middle;\n",
       "    }\n",
       "\n",
       "    .dataframe tbody tr th {\n",
       "        vertical-align: top;\n",
       "    }\n",
       "\n",
       "    .dataframe thead th {\n",
       "        text-align: right;\n",
       "    }\n",
       "</style>\n",
       "<table border=\"1\" class=\"dataframe\">\n",
       "  <thead>\n",
       "    <tr style=\"text-align: right;\">\n",
       "      <th></th>\n",
       "      <th>Structure ID</th>\n",
       "      <th>smiles</th>\n",
       "      <th>electronic_energy</th>\n",
       "      <th>300K</th>\n",
       "      <th>400K</th>\n",
       "      <th>500K</th>\n",
       "      <th>600K</th>\n",
       "      <th>700K</th>\n",
       "      <th>800K</th>\n",
       "    </tr>\n",
       "  </thead>\n",
       "  <tbody>\n",
       "    <tr>\n",
       "      <th>0</th>\n",
       "      <td>1</td>\n",
       "      <td>O[C@H]1[C@H](O)CO[C@@H](O)[C@@H]1O</td>\n",
       "      <td>-572.654636</td>\n",
       "      <td>0.130831</td>\n",
       "      <td>0.114449</td>\n",
       "      <td>0.096034</td>\n",
       "      <td>0.075704</td>\n",
       "      <td>0.053580</td>\n",
       "      <td>0.029778</td>\n",
       "    </tr>\n",
       "    <tr>\n",
       "      <th>1</th>\n",
       "      <td>2</td>\n",
       "      <td>O</td>\n",
       "      <td>-76.422977</td>\n",
       "      <td>0.003836</td>\n",
       "      <td>-0.003547</td>\n",
       "      <td>-0.011258</td>\n",
       "      <td>-0.019238</td>\n",
       "      <td>-0.027448</td>\n",
       "      <td>-0.035861</td>\n",
       "    </tr>\n",
       "    <tr>\n",
       "      <th>2</th>\n",
       "      <td>3</td>\n",
       "      <td>OC1=COC[C@@H](O)[C@@H]1O</td>\n",
       "      <td>-496.193201</td>\n",
       "      <td>0.103466</td>\n",
       "      <td>0.088156</td>\n",
       "      <td>0.071087</td>\n",
       "      <td>0.052368</td>\n",
       "      <td>0.032109</td>\n",
       "      <td>0.010414</td>\n",
       "    </tr>\n",
       "    <tr>\n",
       "      <th>3</th>\n",
       "      <td>4</td>\n",
       "      <td>OC1=C[C@@H](O)[C@H](O)OC1</td>\n",
       "      <td>-496.205201</td>\n",
       "      <td>0.104026</td>\n",
       "      <td>0.088926</td>\n",
       "      <td>0.072080</td>\n",
       "      <td>0.053591</td>\n",
       "      <td>0.033566</td>\n",
       "      <td>0.012107</td>\n",
       "    </tr>\n",
       "    <tr>\n",
       "      <th>4</th>\n",
       "      <td>5</td>\n",
       "      <td>O[C@H]1C=CO[C@@H](O)[C@@H]1O</td>\n",
       "      <td>-496.204142</td>\n",
       "      <td>0.104043</td>\n",
       "      <td>0.088886</td>\n",
       "      <td>0.071984</td>\n",
       "      <td>0.053439</td>\n",
       "      <td>0.033355</td>\n",
       "      <td>0.011835</td>\n",
       "    </tr>\n",
       "  </tbody>\n",
       "</table>\n",
       "</div>"
      ],
      "text/plain": [
       "   Structure ID                              smiles  electronic_energy  \\\n",
       "0             1  O[C@H]1[C@H](O)CO[C@@H](O)[C@@H]1O        -572.654636   \n",
       "1             2                                   O         -76.422977   \n",
       "2             3            OC1=COC[C@@H](O)[C@@H]1O        -496.193201   \n",
       "3             4           OC1=C[C@@H](O)[C@H](O)OC1        -496.205201   \n",
       "4             5        O[C@H]1C=CO[C@@H](O)[C@@H]1O        -496.204142   \n",
       "\n",
       "       300K      400K      500K      600K      700K      800K  \n",
       "0  0.130831  0.114449  0.096034  0.075704  0.053580  0.029778  \n",
       "1  0.003836 -0.003547 -0.011258 -0.019238 -0.027448 -0.035861  \n",
       "2  0.103466  0.088156  0.071087  0.052368  0.032109  0.010414  \n",
       "3  0.104026  0.088926  0.072080  0.053591  0.033566  0.012107  \n",
       "4  0.104043  0.088886  0.071984  0.053439  0.033355  0.011835  "
      ]
     },
     "execution_count": 7,
     "metadata": {},
     "output_type": "execute_result"
    }
   ],
   "source": [
    "df_free_energy = pd.read_csv(file_free_energy, sep = '\\t')\n",
    "df_free_energy.head()"
   ]
  },
  {
   "cell_type": "code",
   "execution_count": 8,
   "metadata": {},
   "outputs": [],
   "source": [
    "class Reaction(object):\n",
    "    \n",
    "    \n",
    "    def __init__(self):\n",
    "        self.reactants_names = []\n",
    "        self.products_names = []\n",
    "        self.uniqueSpeciesList = []\n",
    "        #species_names = []\n",
    "        \n",
    "   \n",
    "    def getReactantsName(self, line):\n",
    "        \n",
    "        for spec in line.split(','):\n",
    "            if float(spec.split('_')[0].split()[0]) < 0:\n",
    "                self.reactants_names.append((spec.split('_')[0].split()[0],\n",
    "                                          spec.split('_')[1].split()[0]))\n",
    "            #print(self.species_names)\n",
    "        return self.reactants_names\n",
    "    \n",
    "    def getProductsName(self, line):\n",
    "        \n",
    "        for spec in line.split(','):\n",
    "            if float(spec.split('_')[0].split()[0]) > 0:\n",
    "                self.products_names.append((spec.split('_')[0].split()[0],\n",
    "                                          spec.split('_')[1].split()[0]))\n",
    "            #print(self.species_names)\n",
    "        return self.products_names\n",
    "    \n",
    "    def uniqueSpeciesName(self, line, species_list):\n",
    "        #self.uniqueSpeciesList = species_list\n",
    "        for spec in line.split(','):\n",
    "            #self.uniqueSpeciesList = species_list\n",
    "            # If the species has already been added to the list then move on.\n",
    "            if spec.split('_')[1].split()[0] in species_list:\n",
    "                self.uniqueSpeciesList = species_list\n",
    "                continue\n",
    "            else:\n",
    "                #print(self.uniqueSpeciesList)\n",
    "                self.uniqueSpeciesList = species_list\n",
    "                self.uniqueSpeciesList.append(spec.split('_')[1].split()[0])\n",
    "            #print(spec.split('_')[1].split()[0])\n",
    "        return self.uniqueSpeciesList\n",
    "    "
   ]
  },
  {
   "cell_type": "code",
   "execution_count": 9,
   "metadata": {},
   "outputs": [],
   "source": [
    "def build_species_list(reaction_file):\n",
    "    \"\"\"\n",
    "    Build reactnat and product list for each reaction. Also builds a list\n",
    "    of unique species in the mechanism\n",
    "    Parameters\n",
    "    ----------\n",
    "    reaction_file       : str\n",
    "                           path to the file `complete_reaction_list.dat`\n",
    "    Returns\n",
    "    __________\n",
    "\n",
    "    reactant_list       : list\n",
    "                         a list of the reactants and their stoichiometric\n",
    "                         coeffs for each reaction\n",
    "    product_list        : list\n",
    "                         a list of the products and their stoichiometric\n",
    "                         coeffs for each reaction\n",
    "    species_list        : list\n",
    "                        a list of unique species in the mechanism\n",
    "    \"\"\"\n",
    "\n",
    "    #initializing reactant, product and unique species list\n",
    "    reactant_list = []\n",
    "    product_list = []\n",
    "    species_name = []\n",
    "\n",
    "    for line in open(reaction_file, 'r').readlines():\n",
    "        reac = Reaction()\n",
    "        reactant_list.append(reac.getReactantsName(line))\n",
    "        product_list.append(reac.getProductsName(line))\n",
    "        current_species = species_name\n",
    "        #print(current_species)\n",
    "        species_list = reac.uniqueSpeciesName(line, current_species)\n",
    "        #print(species_name)\n",
    "    species_list.sort()\n",
    "\n",
    "    return reactant_list, product_list, species_list\n",
    "\n",
    "reactants_list, products_list, unique_species = build_species_list(file_reactionlist)\n",
    "    "
   ]
  },
  {
   "cell_type": "code",
   "execution_count": 10,
   "metadata": {},
   "outputs": [
    {
     "name": "stdout",
     "output_type": "stream",
     "text": [
      "['C=C(O)C=O', 'C=C(O)[C@@H](O)[C@H](O)C=O', 'C=O', 'CC(=O)/C=C(/O)C=O', 'CC(=O)C=O', 'CC(=O)CC(=O)C=O', 'CC(=O)CO', 'CC(=O)[C@@H](O)[C@H](O)C=O', 'CC=O', 'O', 'O/C=C/O', 'O=C/C=C(\\\\O)[C@@H](O)CO', 'O=C/C=C/C(=O)CO', 'O=C/C=C\\\\[C@@H](O)C=O', 'O=C1COC=C[C@@H]1O', 'O=C1COCC(=O)C1', 'O=C1COC[C@@H](O)[C@@H]1O', 'O=CC(O)C=O', 'O=CC1=C[C@@H](O)CO1', 'O=CC=O', 'O=CCC(=O)[C@@H](O)CO', 'O=CCC=O', 'O=CCO', 'O=CC[C@H](O)[C@@H](O)C=O', 'O=CC[C@H](O)[C@H](O)C=O', 'O=C[C@@H](O)/C=C(\\\\O)CO', 'O=C[C@@H](O)CC(=O)CO', 'O=C[C@@H](O)[C@@H](O)/C=C\\\\O', 'O=C[C@@H](O)[C@@H](O)CO', 'O=C[C@@H](O)[C@H](O)[C@@H](O)CO', 'O=C[C@H](O)/C=C(/O)CO', 'O=C[C@H](O)CC(=O)CO', 'O=C[C@H](O)CO', 'O=C[C@H](O)[C@@H](O)/C=C\\\\O', 'O=C[C@H]1OC[C@H](O)[C@H]1O', 'O=Cc1ccco1', 'OC1=COC=C[C@@H]1O', 'OC1=COCC(O)=C1', 'OC1=COC[C@@H](O)[C@@H]1O', 'OC1=C[C@@H](O)[C@H](O)OC1', 'O[C@H]1C=CO[C@@H](O)[C@@H]1O', 'O[C@H]1[C@H](O)CO[C@@H](O)[C@@H]1O']\n",
      "42\n"
     ]
    }
   ],
   "source": [
    "print(unique_species)\n",
    "print(len(unique_species))"
   ]
  },
  {
   "cell_type": "code",
   "execution_count": 11,
   "metadata": {},
   "outputs": [
    {
     "name": "stdout",
     "output_type": "stream",
     "text": [
      "[[('1.0', 'O'), ('1.0', 'OC1=COC[C@@H](O)[C@@H]1O')], [('1.0', 'O'), ('1.0', 'OC1=C[C@@H](O)[C@H](O)OC1')], [('1.0', 'O'), ('1.0', 'O[C@H]1C=CO[C@@H](O)[C@@H]1O')], [('1.0', 'O=C[C@@H](O)[C@H](O)[C@@H](O)CO')], [('1.0', 'O=C[C@H](O)[C@@H](O)/C=C\\\\O')], [('1.0', 'O=CC[C@H](O)[C@@H](O)C=O')], [('1.0', 'O=CCO'), ('1.0', 'O=CCC=O')], [('1.0', 'O'), ('1.0', 'O=C/C=C\\\\[C@@H](O)C=O')], [('1.0', 'O'), ('1.0', 'OC1=COC=C[C@@H]1O')], [('1.0', 'O=C[C@H](O)/C=C(/O)CO')], [('1.0', 'O=C[C@H](O)CC(=O)CO')], [('1.0', 'O'), ('1.0', 'O=C/C=C/C(=O)CO')], [('1.0', 'CC(=O)CO'), ('1.0', 'O=CC=O')], [('1.0', 'O'), ('1.0', 'OC1=COCC(O)=C1')], [('1.0', 'O=C1COCC(=O)C1')], [('1.0', 'O'), ('1.0', 'OC1=COCC(O)=C1')], [('1.0', 'O=C1COC[C@@H](O)[C@@H]1O')], [('1.0', 'C=C(O)[C@@H](O)[C@H](O)C=O')], [('1.0', 'CC(=O)[C@@H](O)[C@H](O)C=O')], [('1.0', 'CC(=O)C=O'), ('1.0', 'O=CCO')], [('1.0', 'O'), ('1.0', 'CC(=O)/C=C(/O)C=O')], [('1.0', 'CC(=O)CC(=O)C=O')], [('1.0', 'O'), ('1.0', 'OC1=COC=C[C@@H]1O')], [('1.0', 'O=C1COC=C[C@@H]1O')], [('1.0', 'O'), ('1.0', 'O=C[C@H]1OC[C@H](O)[C@H]1O')], [('1.0', 'O'), ('1.0', 'O=CC1=C[C@@H](O)CO1')], [('1.0', 'O'), ('1.0', 'O=Cc1ccco1')], [('1.0', 'O'), ('1.0', 'O=C[C@@H](O)[C@@H](O)/C=C\\\\O')], [('1.0', 'O=CC[C@H](O)[C@H](O)C=O')], [('1.0', 'O=CC(O)C=O'), ('1.0', 'CC=O')], [('1.0', 'O'), ('1.0', 'O=C[C@@H](O)/C=C(\\\\O)CO')], [('1.0', 'O=C[C@@H](O)CC(=O)CO')], [('1.0', 'O=CCO'), ('1.0', 'C=C(O)C=O')], [('1.0', 'CC(=O)C=O')], [('1.0', 'O'), ('1.0', 'O=C/C=C(\\\\O)[C@@H](O)CO')], [('1.0', 'O=CCC(=O)[C@@H](O)CO')], [('1.0', 'O=CCO'), ('1.0', 'O=CCC=O')], [('1.0', 'O=CCO'), ('1.0', 'O=C[C@H](O)CO')], [('1.0', 'O'), ('1.0', 'C=C(O)C=O')], [('1.0', 'O=C[C@@H](O)[C@@H](O)CO'), ('1.0', 'C=O')], [('1.0', 'O=CCO'), ('1.0', 'O/C=C/O')], [('1.0', 'O=CCO')]]\n"
     ]
    }
   ],
   "source": [
    "#print(len(products_list))\n",
    "print(products_list)"
   ]
  },
  {
   "cell_type": "code",
   "execution_count": 12,
   "metadata": {},
   "outputs": [],
   "source": [
    "reac_prod_list = [react + prod for react, prod in zip(reactants_list, products_list)]\n",
    "# for react, prod in zip(reactants, products):\n",
    "#     total.append(react + prod)\n",
    "#print(total)"
   ]
  },
  {
   "cell_type": "code",
   "execution_count": 13,
   "metadata": {},
   "outputs": [
    {
     "name": "stdout",
     "output_type": "stream",
     "text": [
      "[[('-1.0', 'O[C@H]1[C@H](O)CO[C@@H](O)[C@@H]1O'), ('1.0', 'O'), ('1.0', 'OC1=COC[C@@H](O)[C@@H]1O')], [('-1.0', 'O[C@H]1[C@H](O)CO[C@@H](O)[C@@H]1O'), ('1.0', 'O'), ('1.0', 'OC1=C[C@@H](O)[C@H](O)OC1')], [('-1.0', 'O[C@H]1[C@H](O)CO[C@@H](O)[C@@H]1O'), ('1.0', 'O'), ('1.0', 'O[C@H]1C=CO[C@@H](O)[C@@H]1O')], [('-1.0', 'O[C@H]1[C@H](O)CO[C@@H](O)[C@@H]1O'), ('1.0', 'O=C[C@@H](O)[C@H](O)[C@@H](O)CO')], [('-1.0', 'O[C@H]1C=CO[C@@H](O)[C@@H]1O'), ('1.0', 'O=C[C@H](O)[C@@H](O)/C=C\\\\O')], [('-1.0', 'O=C[C@H](O)[C@@H](O)/C=C\\\\O'), ('1.0', 'O=CC[C@H](O)[C@@H](O)C=O')], [('-1.0', 'O=CC[C@H](O)[C@@H](O)C=O'), ('1.0', 'O=CCO'), ('1.0', 'O=CCC=O')], [('-1.0', 'O=CC[C@H](O)[C@@H](O)C=O'), ('1.0', 'O'), ('1.0', 'O=C/C=C\\\\[C@@H](O)C=O')], [('-1.0', 'O[C@H]1C=CO[C@@H](O)[C@@H]1O'), ('1.0', 'O'), ('1.0', 'OC1=COC=C[C@@H]1O')], [('-1.0', 'OC1=C[C@@H](O)[C@H](O)OC1'), ('1.0', 'O=C[C@H](O)/C=C(/O)CO')], [('-1.0', 'O=C[C@H](O)/C=C(/O)CO'), ('1.0', 'O=C[C@H](O)CC(=O)CO')], [('-1.0', 'O=C[C@H](O)CC(=O)CO'), ('1.0', 'O'), ('1.0', 'O=C/C=C/C(=O)CO')], [('-1.0', 'O=C[C@H](O)CC(=O)CO'), ('1.0', 'CC(=O)CO'), ('1.0', 'O=CC=O')], [('-1.0', 'OC1=C[C@@H](O)[C@H](O)OC1'), ('1.0', 'O'), ('1.0', 'OC1=COCC(O)=C1')], [('-1.0', 'OC1=COCC(O)=C1'), ('1.0', 'O=C1COCC(=O)C1')], [('-1.0', 'OC1=COC[C@@H](O)[C@@H]1O'), ('1.0', 'O'), ('1.0', 'OC1=COCC(O)=C1')], [('-1.0', 'OC1=COC[C@@H](O)[C@@H]1O'), ('1.0', 'O=C1COC[C@@H](O)[C@@H]1O')], [('-1.0', 'OC1=COC[C@@H](O)[C@@H]1O'), ('1.0', 'C=C(O)[C@@H](O)[C@H](O)C=O')], [('-1.0', 'C=C(O)[C@@H](O)[C@H](O)C=O'), ('1.0', 'CC(=O)[C@@H](O)[C@H](O)C=O')], [('-1.0', 'CC(=O)[C@@H](O)[C@H](O)C=O'), ('1.0', 'CC(=O)C=O'), ('1.0', 'O=CCO')], [('-1.0', 'CC(=O)[C@@H](O)[C@H](O)C=O'), ('1.0', 'O'), ('1.0', 'CC(=O)/C=C(/O)C=O')], [('-1.0', 'CC(=O)/C=C(/O)C=O'), ('1.0', 'CC(=O)CC(=O)C=O')], [('-1.0', 'OC1=COC[C@@H](O)[C@@H]1O'), ('1.0', 'O'), ('1.0', 'OC1=COC=C[C@@H]1O')], [('-1.0', 'OC1=COC=C[C@@H]1O'), ('1.0', 'O=C1COC=C[C@@H]1O')], [('-1.0', 'O=C[C@@H](O)[C@H](O)[C@@H](O)CO'), ('1.0', 'O'), ('1.0', 'O=C[C@H]1OC[C@H](O)[C@H]1O')], [('-1.0', 'O=C[C@H]1OC[C@H](O)[C@H]1O'), ('1.0', 'O'), ('1.0', 'O=CC1=C[C@@H](O)CO1')], [('-1.0', 'O=CC1=C[C@@H](O)CO1'), ('1.0', 'O'), ('1.0', 'O=Cc1ccco1')], [('-1.0', 'O=C[C@@H](O)[C@H](O)[C@@H](O)CO'), ('1.0', 'O'), ('1.0', 'O=C[C@@H](O)[C@@H](O)/C=C\\\\O')], [('-1.0', 'O=C[C@@H](O)[C@@H](O)/C=C\\\\O'), ('1.0', 'O=CC[C@H](O)[C@H](O)C=O')], [('-1.0', 'O=CC[C@H](O)[C@H](O)C=O'), ('1.0', 'O=CC(O)C=O'), ('1.0', 'CC=O')], [('-1.0', 'O=C[C@@H](O)[C@H](O)[C@@H](O)CO'), ('1.0', 'O'), ('1.0', 'O=C[C@@H](O)/C=C(\\\\O)CO')], [('-1.0', 'O=C[C@@H](O)/C=C(\\\\O)CO'), ('1.0', 'O=C[C@@H](O)CC(=O)CO')], [('-1.0', 'O=C[C@@H](O)CC(=O)CO'), ('1.0', 'O=CCO'), ('1.0', 'C=C(O)C=O')], [('-1.0', 'CC(=O)C=O'), ('1.0', 'CC(=O)C=O')], [('-1.0', 'O=C[C@@H](O)[C@H](O)[C@@H](O)CO'), ('1.0', 'O'), ('1.0', 'O=C/C=C(\\\\O)[C@@H](O)CO')], [('-1.0', 'O=C/C=C(\\\\O)[C@@H](O)CO'), ('1.0', 'O=CCC(=O)[C@@H](O)CO')], [('-1.0', 'O=CCC(=O)[C@@H](O)CO'), ('1.0', 'O=CCO'), ('1.0', 'O=CCC=O')], [('-1.0', 'O=C[C@@H](O)[C@H](O)[C@@H](O)CO'), ('1.0', 'O=CCO'), ('1.0', 'O=C[C@H](O)CO')], [('-1.0', 'O=C[C@H](O)CO'), ('1.0', 'O'), ('1.0', 'C=C(O)C=O')], [('-1.0', 'O=C[C@@H](O)[C@H](O)[C@@H](O)CO'), ('1.0', 'O=C[C@@H](O)[C@@H](O)CO'), ('1.0', 'C=O')], [('-1.0', 'O=C[C@@H](O)[C@@H](O)CO'), ('1.0', 'O=CCO'), ('1.0', 'O/C=C/O')], [('-1.0', 'O/C=C/O'), ('1.0', 'O=CCO')]]\n"
     ]
    }
   ],
   "source": [
    "print(reac_prod_list)"
   ]
  },
  {
   "cell_type": "code",
   "execution_count": 14,
   "metadata": {},
   "outputs": [],
   "source": [
    "#generating a dictionary of unique species from the species_list\n",
    "speciesindices = {unique_species[i]: i for i in range(0, len(unique_species))}\n",
    "\n",
    "indices_to_species = dict(zip(speciesindices.values(), speciesindices.keys()))"
   ]
  },
  {
   "cell_type": "code",
   "execution_count": 15,
   "metadata": {},
   "outputs": [
    {
     "data": {
      "text/plain": [
       "{'C=C(O)C=O': 0,\n",
       " 'C=C(O)[C@@H](O)[C@H](O)C=O': 1,\n",
       " 'C=O': 2,\n",
       " 'CC(=O)/C=C(/O)C=O': 3,\n",
       " 'CC(=O)C=O': 4,\n",
       " 'CC(=O)CC(=O)C=O': 5,\n",
       " 'CC(=O)CO': 6,\n",
       " 'CC(=O)[C@@H](O)[C@H](O)C=O': 7,\n",
       " 'CC=O': 8,\n",
       " 'O': 9,\n",
       " 'O/C=C/O': 10,\n",
       " 'O=C/C=C(\\\\O)[C@@H](O)CO': 11,\n",
       " 'O=C/C=C/C(=O)CO': 12,\n",
       " 'O=C/C=C\\\\[C@@H](O)C=O': 13,\n",
       " 'O=C1COC=C[C@@H]1O': 14,\n",
       " 'O=C1COCC(=O)C1': 15,\n",
       " 'O=C1COC[C@@H](O)[C@@H]1O': 16,\n",
       " 'O=CC(O)C=O': 17,\n",
       " 'O=CC1=C[C@@H](O)CO1': 18,\n",
       " 'O=CC=O': 19,\n",
       " 'O=CCC(=O)[C@@H](O)CO': 20,\n",
       " 'O=CCC=O': 21,\n",
       " 'O=CCO': 22,\n",
       " 'O=CC[C@H](O)[C@@H](O)C=O': 23,\n",
       " 'O=CC[C@H](O)[C@H](O)C=O': 24,\n",
       " 'O=C[C@@H](O)/C=C(\\\\O)CO': 25,\n",
       " 'O=C[C@@H](O)CC(=O)CO': 26,\n",
       " 'O=C[C@@H](O)[C@@H](O)/C=C\\\\O': 27,\n",
       " 'O=C[C@@H](O)[C@@H](O)CO': 28,\n",
       " 'O=C[C@@H](O)[C@H](O)[C@@H](O)CO': 29,\n",
       " 'O=C[C@H](O)/C=C(/O)CO': 30,\n",
       " 'O=C[C@H](O)CC(=O)CO': 31,\n",
       " 'O=C[C@H](O)CO': 32,\n",
       " 'O=C[C@H](O)[C@@H](O)/C=C\\\\O': 33,\n",
       " 'O=C[C@H]1OC[C@H](O)[C@H]1O': 34,\n",
       " 'O=Cc1ccco1': 35,\n",
       " 'OC1=COC=C[C@@H]1O': 36,\n",
       " 'OC1=COCC(O)=C1': 37,\n",
       " 'OC1=COC[C@@H](O)[C@@H]1O': 38,\n",
       " 'OC1=C[C@@H](O)[C@H](O)OC1': 39,\n",
       " 'O[C@H]1C=CO[C@@H](O)[C@@H]1O': 40,\n",
       " 'O[C@H]1[C@H](O)CO[C@@H](O)[C@@H]1O': 41}"
      ]
     },
     "execution_count": 15,
     "metadata": {},
     "output_type": "execute_result"
    }
   ],
   "source": [
    "speciesindices\n",
    "#indices_to_species"
   ]
  },
  {
   "cell_type": "code",
   "execution_count": 16,
   "metadata": {},
   "outputs": [
    {
     "data": {
      "text/plain": [
       "array([[0., 0., 0., ..., 0., 0., 0.],\n",
       "       [0., 0., 0., ..., 0., 0., 0.],\n",
       "       [0., 0., 0., ..., 0., 0., 0.],\n",
       "       ...,\n",
       "       [0., 0., 0., ..., 0., 0., 0.],\n",
       "       [0., 0., 0., ..., 0., 0., 0.],\n",
       "       [0., 0., 0., ..., 0., 0., 0.]])"
      ]
     },
     "execution_count": 16,
     "metadata": {},
     "output_type": "execute_result"
    }
   ],
   "source": [
    "reac_matrix = np.zeros((len(reac_prod_list),len(unique_species)), dtype = float)\n",
    "reac_matrix"
   ]
  },
  {
   "cell_type": "code",
   "execution_count": 17,
   "metadata": {},
   "outputs": [
    {
     "name": "stdout",
     "output_type": "stream",
     "text": [
      "[[ 0.  0.  0. ...  0.  0. -1.]\n",
      " [ 0.  0.  0. ...  1.  0. -1.]\n",
      " [ 0.  0.  0. ...  0.  1. -1.]\n",
      " ...\n",
      " [ 0.  0.  1. ...  0.  0.  0.]\n",
      " [ 0.  0.  0. ...  0.  0.  0.]\n",
      " [ 0.  0.  0. ...  0.  0.  0.]]\n"
     ]
    }
   ],
   "source": [
    "for rxnindex, reac_list in enumerate(reac_prod_list):\n",
    "    for x in range (len(reac_list)):\n",
    "        species = reac_list[x][1]\n",
    "        for i in range (len(unique_species)):\n",
    "            if i == speciesindices[species]:\n",
    "                reac_matrix[rxnindex][i] = float(reac_list[x][0])\n",
    "\n",
    "print(reac_matrix)\n",
    "                "
   ]
  },
  {
   "cell_type": "code",
   "execution_count": 18,
   "metadata": {},
   "outputs": [],
   "source": [
    "def build_reac_prod_dict(reac_list, prod_list, speciesindices):\n",
    "    \"\"\"\n",
    "    Build a dictionary of the reactants involved in each reaction,\n",
    "    along with their stoichiometric coefficients.  The keys of the\n",
    "    dictionary are the reaction numbers, the values are lists of lists\n",
    "    [[reactant1index, -1*coeff1],...]\n",
    "    Parameters\n",
    "    ----------\n",
    "    completereactionlist : str\n",
    "                           path to the file `complete_reaction_list.dat`\n",
    "    speciesindices       : dict\n",
    "                           the dictionary speciesindices from\n",
    "                           get_speciesindices()\n",
    "    Returns\n",
    "    -------\n",
    "    reactant_dict : dict\n",
    "                    a dictionary where keys are reaction numbers and values\n",
    "                    are lists of lists with the reactants and their\n",
    "                    stoichiometric coefficients for each reaction\n",
    "    \"\"\"\n",
    "    reactant_dict = {}\n",
    "    for rxnindex, reaction in enumerate(reac_list):\n",
    "        reactants = []\n",
    "        #\n",
    "        for x in range(len(reaction)):\n",
    "            # if the species is a reactant\n",
    "         #   if float(x.split('_')[0]) < 0:\n",
    "            reactants.append([speciesindices[reaction[x][1]],\n",
    "                                -1*float(reaction[x][0])])\n",
    "            #    in preceding line: *-1 because I want the |stoich coeff|\n",
    "        reactant_dict[rxnindex] = reactants\n",
    "        \n",
    "    products_dict = {}\n",
    "    for rxnindex, reaction in enumerate(prod_list):\n",
    "        products = []\n",
    "        #\n",
    "        for x in range(len(reaction)):\n",
    "            # if the species is a reactant\n",
    "         #   if float(x.split('_')[0]) < 0:\n",
    "            products.append([speciesindices[reaction[x][1]],\n",
    "                                1*float(reaction[x][0])])\n",
    "            #    in preceding line: *-1 because I want the |stoich coeff|\n",
    "        products_dict[rxnindex] = products\n",
    "    return reactant_dict, products_dict"
   ]
  },
  {
   "cell_type": "code",
   "execution_count": 19,
   "metadata": {},
   "outputs": [
    {
     "data": {
      "text/plain": [
       "{0: [[9, 1.0], [38, 1.0]],\n",
       " 1: [[9, 1.0], [39, 1.0]],\n",
       " 2: [[9, 1.0], [40, 1.0]],\n",
       " 3: [[29, 1.0]],\n",
       " 4: [[33, 1.0]],\n",
       " 5: [[23, 1.0]],\n",
       " 6: [[22, 1.0], [21, 1.0]],\n",
       " 7: [[9, 1.0], [13, 1.0]],\n",
       " 8: [[9, 1.0], [36, 1.0]],\n",
       " 9: [[30, 1.0]],\n",
       " 10: [[31, 1.0]],\n",
       " 11: [[9, 1.0], [12, 1.0]],\n",
       " 12: [[6, 1.0], [19, 1.0]],\n",
       " 13: [[9, 1.0], [37, 1.0]],\n",
       " 14: [[15, 1.0]],\n",
       " 15: [[9, 1.0], [37, 1.0]],\n",
       " 16: [[16, 1.0]],\n",
       " 17: [[1, 1.0]],\n",
       " 18: [[7, 1.0]],\n",
       " 19: [[4, 1.0], [22, 1.0]],\n",
       " 20: [[9, 1.0], [3, 1.0]],\n",
       " 21: [[5, 1.0]],\n",
       " 22: [[9, 1.0], [36, 1.0]],\n",
       " 23: [[14, 1.0]],\n",
       " 24: [[9, 1.0], [34, 1.0]],\n",
       " 25: [[9, 1.0], [18, 1.0]],\n",
       " 26: [[9, 1.0], [35, 1.0]],\n",
       " 27: [[9, 1.0], [27, 1.0]],\n",
       " 28: [[24, 1.0]],\n",
       " 29: [[17, 1.0], [8, 1.0]],\n",
       " 30: [[9, 1.0], [25, 1.0]],\n",
       " 31: [[26, 1.0]],\n",
       " 32: [[22, 1.0], [0, 1.0]],\n",
       " 33: [[4, 1.0]],\n",
       " 34: [[9, 1.0], [11, 1.0]],\n",
       " 35: [[20, 1.0]],\n",
       " 36: [[22, 1.0], [21, 1.0]],\n",
       " 37: [[22, 1.0], [32, 1.0]],\n",
       " 38: [[9, 1.0], [0, 1.0]],\n",
       " 39: [[28, 1.0], [2, 1.0]],\n",
       " 40: [[22, 1.0], [10, 1.0]],\n",
       " 41: [[22, 1.0]]}"
      ]
     },
     "execution_count": 19,
     "metadata": {},
     "output_type": "execute_result"
    }
   ],
   "source": [
    "reac_dict, prod_dict = build_reac_prod_dict(reactants_list, products_list, speciesindices)\n",
    "prod_dict"
   ]
  },
  {
   "cell_type": "code",
   "execution_count": 20,
   "metadata": {},
   "outputs": [],
   "source": [
    "def build_reac_species_dict(reacprodlist, specieslist):\n",
    "    \"\"\"\n",
    "    Build a dictionary where keys are species and values are lists with the\n",
    "    reactions that species is involved in, that reaction's sign in the net\n",
    "    rate equation, and the stoichiometric coefficient of the species in that\n",
    "    reaction.\n",
    "    Parameters\n",
    "    ----------\n",
    "    reacprodlist : list\n",
    "                        a list of both reactants and products and their \n",
    "                        stoichiometric co-effs\n",
    "    specieslist  : list\n",
    "                        a list of unique species in the mecahnism\n",
    "    \n",
    "    Returns\n",
    "    -------\n",
    "    reac_species : dict\n",
    "                   keys are the species in the model; values are lists of\n",
    "                   [reaction that species is involved in,\n",
    "                   sign of that species in the net rate equation,\n",
    "                   stoichiometric coefficient]\n",
    "    \"\"\"\n",
    "    #specieslist = get_specieslist(set_paths()[0])\n",
    "    reac_species = {}\n",
    "    for species in specieslist:\n",
    "        # This loop makes a list of which reactions \"species\" takes part in\n",
    "        # and what sign that term in the net rate eqn has\n",
    "        # and what the stoichiometric coefficient is\n",
    "    \n",
    "        reactions_involved = []\n",
    "        for rxnindex, reac_list in enumerate (reacprodlist):\n",
    "            for x in range(len(reac_list)):\n",
    "                # If the species being iterated over is part of this reaction\n",
    "                if species == reac_list[x][1]:\n",
    "                    # if the species is a reactant\n",
    "                    if float(reac_list[x][0]) < 0:\n",
    "                        reactions_involved.append(\n",
    "                            [rxnindex, float(reac_list[x][0]), str(-1), '+'+str(1)])\n",
    "                    \n",
    "                    # if the species is a product\n",
    "                    if float(reac_list[x][0]) > 0:\n",
    "                        reactions_involved.append(\n",
    "                            [rxnindex, float(reac_list[x][0]), '+'+str(1), str(-1)])\n",
    "    \n",
    "        reac_species[species] = reactions_involved\n",
    "    return reac_species"
   ]
  },
  {
   "cell_type": "code",
   "execution_count": 21,
   "metadata": {},
   "outputs": [
    {
     "data": {
      "text/plain": [
       "{'C=C(O)C=O': [[32, 1.0, '+1', '-1'], [38, 1.0, '+1', '-1']],\n",
       " 'C=C(O)[C@@H](O)[C@H](O)C=O': [[17, 1.0, '+1', '-1'], [18, -1.0, '-1', '+1']],\n",
       " 'C=O': [[39, 1.0, '+1', '-1']],\n",
       " 'CC(=O)/C=C(/O)C=O': [[20, 1.0, '+1', '-1'], [21, -1.0, '-1', '+1']],\n",
       " 'CC(=O)C=O': [[19, 1.0, '+1', '-1'],\n",
       "  [33, -1.0, '-1', '+1'],\n",
       "  [33, 1.0, '+1', '-1']],\n",
       " 'CC(=O)CC(=O)C=O': [[21, 1.0, '+1', '-1']],\n",
       " 'CC(=O)CO': [[12, 1.0, '+1', '-1']],\n",
       " 'CC(=O)[C@@H](O)[C@H](O)C=O': [[18, 1.0, '+1', '-1'],\n",
       "  [19, -1.0, '-1', '+1'],\n",
       "  [20, -1.0, '-1', '+1']],\n",
       " 'CC=O': [[29, 1.0, '+1', '-1']],\n",
       " 'O': [[0, 1.0, '+1', '-1'],\n",
       "  [1, 1.0, '+1', '-1'],\n",
       "  [2, 1.0, '+1', '-1'],\n",
       "  [7, 1.0, '+1', '-1'],\n",
       "  [8, 1.0, '+1', '-1'],\n",
       "  [11, 1.0, '+1', '-1'],\n",
       "  [13, 1.0, '+1', '-1'],\n",
       "  [15, 1.0, '+1', '-1'],\n",
       "  [20, 1.0, '+1', '-1'],\n",
       "  [22, 1.0, '+1', '-1'],\n",
       "  [24, 1.0, '+1', '-1'],\n",
       "  [25, 1.0, '+1', '-1'],\n",
       "  [26, 1.0, '+1', '-1'],\n",
       "  [27, 1.0, '+1', '-1'],\n",
       "  [30, 1.0, '+1', '-1'],\n",
       "  [34, 1.0, '+1', '-1'],\n",
       "  [38, 1.0, '+1', '-1']],\n",
       " 'O/C=C/O': [[40, 1.0, '+1', '-1'], [41, -1.0, '-1', '+1']],\n",
       " 'O=C/C=C(\\\\O)[C@@H](O)CO': [[34, 1.0, '+1', '-1'], [35, -1.0, '-1', '+1']],\n",
       " 'O=C/C=C/C(=O)CO': [[11, 1.0, '+1', '-1']],\n",
       " 'O=C/C=C\\\\[C@@H](O)C=O': [[7, 1.0, '+1', '-1']],\n",
       " 'O=C1COC=C[C@@H]1O': [[23, 1.0, '+1', '-1']],\n",
       " 'O=C1COCC(=O)C1': [[14, 1.0, '+1', '-1']],\n",
       " 'O=C1COC[C@@H](O)[C@@H]1O': [[16, 1.0, '+1', '-1']],\n",
       " 'O=CC(O)C=O': [[29, 1.0, '+1', '-1']],\n",
       " 'O=CC1=C[C@@H](O)CO1': [[25, 1.0, '+1', '-1'], [26, -1.0, '-1', '+1']],\n",
       " 'O=CC=O': [[12, 1.0, '+1', '-1']],\n",
       " 'O=CCC(=O)[C@@H](O)CO': [[35, 1.0, '+1', '-1'], [36, -1.0, '-1', '+1']],\n",
       " 'O=CCC=O': [[6, 1.0, '+1', '-1'], [36, 1.0, '+1', '-1']],\n",
       " 'O=CCO': [[6, 1.0, '+1', '-1'],\n",
       "  [19, 1.0, '+1', '-1'],\n",
       "  [32, 1.0, '+1', '-1'],\n",
       "  [36, 1.0, '+1', '-1'],\n",
       "  [37, 1.0, '+1', '-1'],\n",
       "  [40, 1.0, '+1', '-1'],\n",
       "  [41, 1.0, '+1', '-1']],\n",
       " 'O=CC[C@H](O)[C@@H](O)C=O': [[5, 1.0, '+1', '-1'],\n",
       "  [6, -1.0, '-1', '+1'],\n",
       "  [7, -1.0, '-1', '+1']],\n",
       " 'O=CC[C@H](O)[C@H](O)C=O': [[28, 1.0, '+1', '-1'], [29, -1.0, '-1', '+1']],\n",
       " 'O=C[C@@H](O)/C=C(\\\\O)CO': [[30, 1.0, '+1', '-1'], [31, -1.0, '-1', '+1']],\n",
       " 'O=C[C@@H](O)CC(=O)CO': [[31, 1.0, '+1', '-1'], [32, -1.0, '-1', '+1']],\n",
       " 'O=C[C@@H](O)[C@@H](O)/C=C\\\\O': [[27, 1.0, '+1', '-1'],\n",
       "  [28, -1.0, '-1', '+1']],\n",
       " 'O=C[C@@H](O)[C@@H](O)CO': [[39, 1.0, '+1', '-1'], [40, -1.0, '-1', '+1']],\n",
       " 'O=C[C@@H](O)[C@H](O)[C@@H](O)CO': [[3, 1.0, '+1', '-1'],\n",
       "  [24, -1.0, '-1', '+1'],\n",
       "  [27, -1.0, '-1', '+1'],\n",
       "  [30, -1.0, '-1', '+1'],\n",
       "  [34, -1.0, '-1', '+1'],\n",
       "  [37, -1.0, '-1', '+1'],\n",
       "  [39, -1.0, '-1', '+1']],\n",
       " 'O=C[C@H](O)/C=C(/O)CO': [[9, 1.0, '+1', '-1'], [10, -1.0, '-1', '+1']],\n",
       " 'O=C[C@H](O)CC(=O)CO': [[10, 1.0, '+1', '-1'],\n",
       "  [11, -1.0, '-1', '+1'],\n",
       "  [12, -1.0, '-1', '+1']],\n",
       " 'O=C[C@H](O)CO': [[37, 1.0, '+1', '-1'], [38, -1.0, '-1', '+1']],\n",
       " 'O=C[C@H](O)[C@@H](O)/C=C\\\\O': [[4, 1.0, '+1', '-1'], [5, -1.0, '-1', '+1']],\n",
       " 'O=C[C@H]1OC[C@H](O)[C@H]1O': [[24, 1.0, '+1', '-1'], [25, -1.0, '-1', '+1']],\n",
       " 'O=Cc1ccco1': [[26, 1.0, '+1', '-1']],\n",
       " 'OC1=COC=C[C@@H]1O': [[8, 1.0, '+1', '-1'],\n",
       "  [22, 1.0, '+1', '-1'],\n",
       "  [23, -1.0, '-1', '+1']],\n",
       " 'OC1=COCC(O)=C1': [[13, 1.0, '+1', '-1'],\n",
       "  [14, -1.0, '-1', '+1'],\n",
       "  [15, 1.0, '+1', '-1']],\n",
       " 'OC1=COC[C@@H](O)[C@@H]1O': [[0, 1.0, '+1', '-1'],\n",
       "  [15, -1.0, '-1', '+1'],\n",
       "  [16, -1.0, '-1', '+1'],\n",
       "  [17, -1.0, '-1', '+1'],\n",
       "  [22, -1.0, '-1', '+1']],\n",
       " 'OC1=C[C@@H](O)[C@H](O)OC1': [[1, 1.0, '+1', '-1'],\n",
       "  [9, -1.0, '-1', '+1'],\n",
       "  [13, -1.0, '-1', '+1']],\n",
       " 'O[C@H]1C=CO[C@@H](O)[C@@H]1O': [[2, 1.0, '+1', '-1'],\n",
       "  [4, -1.0, '-1', '+1'],\n",
       "  [8, -1.0, '-1', '+1']],\n",
       " 'O[C@H]1[C@H](O)CO[C@@H](O)[C@@H]1O': [[0, -1.0, '-1', '+1'],\n",
       "  [1, -1.0, '-1', '+1'],\n",
       "  [2, -1.0, '-1', '+1'],\n",
       "  [3, -1.0, '-1', '+1']]}"
      ]
     },
     "execution_count": 21,
     "metadata": {},
     "output_type": "execute_result"
    }
   ],
   "source": [
    "reac_species = build_reac_species_dict(reac_prod_list, unique_species)\n",
    "reac_species"
   ]
  },
  {
   "cell_type": "markdown",
   "metadata": {},
   "source": [
    "Next, we need to build the rate constants for all the reactions. The forward rate constants can be calculated using Arrhenius equation\n",
    "\n",
    "$k_f = A T^n exp (\\frac{-E_a}{RT}) $"
   ]
  },
  {
   "cell_type": "code",
   "execution_count": 22,
   "metadata": {},
   "outputs": [],
   "source": [
    "class Kinetic_params(object):\n",
    "      \n",
    "    def __init__(self):\n",
    "        self.forward_rate_params = []\n",
    "        self.forward_rates = []\n",
    "        #self.forward_E = []\n",
    "        #self.uniqueSpeciesList = []\n",
    "        #species_names = []\n",
    "    \n",
    "    def getForwardRateParameters(self, line):\n",
    "        \n",
    "        self.forward_rate_params = [line.split(' ')[0], line.split(' ')[1],\n",
    "                      line.split(' ')[2].split()[0]]\n",
    "      \n",
    "        return self.forward_rate_params\n",
    "    \n",
    "    def getForwardRateConstant(self, parameters, T):\n",
    "        \n",
    "        self.forward_rates = (eval(params[0]) * T ** eval(params[1]) *\n",
    "                             np.exp(- eval(params[2]) * KCAL_JL / (GAS_CONST * T)))\n",
    "        return self.forward_rates"
   ]
  },
  {
   "cell_type": "code",
   "execution_count": 23,
   "metadata": {},
   "outputs": [],
   "source": [
    "forward_rate_constants = []\n",
    "temp = 573\n"
   ]
  },
  {
   "cell_type": "code",
   "execution_count": 24,
   "metadata": {},
   "outputs": [],
   "source": [
    "for line in open(file_rateconstantlist, 'r').readlines():\n",
    "    f_params = Kinetic_params()\n",
    "    params = f_params.getForwardRateParameters(line)\n",
    "    forward_rate_constants.append(f_params.getForwardRateConstant(params, temp))"
   ]
  },
  {
   "cell_type": "code",
   "execution_count": 25,
   "metadata": {},
   "outputs": [
    {
     "data": {
      "text/plain": [
       "[9.070586400466592e-07,\n",
       " 9.070586400466592e-07,\n",
       " 1.8791556907858517e-07,\n",
       " 3.548590208923674e-05,\n",
       " 2.346720330517098e-05,\n",
       " 1.410002815679657e-05,\n",
       " 0.0005585146932428701,\n",
       " 3.281645112867024e-05,\n",
       " 9.070586400466592e-07,\n",
       " 2.346720330517098e-05,\n",
       " 1.410002815679657e-05,\n",
       " 3.281645112867024e-05,\n",
       " 0.0005585146932428701,\n",
       " 9.070586400466592e-07,\n",
       " 1.410002815679657e-05,\n",
       " 9.070586400466592e-07,\n",
       " 1.410002815679657e-05,\n",
       " 2.346720330517098e-05,\n",
       " 1.410002815679657e-05,\n",
       " 0.0005760247230552326,\n",
       " 3.281645112867024e-05,\n",
       " 1.410002815679657e-05,\n",
       " 1.8791556907858517e-07,\n",
       " 1.410002815679657e-05,\n",
       " 3.281645112867024e-05,\n",
       " 0.01126663897467137,\n",
       " 1.407177318117666e-06,\n",
       " 3.281645112867024e-05,\n",
       " 1.410002815679657e-05,\n",
       " 0.0005585146932428701,\n",
       " 3.281645112867024e-05,\n",
       " 1.410002815679657e-05,\n",
       " 0.0005585146932428701,\n",
       " 9.070586400466592e-07,\n",
       " 3.281645112867024e-05,\n",
       " 1.410002815679657e-05,\n",
       " 0.0005585146932428701,\n",
       " 0.0005585146932428701,\n",
       " 0.008681988741437899,\n",
       " 0.0005760247230552326,\n",
       " 0.0005585146932428701,\n",
       " 9.070586400466592e-07]"
      ]
     },
     "execution_count": 25,
     "metadata": {},
     "output_type": "execute_result"
    }
   ],
   "source": [
    "forward_rate_constants"
   ]
  },
  {
   "cell_type": "markdown",
   "metadata": {},
   "source": [
    "Next, to calculate the reverse rate constants, we need to calculate the thermodynamic equilibrium constants using the folloing equation\n",
    "\n",
    "$ K_{eq} = exp (-{\\Delta G}/ RT)$\n",
    "\n",
    "since, we have free energy corrections for all the species at a few specific temperature, we need to calculate it for any given temperature using linear interpolation"
   ]
  },
  {
   "cell_type": "code",
   "execution_count": 26,
   "metadata": {},
   "outputs": [
    {
     "data": {
      "text/html": [
       "<div>\n",
       "<style scoped>\n",
       "    .dataframe tbody tr th:only-of-type {\n",
       "        vertical-align: middle;\n",
       "    }\n",
       "\n",
       "    .dataframe tbody tr th {\n",
       "        vertical-align: top;\n",
       "    }\n",
       "\n",
       "    .dataframe thead th {\n",
       "        text-align: right;\n",
       "    }\n",
       "</style>\n",
       "<table border=\"1\" class=\"dataframe\">\n",
       "  <thead>\n",
       "    <tr style=\"text-align: right;\">\n",
       "      <th></th>\n",
       "      <th>Structure ID</th>\n",
       "      <th>smiles</th>\n",
       "      <th>electronic_energy</th>\n",
       "      <th>300K</th>\n",
       "      <th>400K</th>\n",
       "      <th>500K</th>\n",
       "      <th>600K</th>\n",
       "      <th>700K</th>\n",
       "      <th>800K</th>\n",
       "    </tr>\n",
       "  </thead>\n",
       "  <tbody>\n",
       "    <tr>\n",
       "      <th>0</th>\n",
       "      <td>1</td>\n",
       "      <td>O[C@H]1[C@H](O)CO[C@@H](O)[C@@H]1O</td>\n",
       "      <td>-572.654636</td>\n",
       "      <td>0.130831</td>\n",
       "      <td>0.114449</td>\n",
       "      <td>0.096034</td>\n",
       "      <td>0.075704</td>\n",
       "      <td>0.053580</td>\n",
       "      <td>0.029778</td>\n",
       "    </tr>\n",
       "    <tr>\n",
       "      <th>1</th>\n",
       "      <td>2</td>\n",
       "      <td>O</td>\n",
       "      <td>-76.422977</td>\n",
       "      <td>0.003836</td>\n",
       "      <td>-0.003547</td>\n",
       "      <td>-0.011258</td>\n",
       "      <td>-0.019238</td>\n",
       "      <td>-0.027448</td>\n",
       "      <td>-0.035861</td>\n",
       "    </tr>\n",
       "    <tr>\n",
       "      <th>2</th>\n",
       "      <td>3</td>\n",
       "      <td>OC1=COC[C@@H](O)[C@@H]1O</td>\n",
       "      <td>-496.193201</td>\n",
       "      <td>0.103466</td>\n",
       "      <td>0.088156</td>\n",
       "      <td>0.071087</td>\n",
       "      <td>0.052368</td>\n",
       "      <td>0.032109</td>\n",
       "      <td>0.010414</td>\n",
       "    </tr>\n",
       "    <tr>\n",
       "      <th>3</th>\n",
       "      <td>4</td>\n",
       "      <td>OC1=C[C@@H](O)[C@H](O)OC1</td>\n",
       "      <td>-496.205201</td>\n",
       "      <td>0.104026</td>\n",
       "      <td>0.088926</td>\n",
       "      <td>0.072080</td>\n",
       "      <td>0.053591</td>\n",
       "      <td>0.033566</td>\n",
       "      <td>0.012107</td>\n",
       "    </tr>\n",
       "    <tr>\n",
       "      <th>4</th>\n",
       "      <td>5</td>\n",
       "      <td>O[C@H]1C=CO[C@@H](O)[C@@H]1O</td>\n",
       "      <td>-496.204142</td>\n",
       "      <td>0.104043</td>\n",
       "      <td>0.088886</td>\n",
       "      <td>0.071984</td>\n",
       "      <td>0.053439</td>\n",
       "      <td>0.033355</td>\n",
       "      <td>0.011835</td>\n",
       "    </tr>\n",
       "  </tbody>\n",
       "</table>\n",
       "</div>"
      ],
      "text/plain": [
       "   Structure ID                              smiles  electronic_energy  \\\n",
       "0             1  O[C@H]1[C@H](O)CO[C@@H](O)[C@@H]1O        -572.654636   \n",
       "1             2                                   O         -76.422977   \n",
       "2             3            OC1=COC[C@@H](O)[C@@H]1O        -496.193201   \n",
       "3             4           OC1=C[C@@H](O)[C@H](O)OC1        -496.205201   \n",
       "4             5        O[C@H]1C=CO[C@@H](O)[C@@H]1O        -496.204142   \n",
       "\n",
       "       300K      400K      500K      600K      700K      800K  \n",
       "0  0.130831  0.114449  0.096034  0.075704  0.053580  0.029778  \n",
       "1  0.003836 -0.003547 -0.011258 -0.019238 -0.027448 -0.035861  \n",
       "2  0.103466  0.088156  0.071087  0.052368  0.032109  0.010414  \n",
       "3  0.104026  0.088926  0.072080  0.053591  0.033566  0.012107  \n",
       "4  0.104043  0.088886  0.071984  0.053439  0.033355  0.011835  "
      ]
     },
     "execution_count": 26,
     "metadata": {},
     "output_type": "execute_result"
    }
   ],
   "source": [
    "df_all = pd.read_csv('/Users/chowdhury/Documents/kmpy/kmpy/data/free_energy_library.dat', sep = '\\t')\n",
    "df_all.head()"
   ]
  },
  {
   "cell_type": "code",
   "execution_count": 27,
   "metadata": {},
   "outputs": [
    {
     "data": {
      "text/plain": [
       "<matplotlib.legend.Legend at 0x1a2405c4a8>"
      ]
     },
     "execution_count": 27,
     "metadata": {},
     "output_type": "execute_result"
    },
    {
     "data": {
      "image/png": "[encoded data removed]",
      "text/plain": [
       "<Figure size 432x288 with 1 Axes>"
      ]
     },
     "metadata": {
      "image/png": {
       "height": 277,
       "width": 415
      },
      "needs_background": "light"
     },
     "output_type": "display_data"
    }
   ],
   "source": [
    "import matplotlib.pyplot as plt\n",
    "from scipy import stats\n",
    "import matplotlib as mpl\n",
    "#mpl.rcParams['figure.dpi'] = 300\n",
    "plt.rcParams['font.family'] = \"serif\"\n",
    "plt.rcParams['text.color'] = \"blue\"\n",
    "%matplotlib inline\n",
    "%config InlineBackend.figure_format = 'retina'\n",
    "\n",
    "df_new = pd.DataFrame([df_all['300K'] + df_all['electronic_energy'],df_all['400K'] + df_all['electronic_energy'],df_all['500K'] + df_all['electronic_energy'],df_all['600K'] + df_all['electronic_energy'], df_all['700K'] + df_all['electronic_energy'],df_all['800K'] + df_all['electronic_energy']])\n",
    "#df_new.head()\n",
    "X = [300.0, 400.0, 500.0, 600.0, 700.0, 800.0]\n",
    "Y = df_new[0]\n",
    "#fit = np.polyfit(X,Y,1)\n",
    "#fit_fn = np.poly1d(fit)\n",
    "slope, intercept, r_value, p_value, std_err = stats.linregress(X,Y)\n",
    "#print(intercept)\n",
    "Y1 = [slope * float(x) + intercept for x in X]\n",
    "r_2 = r_value**2\n",
    "\n",
    "fig, ax = plt.subplots()\n",
    "ax.scatter( X, Y, marker = '*', color = 'red', label = 'Actual')\n",
    "ax.plot(X, Y1, '--k', label = 'linear fit')\n",
    "plt.xlabel('Temperature (K)')\n",
    "plt.ylabel('Free Energy (Hartrees)')\n",
    "plt.title('Free energy variation of Xylose')\n",
    "plt.text(500, -572.60, '$ R^2 $ = %f' %r_2)\n",
    "plt.legend()"
   ]
  },
  {
   "cell_type": "code",
   "execution_count": 28,
   "metadata": {},
   "outputs": [
    {
     "data": {
      "text/plain": [
       "<matplotlib.legend.Legend at 0x1a2416a0b8>"
      ]
     },
     "execution_count": 28,
     "metadata": {},
     "output_type": "execute_result"
    },
    {
     "data": {
      "image/png": "[encoded data removed]",
      "text/plain": [
       "<Figure size 432x288 with 1 Axes>"
      ]
     },
     "metadata": {
      "image/png": {
       "height": 277,
       "width": 408
      },
      "needs_background": "light"
     },
     "output_type": "display_data"
    }
   ],
   "source": [
    "X = [300.0, 400.0, 500.0, 600.0, 700.0, 800.0]\n",
    "Y = df_new[1]\n",
    "#fit = np.polyfit(X,Y,1)\n",
    "#fit_fn = np.poly1d(fit)\n",
    "slope, intercept, r_value, p_value, std_err = stats.linregress(X,Y)\n",
    "#print(intercept)\n",
    "Y1 = [slope * float(x) + intercept for x in X]\n",
    "r_2 = r_value**2\n",
    "\n",
    "fig, ax = plt.subplots()\n",
    "ax.scatter( X, Y, marker = '*', color = 'red', label = 'Actual')\n",
    "ax.plot(X, Y1, '--k', label = 'linear fit')\n",
    "plt.xlabel('Temperature (K)')\n",
    "plt.ylabel('Free Energy (Hartrees)')\n",
    "plt.title('Free energy variation of water')\n",
    "plt.text(500, -76.45, '$ R^2 $ = %f' %r_2)\n",
    "plt.legend()"
   ]
  },
  {
   "cell_type": "code",
   "execution_count": 29,
   "metadata": {},
   "outputs": [],
   "source": [
    "def build_free_energy_dict(free_energy_path, T):\n",
    "    \"\"\"\n",
    "    Build a dictionary of free energy at a given temperature for all the species \n",
    "    present in the mechanism. It reads the file free_energy_path which is basically\n",
    "    a library of gibbs free energy correction at different molecules at different temperatures.\n",
    "    Parameters\n",
    "    ----------\n",
    "    completereactionlist : str\n",
    "                           path to the file `free_energy_library.dat`\n",
    "    T                    : float\n",
    "                           temperature to calculate free energy\n",
    "    Returns\n",
    "    -------\n",
    "    free_energy.    : dict\n",
    "                    a dictionary where keys are unique species and values\n",
    "                    are free energy of species at a given temperature \n",
    "                    build from free_energy_library.dat\n",
    "    \"\"\"\n",
    "    \n",
    "    df = pd.read_csv(free_energy_path, sep = '\\t')\n",
    "\n",
    "    if \"{}K\".format(T) in df.columns:\n",
    "        df[\"Free Energy @{}K\".format(T)] = df['electronic_energy'] + df[\"{}K\".format(T)]\n",
    "    else:\n",
    "        temp_low = math.floor(T / 100.0)* 100\n",
    "        temp_high = math.ceil(T / 100.0)* 100\n",
    "        df[\"{}K\".format(T)] = (df[\"{}K\".format(temp_high)] - df[\"{}K\".format(temp_low)])*(temp - temp_low)/(temp_high - temp_low) + df[\"{}K\".format(temp_low)]\n",
    "        df[\"Free Energy @{}K\".format(T)] = df['electronic_energy'] + df[\"{}K\".format(T)]\n",
    "    print(df.head())\n",
    "    \n",
    "    free_energy = dict([(i, a) for i, a  in zip(df.smiles, df['Free Energy @' + str(T) +'K'])])\n",
    "    \n",
    "    return free_energy"
   ]
  },
  {
   "cell_type": "code",
   "execution_count": 30,
   "metadata": {},
   "outputs": [
    {
     "name": "stdout",
     "output_type": "stream",
     "text": [
      "   Structure ID                              smiles  electronic_energy  \\\n",
      "0             1  O[C@H]1[C@H](O)CO[C@@H](O)[C@@H]1O        -572.654636   \n",
      "1             2                                   O         -76.422977   \n",
      "2             3            OC1=COC[C@@H](O)[C@@H]1O        -496.193201   \n",
      "3             4           OC1=C[C@@H](O)[C@H](O)OC1        -496.205201   \n",
      "4             5        O[C@H]1C=CO[C@@H](O)[C@@H]1O        -496.204142   \n",
      "\n",
      "       300K      400K      500K      600K      700K      800K      573K  \\\n",
      "0  0.130831  0.114449  0.096034  0.075704  0.053580  0.029778  0.081193   \n",
      "1  0.003836 -0.003547 -0.011258 -0.019238 -0.027448 -0.035861 -0.017083   \n",
      "2  0.103466  0.088156  0.071087  0.052368  0.032109  0.010414  0.057422   \n",
      "3  0.104026  0.088926  0.072080  0.053591  0.033566  0.012107  0.058583   \n",
      "4  0.104043  0.088886  0.071984  0.053439  0.033355  0.011835  0.058446   \n",
      "\n",
      "   Free Energy @573K  \n",
      "0        -572.573443  \n",
      "1         -76.440061  \n",
      "2        -496.135779  \n",
      "3        -496.146618  \n",
      "4        -496.145696  \n",
      "{'O[C@H]1[C@H](O)CO[C@@H](O)[C@@H]1O': -572.5734428000001, 'O': -76.44006077, 'OC1=COC[C@@H](O)[C@@H]1O': -496.13577926999994, 'OC1=C[C@@H](O)[C@H](O)OC1': -496.14661846999996, 'O[C@H]1C=CO[C@@H](O)[C@@H]1O': -496.14569574999996, 'O=C[C@@H](O)[C@H](O)[C@@H](O)CO': -572.5674811700001, 'O=C[C@H](O)[C@@H](O)/C=C\\\\O': -496.13753674, 'O=CC[C@H](O)[C@@H](O)C=O': -496.15196339, 'O=CCO': -229.03776998, 'O=CCC=O': -267.13324376, 'O=C/C=C\\\\[C@@H](O)C=O': -419.7210245499999, 'OC1=COC=C[C@@H]1O': -419.71468861000005, 'O=C[C@H](O)/C=C(/O)CO': -496.13948026, 'O=C[C@H](O)CC(=O)CO': -496.15549454, 'O=C/C=C/C(=O)CO': -419.72695352000005, 'CC(=O)CO': -268.33246429999997, 'O=CC=O': -227.83691937999998, 'OC1=COCC(O)=C1': -419.71331369, 'O=C1COCC(=O)C1': -419.74221838000005, 'O=C1COC[C@@H](O)[C@@H]1O': -496.15028652999996, 'C=C(O)[C@@H](O)[C@H](O)C=O': -496.13876051, 'CC(=O)[C@@H](O)[C@H](O)C=O': -496.16006602, 'CC(=O)C=O': -267.13257472, 'CC(=O)/C=C(/O)C=O': -419.74101216, 'CC(=O)CC(=O)C=O': -419.74502075, 'O=C1COC=C[C@@H]1O': -419.71469271000007, 'O=C[C@H]1OC[C@H](O)[C@H]1O': -496.14205146999996, 'O=CC1=C[C@@H](O)CO1': -419.7172937000001, 'O=Cc1ccco1': -343.32075639999994, 'O=C[C@@H](O)[C@@H](O)/C=C\\\\O': -496.14103902, 'O=CC[C@H](O)[C@H](O)C=O': -496.15541007, 'O=CC(O)C=O': -342.35558369, 'CC=O': -153.81669279999997, 'O=C[C@@H](O)/C=C(\\\\O)CO': -496.14596897999996, 'O=C[C@@H](O)CC(=O)CO': -496.15832871, 'C=C(O)C=O': -267.12921262, 'O=C/C=C(\\\\O)[C@@H](O)CO': -496.15195112000004, 'O=CCC(=O)[C@@H](O)CO': -496.1556096499999, 'O=C[C@H](O)CO': -343.54348016000006, 'O=C[C@@H](O)[C@@H](O)CO': -458.05563357, 'C=O': -114.51616431999999, 'O/C=C/O': -229.0216262, 'C-atom': -37.810453009999996, '[HH]': -1.184619467, '[C]=O': -113.35152743, 'C(=O)=O': -188.62084957}\n"
     ]
    }
   ],
   "source": [
    "free_energy_dict = build_free_energy_dict(file_free_energy, temp)\n",
    "print(free_energy_dict)"
   ]
  },
  {
   "cell_type": "code",
   "execution_count": 31,
   "metadata": {},
   "outputs": [
    {
     "data": {
      "text/plain": [
       "Text(0, 0.5, 'Free Energy Change (kJ/mol)')"
      ]
     },
     "execution_count": 31,
     "metadata": {},
     "output_type": "execute_result"
    },
    {
     "data": {
      "image/png": "[encoded data removed]",
      "text/plain": [
       "<Figure size 432x288 with 1 Axes>"
      ]
     },
     "metadata": {
      "image/png": {
       "height": 265,
       "width": 397
      },
      "needs_background": "light"
     },
     "output_type": "display_data"
    }
   ],
   "source": [
    "temperature = [300, 373, 473, 573, 673, 773]\n",
    "import matplotlib.pyplot as plt\n",
    "\n",
    "reactants_list1, products_list1, unique_species1 = build_species_list('/Users/chowdhury/Documents/kmpy/kmpy/data/complete_reaction_list.dat')\n",
    "reac_prod_list1 = [react + prod for react, prod in zip(reactants_list1, products_list1)]\n",
    "\n",
    "for temp in temperature:\n",
    "    df = pd.read_csv('/Users/chowdhury/Documents/kmpy/kmpy/data/free_energy_library.dat', sep = '\\t')\n",
    "    #df = pd.read_csv(file_free_energy, sep = '\\t')\n",
    "    if str(temp)+'K' in df.columns:\n",
    "        df['Free Energy @' + str(temp) +'K'] = df['electronic_energy'] + df[str(temp)+'K']\n",
    "    else:\n",
    "        temp_low = math.floor(temp / 100.0)* 100\n",
    "        temp_high = math.ceil(temp / 100.0)* 100\n",
    "        df[str(temp)+'K'] = (df[str(temp_high)+'K'] - df[str(temp_low)+'K'])*(temp - temp_low)/(temp_high - temp_low) + df[str(temp_low)+'K']\n",
    "        df['Free Energy @' + str(temp) +'K'] = df['electronic_energy'] + df[str(temp)+'K']\n",
    "    \n",
    "    free_energy_dict1 = dict([(i, a) for i, a  in zip(df.smiles, df['Free Energy @' + str(temp) +'K'])])\n",
    "#    print (free_energy_dict)\n",
    "    mol_change = []\n",
    "    free_energy_change = []\n",
    "\n",
    "    for i, item in enumerate (reac_prod_list1):\n",
    "        n_reac = 0\n",
    "        n_prod = 0\n",
    "        reac_free_energy = 0\n",
    "        prod_free_energy = 0\n",
    "        for entry in item:\n",
    "        \n",
    "            #print(entry[0])\n",
    "            if float(entry[0]) < 0:\n",
    "                n_reac = n_reac + abs(float(entry[0]))\n",
    "                reac_free_energy = free_energy_dict1[entry[1]] + reac_free_energy\n",
    "            else:\n",
    "                prod_free_energy = free_energy_dict1[entry[1]] + prod_free_energy\n",
    "                n_prod = n_prod + abs(float(entry[0]))\n",
    "        #print(n_reac)\n",
    "        mol_change.append(n_prod - n_reac)\n",
    "        #print(mol_change)\n",
    "        free_energy_change.append((prod_free_energy - reac_free_energy) * 2625.5)\n",
    "    plt.plot(free_energy_change, label = '%sK' %temp)\n",
    "\n",
    "plt.legend()\n",
    "plt.xlim(0,10)\n",
    "plt.ylim(-90,100)\n",
    "plt.xlabel('Reaction Number')\n",
    "plt.ylabel('Free Energy Change (kJ/mol)')"
   ]
  },
  {
   "cell_type": "code",
   "execution_count": 32,
   "metadata": {},
   "outputs": [],
   "source": [
    "def build_free_energy_change(complete_list, free_energy):\n",
    "    \"\"\"\n",
    "    Calculate the reverse rate constants of all the reactions. There are two steps \n",
    "    doing this\n",
    "    1. Calculate the change in free energy for each reaction\n",
    "            delG = G(products) - G(reactanat)\n",
    "    This is calculated from the complete lists of reactions and free_energy_dict\n",
    "    2. Use delG to calculate the equlilibrium constant\n",
    "            Keq = exp (- delG/Gas Const * Temp)\n",
    "    3. Use the following equation to calculate the reverse rate constant\n",
    "            Keq = Kf / Kr * (Gas Const * Temp / Pressure)^n\n",
    "    where n = total number of product molecules - total number of reactant molecules\n",
    "    ----------\n",
    "    complete_list        : list\n",
    "                           A list of all the reactions with reactant and \n",
    "                         product species and their stoichimetric coeffs\n",
    "    free_energy          : dict\n",
    "                          A dictionary of free energies of all the species\n",
    "                          at a given temperature, obtained from \n",
    "                          build_free_energy_dict function\n",
    "    forward_rate         : A list of forward rate constants for all the reactions\n",
    "                         obtained from build_forward_reaction_rates\n",
    "    T                    : float\n",
    "                           temperature to calculate free energy\n",
    "    Returns\n",
    "    -------\n",
    "     reverse_rates       : list\n",
    "                         A list of reverse rate constants\n",
    "    \"\"\"\n",
    "    \n",
    "    \n",
    "    mol_change = []\n",
    "    gibbs_energy_list = []\n",
    "\n",
    "    for i, item in enumerate (complete_list):\n",
    "        n_reac = 0\n",
    "        n_prod = 0\n",
    "        reac_free_energy = 0\n",
    "        prod_free_energy = 0\n",
    "        for entry in item:\n",
    "        \n",
    "            if float(entry[0]) < 0:\n",
    "                n_reac = n_reac + abs(float(entry[0]))\n",
    "                reac_free_energy = abs(float(entry[0])) * free_energy[entry[1]] + reac_free_energy\n",
    "            else:\n",
    "                prod_free_energy = abs(float(entry[0])) * free_energy[entry[1]] + prod_free_energy\n",
    "                n_prod = n_prod + abs(float(entry[0]))\n",
    "        #print(n_reac)\n",
    "        mol_change.append(n_prod - n_reac)\n",
    "        gibbs_energy_list.append((prod_free_energy - reac_free_energy) * HT_JL)\n",
    "    \n",
    "    return gibbs_energy_list, mol_change\n",
    "    "
   ]
  },
  {
   "cell_type": "code",
   "execution_count": 33,
   "metadata": {},
   "outputs": [
    {
     "data": {
      "text/plain": [
       "[-6.293953619833474,\n",
       " -34.75227321973887,\n",
       " -32.32967185957523,\n",
       " 15.652259565004215,\n",
       " 21.4214807549626,\n",
       " -37.87716957504864,\n",
       " -50.01669392511337,\n",
       " -23.949627214829917,\n",
       " -23.770305565252812,\n",
       " 18.74137035483423,\n",
       " -42.04549213994474,\n",
       " -30.245103625125182,\n",
       " -36.465937069859706,\n",
       " -17.737851745117297,\n",
       " -75.88926359512377,\n",
       " -46.19617134517193,\n",
       " -38.088811130042615,\n",
       " -7.8272456201410705,\n",
       " -55.937616504975296,\n",
       " -26.986674339997336,\n",
       " -55.153642205104035,\n",
       " -10.524553044882765,\n",
       " -49.80602380529305,\n",
       " -0.010764550032519082,\n",
       " -38.41387428486962,\n",
       " -40.17802650034355,\n",
       " -114.27087048461817,\n",
       " -35.75568680996946,\n",
       " -37.73119177505902,\n",
       " -44.28278570981212,\n",
       " -48.699296789741254,\n",
       " -32.450471115037345,\n",
       " -22.720788195013256,\n",
       " 0.0,\n",
       " -64.40540536007813,\n",
       " -9.605470514689983,\n",
       " -40.44343829530922,\n",
       " -36.1504307350026,\n",
       " -67.72012536478925,\n",
       " -11.333548359753536,\n",
       " -9.878732555062669,\n",
       " -42.385494390056394]"
      ]
     },
     "execution_count": 33,
     "metadata": {},
     "output_type": "execute_result"
    }
   ],
   "source": [
    "gibbs_energy, mol = build_free_energy_change(reac_prod_list, free_energy_dict)\n",
    "gibbs_energy"
   ]
  },
  {
   "cell_type": "markdown",
   "metadata": {},
   "source": [
    "Now, after all these, we can calculate the thermodynamic equilibrium constants using the folloing equation\n",
    "\n",
    "$ K_{eq} = exp (-\\frac{\\Delta G}{RT})$"
   ]
  },
  {
   "cell_type": "code",
   "execution_count": 34,
   "metadata": {},
   "outputs": [
    {
     "data": {
      "text/plain": [
       "[2.662701469730383,\n",
       " 223.0653627611531,\n",
       " 153.01061347395017,\n",
       " 0.0875542570126671,\n",
       " 0.035679133346696375,\n",
       " 362.74485489018355,\n",
       " 2398.53540472401,\n",
       " 41.536379572422106,\n",
       " 40.39343021779688,\n",
       " 0.05414101619672319,\n",
       " 693.8751416555186,\n",
       " 110.62518810095695,\n",
       " 291.22945994024144,\n",
       " 15.80008639948718,\n",
       " 134375.54086602136,\n",
       " 1323.6376831976913,\n",
       " 374.8894572058772,\n",
       " 3.380156206999873,\n",
       " 6026.43575996146,\n",
       " 66.6286832383256,\n",
       " 5334.360983593072,\n",
       " 5.1429344541975235,\n",
       " 2321.185310666908,\n",
       " 1.0016763709715983,\n",
       " 394.3390738208217,\n",
       " 518.901346861011,\n",
       " 52724142.39175704,\n",
       " 260.75892222372846,\n",
       " 354.5982702661577,\n",
       " 982.8098162619151,\n",
       " 1953.985019799486,\n",
       " 155.91386244044503,\n",
       " 34.30742882967275,\n",
       " 1.0,\n",
       " 22505.200307224386,\n",
       " 4.457616856914659,\n",
       " 540.7796757596057,\n",
       " 277.2774395909294,\n",
       " 37694.63968196012,\n",
       " 5.832838452522933,\n",
       " 4.651240448510527,\n",
       " 731.5726208038838]"
      ]
     },
     "execution_count": 34,
     "metadata": {},
     "output_type": "execute_result"
    }
   ],
   "source": [
    "equilibrium_constants = [np.exp(-n * 1000 /(GAS_CONST * temp)) for n in gibbs_energy]\n",
    "equilibrium_constants"
   ]
  },
  {
   "cell_type": "markdown",
   "metadata": {},
   "source": [
    "Finally, we can calculate the reverse rate constants using the following equaion\n",
    "\n",
    "\n",
    "$ K_{eq} = \\frac{k_f}{k_r} (\\frac{1000RT}{P})^{\\Delta n}$, ${\\Delta n}$ = number of product molecules - number of reactant molecules\n",
    "\n",
    "multiplied by 1000 to convert it from $ \\frac{m^3}{mol*s}$ to $ \\frac{L}{mol*s}$"
   ]
  },
  {
   "cell_type": "code",
   "execution_count": 35,
   "metadata": {},
   "outputs": [
    {
     "name": "stdout",
     "output_type": "stream",
     "text": [
      "[2.1606567969775584e-05, 2.5791471870311387e-07, 7.789581199339916e-08, 0.00040530184710610634, 0.0006577290731010391, 3.887037394662752e-08, 1.4769349615874917e-05, 5.011132377076412e-05, 1.424287067940147e-06, 0.0004334459334841835, 2.0320699374177427e-08, 1.8815271646087188e-05, 0.0001216388203504271, 3.6412358030408087e-06, 1.049300197485713e-10, 4.3464945898158e-08, 3.7611162132663786e-08, 6.942638703079281e-06, 2.3396960854498087e-09, 0.0005483436201812529, 3.9019537137079855e-07, 2.741630927317868e-06, 5.134827420020606e-09, 1.4076430836758117e-05, 5.27830768797909e-06, 0.0013771539174435533, 1.6928255437589136e-12, 7.982250222805953e-06, 3.976338673680849e-08, 3.6044418128789184e-05, 1.06522974532967e-06, 9.043473066535317e-08, 0.001032569596931839, 9.070586400466592e-07, 9.248720014061966e-08, 3.1631314689876485e-06, 6.550691445395672e-05, 0.00012775943117004243, 1.4608732059030074e-05, 0.006263745116926806, 0.007616206547603248, 1.2398750503401068e-09]\n"
     ]
    }
   ],
   "source": [
    "reverse_rate_constants = [(a / b) * (GAS_CONST * temp * 1000/ PR_ATM)**c if c < 3 else 0 for (a, b, c) in zip(forward_rate_constants, equilibrium_constants, mol)]\n",
    "\n",
    "print(reverse_rate_constants)"
   ]
  },
  {
   "cell_type": "code",
   "execution_count": 36,
   "metadata": {},
   "outputs": [
    {
     "ename": "NameError",
     "evalue": "name 'build_rate_eqn' is not defined",
     "output_type": "error",
     "traceback": [
      "\u001b[0;31m---------------------------------------------------------------------------\u001b[0m",
      "\u001b[0;31mNameError\u001b[0m                                 Traceback (most recent call last)",
      "\u001b[0;32m<ipython-input-36-82f22e82c481>\u001b[0m in \u001b[0;36m<module>\u001b[0;34m\u001b[0m\n\u001b[1;32m     51\u001b[0m \u001b[0;34m\u001b[0m\u001b[0m\n\u001b[1;32m     52\u001b[0m \u001b[0;34m\u001b[0m\u001b[0m\n\u001b[0;32m---> 53\u001b[0;31m \u001b[0mrates_f\u001b[0m \u001b[0;34m=\u001b[0m \u001b[0mbuild_rate_eqn\u001b[0m\u001b[0;34m(\u001b[0m\u001b[0mforward_rate_constants\u001b[0m\u001b[0;34m,\u001b[0m \u001b[0mreac_dict\u001b[0m\u001b[0;34m,\u001b[0m \u001b[0mindices_to_species\u001b[0m\u001b[0;34m,\u001b[0m \u001b[0mhuman\u001b[0m \u001b[0;34m=\u001b[0m \u001b[0;34m'no'\u001b[0m\u001b[0;34m,\u001b[0m \u001b[0mforward\u001b[0m \u001b[0;34m=\u001b[0m \u001b[0;34m'yes'\u001b[0m\u001b[0;34m)\u001b[0m\u001b[0;34m\u001b[0m\u001b[0;34m\u001b[0m\u001b[0m\n\u001b[0m\u001b[1;32m     54\u001b[0m \u001b[0mrates_r\u001b[0m \u001b[0;34m=\u001b[0m \u001b[0mbuild_rate_eqn\u001b[0m\u001b[0;34m(\u001b[0m\u001b[0mreverse_rate_constants\u001b[0m\u001b[0;34m,\u001b[0m \u001b[0mprod_dict\u001b[0m\u001b[0;34m,\u001b[0m \u001b[0mindices_to_species\u001b[0m\u001b[0;34m,\u001b[0m \u001b[0mhuman\u001b[0m \u001b[0;34m=\u001b[0m \u001b[0;34m'no'\u001b[0m\u001b[0;34m,\u001b[0m \u001b[0mforward\u001b[0m \u001b[0;34m=\u001b[0m \u001b[0;34m'no'\u001b[0m\u001b[0;34m)\u001b[0m\u001b[0;34m\u001b[0m\u001b[0;34m\u001b[0m\u001b[0m\n\u001b[1;32m     55\u001b[0m \u001b[0;34m\u001b[0m\u001b[0m\n",
      "\u001b[0;31mNameError\u001b[0m: name 'build_rate_eqn' is not defined"
     ]
    }
   ],
   "source": [
    "def build_rate_eqn_old(k_mat, r_dict, s_indices, human, forward):\n",
    "\n",
    "    \"\"\" This function writes the list of rate expressions for each reaction.\n",
    "    Parameters\n",
    "    ----------\n",
    "    kmat               : list\n",
    "                         A list of reaction rate contstants (k_forward or k_reverse)\n",
    "    r_dict             : dictionary\n",
    "                         reactant or product directory\n",
    "    s_indices          : dict\n",
    "                         the reverse of speciesindices (keys are the indices\n",
    "                         and values are the species)\n",
    "    human              : str, optional\n",
    "                         indicate whether the output of this function should\n",
    "                         be formatted for a human to read ('yes'). Default\n",
    "                         is 'no'\n",
    "    forward             : str\n",
    "                        reaction type,if 'yes', it is forward reaction\n",
    "                        default is 'yes'\n",
    "    Returns\n",
    "    -------\n",
    "    rates_list : list\n",
    "                A list of the rate expressions for all the reactions in the mecahnism\n",
    "    \"\"\"\n",
    "\n",
    "    rates_list = []\n",
    "    for i, line in enumerate(k_mat):\n",
    "        if forward == 'yes':\n",
    "            rate = 'rate_f[%s] = kf(T,%s) ' % (i, i)\n",
    "        else:\n",
    "            rate = 'rate_r[%s] = kr(T,%s) ' % (i, i)\n",
    "        concentrations = ''\n",
    "        for entry in r_dict[i]:\n",
    "            if entry == 'n':   # if there is no reaction\n",
    "                concentrations = '* 0'\n",
    "                break\n",
    "            else:\n",
    "                if human == 'no':\n",
    "                    concentrations += '* y[%s]**%s ' % (entry[0], entry[1])\n",
    "                elif human == 'yes':\n",
    "                    concentrations += '* [%s]**%s ' % \\\n",
    "                        (s_indices[entry[0]], entry[1])\n",
    "                else:\n",
    "                    raise ValueError('human must be a string: yes or no')\n",
    "        rate += concentrations\n",
    "\n",
    "        #rate = rate_reactant + rate_product\n",
    "        rates_list.append(rate)\n",
    "        \n",
    "    return rates_list\n",
    "\n",
    "\n",
    "rates_f = build_rate_eqn(forward_rate_constants, reac_dict, indices_to_species, human = 'no', forward = 'yes')\n",
    "rates_r = build_rate_eqn(reverse_rate_constants, prod_dict, indices_to_species, human = 'no', forward = 'no')\n",
    "\n",
    "\n",
    "print(rates_r)"
   ]
  },
  {
   "cell_type": "code",
   "execution_count": 37,
   "metadata": {},
   "outputs": [
    {
     "name": "stdout",
     "output_type": "stream",
     "text": [
      "[ 0.  0.  0.  0.  0.  0.  0.  0.  0.  1.  0.  0.  0.  0.  0.  0.  0.  0.\n",
      "  0.  0.  0.  0.  0.  0.  0.  0.  0.  0.  0.  0.  0.  0.  0.  0.  0.  0.\n",
      "  0.  0.  0.  1.  0. -1.]\n"
     ]
    }
   ],
   "source": [
    "#rate_matrix = np.zeros(len(reac_prod_list), dtype = float)\n",
    "rate_list = []\n",
    "for rxnindex, reac_list in enumerate(reac_prod_list):\n",
    "    #rate = ''\n",
    "    rate_f = 'kf[%s] ' %rxnindex\n",
    "    rate_r = '- kr[%s]' %rxnindex\n",
    "    concentration_f = ''\n",
    "    concentration_r = ''\n",
    "    for x in range (len(reac_list)):\n",
    "        species = reac_list[x][1]\n",
    "        for i in range (len(unique_species)):\n",
    "            if i == speciesindices[species]:\n",
    "                reac_matrix[rxnindex][i] = float(reac_list[x][0])\n",
    "                if float(reac_list[x][0]) < 0:\n",
    "                    if abs(float(reac_list[x][0])) == 1:\n",
    "                        concentration_f += '* y[%s] ' % (i)\n",
    "                    else:    \n",
    "                        concentration_f += '* y[%s] ** %s ' % (i, abs(float(reac_list[x][0])))\n",
    "                else:\n",
    "                    if abs(float(reac_list[x][0])) == 1:\n",
    "                        concentration_r += '* y[%s] ' % (i)\n",
    "                    else:    \n",
    "                        concentration_r += '* y[%s] ** %s ' % (i, float(reac_list[x][0]))\n",
    "                    \n",
    "    rate = rate_f + concentration_f + rate_r + concentration_r\n",
    "    #print(rate)\n",
    "    rate_list.append(rate)\n",
    "print(reac_matrix[1])\n",
    "#print(rate_list)\n",
    "\n",
    "\n",
    "        "
   ]
  },
  {
   "cell_type": "code",
   "execution_count": 38,
   "metadata": {},
   "outputs": [],
   "source": [
    "def build_dydt_list(rates_forward, rates_reverse, specieslist, species_rxns, human='no'):\n",
    "    \"\"\"This function returns the list of dydt expressions generated for all\n",
    "    the reactions from rates_list.\n",
    "    Parameters\n",
    "    ----------\n",
    "    rates_list         : list\n",
    "                         the output of build_rates_list()\n",
    "    specieslist        : list\n",
    "                         a list of all the species in the kinetic scheme\n",
    "    species_rxns       : dict\n",
    "                         dictionary where keys that are the model species and\n",
    "                         values are the reactions they are involved in\n",
    "    human              : str, optional\n",
    "                         indicate whether the output of this function should\n",
    "                         be formatted for a human to read ('yes'). Default\n",
    "                         is 'no'\n",
    "    Returns\n",
    "    -------\n",
    "    dydt_expressions : list\n",
    "                       expressions for the ODEs expressing the concentration\n",
    "                       of each species with time\n",
    "    \"\"\"\n",
    "    dydt_expressions = []\n",
    "    for species in specieslist:\n",
    "        rate_formation = 'd[%s]/dt = ' % (species)\n",
    "        # \"entry\" is [reaction#, sign of that reaction, coefficient]\n",
    "        for entry in species_rxns[species]:\n",
    "            if human == 'no':\n",
    "                rate_formation += '%s*%s' % \\\n",
    "                    (entry[2], rates_forward[entry[0]].split(' = ')[1])\n",
    "                rate_formation += '%s*%s' % \\\n",
    "                    (entry[3], rates_reverse[entry[0]].split(' = ')[1])\n",
    "            elif human == 'yes':\n",
    "                rate_formation += '%s*rate_f[%s] ' % (entry[2], entry[0])\n",
    "                rate_formation += '%s*rate_r[%s] ' % (entry[3], entry[0])\n",
    "            else:\n",
    "                raise ValueError('human must be a string: yes or no')\n",
    "        dydt_expressions.append(rate_formation)\n",
    "    return dydt_expressions\n"
   ]
  },
  {
   "cell_type": "code",
   "execution_count": 39,
   "metadata": {},
   "outputs": [
    {
     "ename": "NameError",
     "evalue": "name 'rates_f' is not defined",
     "output_type": "error",
     "traceback": [
      "\u001b[0;31m---------------------------------------------------------------------------\u001b[0m",
      "\u001b[0;31mNameError\u001b[0m                                 Traceback (most recent call last)",
      "\u001b[0;32m<ipython-input-39-185c406f805d>\u001b[0m in \u001b[0;36m<module>\u001b[0;34m\u001b[0m\n\u001b[0;32m----> 1\u001b[0;31m \u001b[0mdydt_list\u001b[0m \u001b[0;34m=\u001b[0m \u001b[0mbuild_dydt_list\u001b[0m\u001b[0;34m(\u001b[0m\u001b[0mrates_f\u001b[0m\u001b[0;34m,\u001b[0m \u001b[0mrates_r\u001b[0m\u001b[0;34m,\u001b[0m \u001b[0munique_species\u001b[0m\u001b[0;34m,\u001b[0m \u001b[0mreac_species\u001b[0m\u001b[0;34m,\u001b[0m \u001b[0mhuman\u001b[0m\u001b[0;34m=\u001b[0m\u001b[0;34m'no'\u001b[0m\u001b[0;34m)\u001b[0m\u001b[0;34m\u001b[0m\u001b[0;34m\u001b[0m\u001b[0m\n\u001b[0m",
      "\u001b[0;31mNameError\u001b[0m: name 'rates_f' is not defined"
     ]
    }
   ],
   "source": [
    "dydt_list = build_dydt_list(rates_f, rates_r, unique_species, reac_species, human='no')"
   ]
  },
  {
   "cell_type": "code",
   "execution_count": 40,
   "metadata": {
    "scrolled": true
   },
   "outputs": [
    {
     "ename": "NameError",
     "evalue": "name 'dydt_list' is not defined",
     "output_type": "error",
     "traceback": [
      "\u001b[0;31m---------------------------------------------------------------------------\u001b[0m",
      "\u001b[0;31mNameError\u001b[0m                                 Traceback (most recent call last)",
      "\u001b[0;32m<ipython-input-40-eef37684fd0a>\u001b[0m in \u001b[0;36m<module>\u001b[0;34m\u001b[0m\n\u001b[0;32m----> 1\u001b[0;31m \u001b[0mdydt_list\u001b[0m\u001b[0;34m\u001b[0m\u001b[0;34m\u001b[0m\u001b[0m\n\u001b[0m",
      "\u001b[0;31mNameError\u001b[0m: name 'dydt_list' is not defined"
     ]
    }
   ],
   "source": [
    "dydt_list"
   ]
  },
  {
   "cell_type": "code",
   "execution_count": 41,
   "metadata": {},
   "outputs": [
    {
     "name": "stdout",
     "output_type": "stream",
     "text": [
      "dy[41]/dt = - kf[0] * y[41] +  kr[0]* y[9] * y[38] - kf[1] * y[41] +  kr[1]* y[9] * y[39] - kf[2] * y[41] +  kr[2]* y[9] * y[40] - kf[3] * y[41] +  kr[3]* y[29] \n"
     ]
    }
   ],
   "source": [
    "import re\n",
    "\n",
    "dydt_expressions = []\n",
    "for species in unique_species:\n",
    "    rate_equation = 'dy[%i]/dt = ' % (speciesindices[species])\n",
    "    i = speciesindices[species]\n",
    "    for j in range (len(rate_list)):\n",
    "        if reac_matrix[j][i] > 0:\n",
    "            if reac_matrix[j][i] == 1.0:\n",
    "                rate_equation += '+ %s' %(rate_list[j])\n",
    "            else:\n",
    "                rate_equation += '+ %1.2f * %s' %(reac_matrix[j][i], re.split('-', rate_list[j])[0])\n",
    "                rate_equation += '- %1.2f * %s' %(reac_matrix[j][i], re.split('-', rate_list[j])[1])\n",
    "        elif reac_matrix[j][i] < 0:\n",
    "            if abs(reac_matrix[j][i]) == 1.0:\n",
    "                rate_equation += '- %s' %(re.split('-', rate_list[j])[0])\n",
    "                rate_equation += '+ %s' %(re.split('-', rate_list[j])[1])\n",
    "            else:\n",
    "                rate_equation += '- %1.2f * %s' %(abs(reac_matrix[j][i]), re.split('-', rate_list[j])[0])\n",
    "                rate_equation += '+ %1.2f * %s' %(abs(reac_matrix[j][i]), re.split('-', rate_list[j])[1])\n",
    "        else:\n",
    "            pass\n",
    "    dydt_expressions.append(rate_equation)\n",
    "    \n",
    "print(dydt_expressions[speciesindices['O[C@H]1[C@H](O)CO[C@@H](O)[C@@H]1O']])\n",
    "        \n",
    "#     rate_formation = 'd[%s]/dt = ' % (species)\n",
    "#     # \"entry\" is [reaction#, sign of that reaction, coefficient]\n",
    "#     for entry in species_rxns[species]:\n",
    "#         if human == 'no':\n",
    "#             rate_formation += '%s*%s' % \\\n",
    "#             (entry[2], rates_forward[entry[0]].split(' = ')[1])\n",
    "#             rate_formation += '%s*%s' % \\\n",
    "#             (entry[3], rates_reverse[entry[0]].split(' = ')[1])\n",
    "#         elif human == 'yes':\n",
    "#             rate_formation += '%s*rate_f[%s] ' % (entry[2], entry[0])\n",
    "#             rate_formation += '%s*rate_r[%s] ' % (entry[3], entry[0])\n",
    "#         else:\n",
    "#             raise ValueError('human must be a string: yes or no')\n",
    "#     dydt_expressions.append(rate_formation)\n"
   ]
  },
  {
   "cell_type": "code",
   "execution_count": null,
   "metadata": {},
   "outputs": [],
   "source": [
    "a='kf(0) * y[0]**1.0 - kr(0)* y[1]**1.0 * y[2]**2.0'\n",
    "import re\n",
    "print(re.split('-', a))"
   ]
  },
  {
   "cell_type": "code",
   "execution_count": null,
   "metadata": {},
   "outputs": [],
   "source": []
  }
 ],
 "metadata": {
  "kernelspec": {
   "display_name": "kmpy",
   "language": "python",
   "name": "kmpy"
  },
  "language_info": {
   "codemirror_mode": {
    "name": "ipython",
    "version": 3
   },
   "file_extension": ".py",
   "mimetype": "text/x-python",
   "name": "python",
   "nbconvert_exporter": "python",
   "pygments_lexer": "ipython3",
   "version": "3.6.8"
  }
 },
 "nbformat": 4,
 "nbformat_minor": 2
}
