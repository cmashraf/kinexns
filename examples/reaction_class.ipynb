{
 "cells": [
  {
   "cell_type": "markdown",
   "metadata": {},
   "source": [
    "# Kinetic Modeling with PYthon (kmpy)"
   ]
  },
  {
   "cell_type": "code",
   "execution_count": 33,
   "metadata": {},
   "outputs": [],
   "source": [
    "import os, sys\n",
    "import numpy as np\n",
    "from constants import GAS_CONST, PR_ATM\n",
    "from constants import KCAL_JL, HT_JL\n",
    "import pandas as pd\n",
    "import math"
   ]
  },
  {
   "cell_type": "code",
   "execution_count": 34,
   "metadata": {},
   "outputs": [],
   "source": [
    "cwd = os.getcwd()"
   ]
  },
  {
   "cell_type": "markdown",
   "metadata": {},
   "source": [
    "setting up the paths for the input files"
   ]
  },
  {
   "cell_type": "code",
   "execution_count": 35,
   "metadata": {},
   "outputs": [],
   "source": [
    "def set_paths(myPath):\n",
    "    \"\"\"\n",
    "    Set the absolute path to required files on the current machine.\n",
    "\n",
    "    Returns\n",
    "    -------\n",
    "    reactionlist_path     : str\n",
    "                            path to the file `complete_reactionlist.dat`\n",
    "    rateconstantlist_path : str\n",
    "                            path to the file `complete_rateconstantlist.dat`\n",
    "    free_enenry_path      : str\n",
    "                            path to the file `compositionlist.dat`\n",
    "    \"\"\"\n",
    "    #myPath = os.path.dirname(os.path.abspath(__file__))\n",
    "#     reactionlist_path = myPath + '/data/complete_reaction_list.dat'\n",
    "#     rateconstantlist_path = myPath + '/data/complete_rateconstant_list.dat'\n",
    "#     free_energy_path = myPath + '/data/free_energy_library.dat'\n",
    "    reactionlist_path = myPath + '/data/reaction_list.dat'\n",
    "    rateconstantlist_path = myPath + '/data/rateconstant_list.dat'\n",
    "    free_energy_path = myPath + '/../kinexns/data/free_energy_library.dat'\n",
    "    return reactionlist_path, rateconstantlist_path, free_energy_path\n"
   ]
  },
  {
   "cell_type": "code",
   "execution_count": 36,
   "metadata": {},
   "outputs": [],
   "source": [
    "file_reactionlist, file_rateconstantlist, file_free_energy = set_paths(cwd)"
   ]
  },
  {
   "cell_type": "code",
   "execution_count": 37,
   "metadata": {},
   "outputs": [
    {
     "data": {
      "text/html": [
       "<div>\n",
       "<style scoped>\n",
       "    .dataframe tbody tr th:only-of-type {\n",
       "        vertical-align: middle;\n",
       "    }\n",
       "\n",
       "    .dataframe tbody tr th {\n",
       "        vertical-align: top;\n",
       "    }\n",
       "\n",
       "    .dataframe thead th {\n",
       "        text-align: right;\n",
       "    }\n",
       "</style>\n",
       "<table border=\"1\" class=\"dataframe\">\n",
       "  <thead>\n",
       "    <tr style=\"text-align: right;\">\n",
       "      <th></th>\n",
       "      <th>0</th>\n",
       "      <th>1</th>\n",
       "      <th>2</th>\n",
       "    </tr>\n",
       "  </thead>\n",
       "  <tbody>\n",
       "    <tr>\n",
       "      <td>0</td>\n",
       "      <td>-1.0_O[C@H]1[C@H](O)CO[C@@H](O)[C@@H]1O</td>\n",
       "      <td>1.0_O</td>\n",
       "      <td>1.0_OC1=COC[C@@H](O)[C@@H]1O</td>\n",
       "    </tr>\n",
       "    <tr>\n",
       "      <td>1</td>\n",
       "      <td>-1.0_O[C@H]1[C@H](O)CO[C@@H](O)[C@@H]1O</td>\n",
       "      <td>1.0_O</td>\n",
       "      <td>1.0_OC1=C[C@@H](O)[C@H](O)OC1</td>\n",
       "    </tr>\n",
       "    <tr>\n",
       "      <td>2</td>\n",
       "      <td>-1.0_O[C@H]1[C@H](O)CO[C@@H](O)[C@@H]1O</td>\n",
       "      <td>1.0_O</td>\n",
       "      <td>1.0_O[C@H]1C=CO[C@@H](O)[C@@H]1O</td>\n",
       "    </tr>\n",
       "    <tr>\n",
       "      <td>3</td>\n",
       "      <td>-1.0_O[C@H]1[C@H](O)CO[C@@H](O)[C@@H]1O</td>\n",
       "      <td>1.0_O=C[C@@H](O)[C@H](O)[C@@H](O)CO</td>\n",
       "      <td>NaN</td>\n",
       "    </tr>\n",
       "    <tr>\n",
       "      <td>4</td>\n",
       "      <td>-1.0_O[C@H]1C=CO[C@@H](O)[C@@H]1O</td>\n",
       "      <td>1.0_O=C[C@H](O)[C@@H](O)/C=C\\O</td>\n",
       "      <td>NaN</td>\n",
       "    </tr>\n",
       "  </tbody>\n",
       "</table>\n",
       "</div>"
      ],
      "text/plain": [
       "                                         0  \\\n",
       "0  -1.0_O[C@H]1[C@H](O)CO[C@@H](O)[C@@H]1O   \n",
       "1  -1.0_O[C@H]1[C@H](O)CO[C@@H](O)[C@@H]1O   \n",
       "2  -1.0_O[C@H]1[C@H](O)CO[C@@H](O)[C@@H]1O   \n",
       "3  -1.0_O[C@H]1[C@H](O)CO[C@@H](O)[C@@H]1O   \n",
       "4        -1.0_O[C@H]1C=CO[C@@H](O)[C@@H]1O   \n",
       "\n",
       "                                     1                                 2  \n",
       "0                                1.0_O      1.0_OC1=COC[C@@H](O)[C@@H]1O  \n",
       "1                                1.0_O     1.0_OC1=C[C@@H](O)[C@H](O)OC1  \n",
       "2                                1.0_O  1.0_O[C@H]1C=CO[C@@H](O)[C@@H]1O  \n",
       "3  1.0_O=C[C@@H](O)[C@H](O)[C@@H](O)CO                               NaN  \n",
       "4       1.0_O=C[C@H](O)[C@@H](O)/C=C\\O                               NaN  "
      ]
     },
     "execution_count": 37,
     "metadata": {},
     "output_type": "execute_result"
    }
   ],
   "source": [
    "df_reaction = pd.read_csv(file_reactionlist, header = None)\n",
    "df_reaction.head()"
   ]
  },
  {
   "cell_type": "code",
   "execution_count": 38,
   "metadata": {},
   "outputs": [
    {
     "data": {
      "text/html": [
       "<div>\n",
       "<style scoped>\n",
       "    .dataframe tbody tr th:only-of-type {\n",
       "        vertical-align: middle;\n",
       "    }\n",
       "\n",
       "    .dataframe tbody tr th {\n",
       "        vertical-align: top;\n",
       "    }\n",
       "\n",
       "    .dataframe thead th {\n",
       "        text-align: right;\n",
       "    }\n",
       "</style>\n",
       "<table border=\"1\" class=\"dataframe\">\n",
       "  <thead>\n",
       "    <tr style=\"text-align: right;\">\n",
       "      <th></th>\n",
       "      <th>0</th>\n",
       "      <th>1</th>\n",
       "      <th>2</th>\n",
       "    </tr>\n",
       "  </thead>\n",
       "  <tbody>\n",
       "    <tr>\n",
       "      <td>0</td>\n",
       "      <td>5.000000e+15</td>\n",
       "      <td>0</td>\n",
       "      <td>57.0</td>\n",
       "    </tr>\n",
       "    <tr>\n",
       "      <td>1</td>\n",
       "      <td>5.000000e+15</td>\n",
       "      <td>0</td>\n",
       "      <td>57.0</td>\n",
       "    </tr>\n",
       "    <tr>\n",
       "      <td>2</td>\n",
       "      <td>6.000000e+15</td>\n",
       "      <td>0</td>\n",
       "      <td>59.0</td>\n",
       "    </tr>\n",
       "    <tr>\n",
       "      <td>3</td>\n",
       "      <td>3.000000e+13</td>\n",
       "      <td>0</td>\n",
       "      <td>47.0</td>\n",
       "    </tr>\n",
       "    <tr>\n",
       "      <td>4</td>\n",
       "      <td>9.000000e+12</td>\n",
       "      <td>0</td>\n",
       "      <td>46.1</td>\n",
       "    </tr>\n",
       "  </tbody>\n",
       "</table>\n",
       "</div>"
      ],
      "text/plain": [
       "              0  1     2\n",
       "0  5.000000e+15  0  57.0\n",
       "1  5.000000e+15  0  57.0\n",
       "2  6.000000e+15  0  59.0\n",
       "3  3.000000e+13  0  47.0\n",
       "4  9.000000e+12  0  46.1"
      ]
     },
     "execution_count": 38,
     "metadata": {},
     "output_type": "execute_result"
    }
   ],
   "source": [
    "df_rate = pd.read_csv(file_rateconstantlist, header = None, sep = ' ')\n",
    "df_rate.head()"
   ]
  },
  {
   "cell_type": "code",
   "execution_count": 39,
   "metadata": {},
   "outputs": [
    {
     "data": {
      "text/html": [
       "<div>\n",
       "<style scoped>\n",
       "    .dataframe tbody tr th:only-of-type {\n",
       "        vertical-align: middle;\n",
       "    }\n",
       "\n",
       "    .dataframe tbody tr th {\n",
       "        vertical-align: top;\n",
       "    }\n",
       "\n",
       "    .dataframe thead th {\n",
       "        text-align: right;\n",
       "    }\n",
       "</style>\n",
       "<table border=\"1\" class=\"dataframe\">\n",
       "  <thead>\n",
       "    <tr style=\"text-align: right;\">\n",
       "      <th></th>\n",
       "      <th>Structure ID</th>\n",
       "      <th>smiles</th>\n",
       "      <th>electronic_energy</th>\n",
       "      <th>300K</th>\n",
       "      <th>400K</th>\n",
       "      <th>500K</th>\n",
       "      <th>600K</th>\n",
       "      <th>700K</th>\n",
       "      <th>800K</th>\n",
       "    </tr>\n",
       "  </thead>\n",
       "  <tbody>\n",
       "    <tr>\n",
       "      <td>0</td>\n",
       "      <td>1</td>\n",
       "      <td>O[C@H]1[C@H](O)CO[C@@H](O)[C@@H]1O</td>\n",
       "      <td>-572.654636</td>\n",
       "      <td>0.130831</td>\n",
       "      <td>0.114449</td>\n",
       "      <td>0.096034</td>\n",
       "      <td>0.075704</td>\n",
       "      <td>0.053580</td>\n",
       "      <td>0.029778</td>\n",
       "    </tr>\n",
       "    <tr>\n",
       "      <td>1</td>\n",
       "      <td>2</td>\n",
       "      <td>O</td>\n",
       "      <td>-76.422977</td>\n",
       "      <td>0.003836</td>\n",
       "      <td>-0.003547</td>\n",
       "      <td>-0.011258</td>\n",
       "      <td>-0.019238</td>\n",
       "      <td>-0.027448</td>\n",
       "      <td>-0.035861</td>\n",
       "    </tr>\n",
       "    <tr>\n",
       "      <td>2</td>\n",
       "      <td>3</td>\n",
       "      <td>OC1=COC[C@@H](O)[C@@H]1O</td>\n",
       "      <td>-496.193201</td>\n",
       "      <td>0.103466</td>\n",
       "      <td>0.088156</td>\n",
       "      <td>0.071087</td>\n",
       "      <td>0.052368</td>\n",
       "      <td>0.032109</td>\n",
       "      <td>0.010414</td>\n",
       "    </tr>\n",
       "    <tr>\n",
       "      <td>3</td>\n",
       "      <td>4</td>\n",
       "      <td>OC1=C[C@@H](O)[C@H](O)OC1</td>\n",
       "      <td>-496.205201</td>\n",
       "      <td>0.104026</td>\n",
       "      <td>0.088926</td>\n",
       "      <td>0.072080</td>\n",
       "      <td>0.053591</td>\n",
       "      <td>0.033566</td>\n",
       "      <td>0.012107</td>\n",
       "    </tr>\n",
       "    <tr>\n",
       "      <td>4</td>\n",
       "      <td>5</td>\n",
       "      <td>O[C@H]1C=CO[C@@H](O)[C@@H]1O</td>\n",
       "      <td>-496.204142</td>\n",
       "      <td>0.104043</td>\n",
       "      <td>0.088886</td>\n",
       "      <td>0.071984</td>\n",
       "      <td>0.053439</td>\n",
       "      <td>0.033355</td>\n",
       "      <td>0.011835</td>\n",
       "    </tr>\n",
       "  </tbody>\n",
       "</table>\n",
       "</div>"
      ],
      "text/plain": [
       "   Structure ID                              smiles  electronic_energy  \\\n",
       "0             1  O[C@H]1[C@H](O)CO[C@@H](O)[C@@H]1O        -572.654636   \n",
       "1             2                                   O         -76.422977   \n",
       "2             3            OC1=COC[C@@H](O)[C@@H]1O        -496.193201   \n",
       "3             4           OC1=C[C@@H](O)[C@H](O)OC1        -496.205201   \n",
       "4             5        O[C@H]1C=CO[C@@H](O)[C@@H]1O        -496.204142   \n",
       "\n",
       "       300K      400K      500K      600K      700K      800K  \n",
       "0  0.130831  0.114449  0.096034  0.075704  0.053580  0.029778  \n",
       "1  0.003836 -0.003547 -0.011258 -0.019238 -0.027448 -0.035861  \n",
       "2  0.103466  0.088156  0.071087  0.052368  0.032109  0.010414  \n",
       "3  0.104026  0.088926  0.072080  0.053591  0.033566  0.012107  \n",
       "4  0.104043  0.088886  0.071984  0.053439  0.033355  0.011835  "
      ]
     },
     "execution_count": 39,
     "metadata": {},
     "output_type": "execute_result"
    }
   ],
   "source": [
    "df_free_energy = pd.read_csv(file_free_energy, sep = '\\t')\n",
    "df_free_energy.head()"
   ]
  },
  {
   "cell_type": "code",
   "execution_count": 40,
   "metadata": {},
   "outputs": [],
   "source": [
    "class Reaction(object):\n",
    "    \n",
    "    \n",
    "    def __init__(self):\n",
    "        self.reactants_names = []\n",
    "        self.products_names = []\n",
    "        self.uniqueSpeciesList = []\n",
    "        #species_names = []\n",
    "        \n",
    "   \n",
    "    def getReactantsName(self, line):\n",
    "        \n",
    "        for spec in line.split(','):\n",
    "            if float(spec.split('_')[0].split()[0]) < 0:\n",
    "                self.reactants_names.append((spec.split('_')[0].split()[0],\n",
    "                                          spec.split('_')[1].split()[0]))\n",
    "            #print(self.species_names)\n",
    "        return self.reactants_names\n",
    "    \n",
    "    def getProductsName(self, line):\n",
    "        \n",
    "        for spec in line.split(','):\n",
    "            if float(spec.split('_')[0].split()[0]) > 0:\n",
    "                self.products_names.append((spec.split('_')[0].split()[0],\n",
    "                                          spec.split('_')[1].split()[0]))\n",
    "            #print(self.species_names)\n",
    "        return self.products_names\n",
    "    \n",
    "    def uniqueSpeciesName(self, line, species_list):\n",
    "        #self.uniqueSpeciesList = species_list\n",
    "        for spec in line.split(','):\n",
    "            #self.uniqueSpeciesList = species_list\n",
    "            # If the species has already been added to the list then move on.\n",
    "            if spec.split('_')[1].split()[0] in species_list:\n",
    "                self.uniqueSpeciesList = species_list\n",
    "                continue\n",
    "            else:\n",
    "                #print(self.uniqueSpeciesList)\n",
    "                self.uniqueSpeciesList = species_list\n",
    "                self.uniqueSpeciesList.append(spec.split('_')[1].split()[0])\n",
    "            #print(spec.split('_')[1].split()[0])\n",
    "        return self.uniqueSpeciesList\n",
    "    "
   ]
  },
  {
   "cell_type": "code",
   "execution_count": 41,
   "metadata": {},
   "outputs": [],
   "source": [
    "def build_species_list(reaction_file):\n",
    "    \"\"\"\n",
    "    Build reactnat and product list for each reaction. Also builds a list\n",
    "    of unique species in the mechanism\n",
    "    Parameters\n",
    "    ----------\n",
    "    reaction_file       : str\n",
    "                           path to the file `complete_reaction_list.dat`\n",
    "    Returns\n",
    "    __________\n",
    "\n",
    "    reactant_list       : list\n",
    "                         a list of the reactants and their stoichiometric\n",
    "                         coeffs for each reaction\n",
    "    product_list        : list\n",
    "                         a list of the products and their stoichiometric\n",
    "                         coeffs for each reaction\n",
    "    species_list        : list\n",
    "                        a list of unique species in the mechanism\n",
    "    \"\"\"\n",
    "\n",
    "    #initializing reactant, product and unique species list\n",
    "    reactant_list = []\n",
    "    product_list = []\n",
    "    species_name = []\n",
    "\n",
    "    for line in open(reaction_file, 'r').readlines():\n",
    "        reac = Reaction()\n",
    "        reactant_list.append(reac.getReactantsName(line))\n",
    "        product_list.append(reac.getProductsName(line))\n",
    "        current_species = species_name\n",
    "        #print(current_species)\n",
    "        species_list = reac.uniqueSpeciesName(line, current_species)\n",
    "        #print(species_name)\n",
    "    species_list.sort()\n",
    "\n",
    "    return reactant_list, product_list, species_list\n",
    "\n",
    "reactants_list, products_list, unique_species = build_species_list(file_reactionlist)\n",
    "    "
   ]
  },
  {
   "cell_type": "code",
   "execution_count": 42,
   "metadata": {},
   "outputs": [
    {
     "name": "stdout",
     "output_type": "stream",
     "text": [
      "['C=C(O)C=O', 'C=C(O)[C@@H](O)[C@H](O)C=O', 'C=O', 'CC(=O)/C=C(/O)C=O', 'CC(=O)C=O', 'CC(=O)CC(=O)C=O', 'CC(=O)CO', 'CC(=O)[C@@H](O)[C@H](O)C=O', 'CC=O', 'O', 'O/C=C/O', 'O=C/C=C(\\\\O)[C@@H](O)CO', 'O=C/C=C/C(=O)CO', 'O=C/C=C\\\\[C@@H](O)C=O', 'O=C1COC=C[C@@H]1O', 'O=C1COCC(=O)C1', 'O=C1COC[C@@H](O)[C@@H]1O', 'O=CC(O)C=O', 'O=CC1=C[C@@H](O)CO1', 'O=CC=O', 'O=CCC(=O)[C@@H](O)CO', 'O=CCC=O', 'O=CCO', 'O=CC[C@H](O)[C@@H](O)C=O', 'O=CC[C@H](O)[C@H](O)C=O', 'O=C[C@@H](O)/C=C(\\\\O)CO', 'O=C[C@@H](O)CC(=O)CO', 'O=C[C@@H](O)[C@@H](O)/C=C\\\\O', 'O=C[C@@H](O)[C@@H](O)CO', 'O=C[C@@H](O)[C@H](O)[C@@H](O)CO', 'O=C[C@H](O)/C=C(/O)CO', 'O=C[C@H](O)CC(=O)CO', 'O=C[C@H](O)CO', 'O=C[C@H](O)[C@@H](O)/C=C\\\\O', 'O=C[C@H]1OC[C@H](O)[C@H]1O', 'O=Cc1ccco1', 'OC1=COC=C[C@@H]1O', 'OC1=COCC(O)=C1', 'OC1=COC[C@@H](O)[C@@H]1O', 'OC1=C[C@@H](O)[C@H](O)OC1', 'O[C@H]1C=CO[C@@H](O)[C@@H]1O', 'O[C@H]1[C@H](O)CO[C@@H](O)[C@@H]1O']\n",
      "42\n"
     ]
    }
   ],
   "source": [
    "print(unique_species)\n",
    "print(len(unique_species))"
   ]
  },
  {
   "cell_type": "code",
   "execution_count": 43,
   "metadata": {},
   "outputs": [
    {
     "name": "stdout",
     "output_type": "stream",
     "text": [
      "[[('1.0', 'O'), ('1.0', 'OC1=COC[C@@H](O)[C@@H]1O')], [('1.0', 'O'), ('1.0', 'OC1=C[C@@H](O)[C@H](O)OC1')], [('1.0', 'O'), ('1.0', 'O[C@H]1C=CO[C@@H](O)[C@@H]1O')], [('1.0', 'O=C[C@@H](O)[C@H](O)[C@@H](O)CO')], [('1.0', 'O=C[C@H](O)[C@@H](O)/C=C\\\\O')], [('1.0', 'O=CC[C@H](O)[C@@H](O)C=O')], [('1.0', 'O=CCO'), ('1.0', 'O=CCC=O')], [('1.0', 'O'), ('1.0', 'O=C/C=C\\\\[C@@H](O)C=O')], [('1.0', 'O'), ('1.0', 'OC1=COC=C[C@@H]1O')], [('1.0', 'O=C[C@H](O)/C=C(/O)CO')], [('1.0', 'O=C[C@H](O)CC(=O)CO')], [('1.0', 'O'), ('1.0', 'O=C/C=C/C(=O)CO')], [('1.0', 'CC(=O)CO'), ('1.0', 'O=CC=O')], [('1.0', 'O'), ('1.0', 'OC1=COCC(O)=C1')], [('1.0', 'O=C1COCC(=O)C1')], [('1.0', 'O'), ('1.0', 'OC1=COCC(O)=C1')], [('1.0', 'O=C1COC[C@@H](O)[C@@H]1O')], [('1.0', 'C=C(O)[C@@H](O)[C@H](O)C=O')], [('1.0', 'CC(=O)[C@@H](O)[C@H](O)C=O')], [('1.0', 'CC(=O)C=O'), ('1.0', 'O=CCO')], [('1.0', 'O'), ('1.0', 'CC(=O)/C=C(/O)C=O')], [('1.0', 'CC(=O)CC(=O)C=O')], [('1.0', 'O'), ('1.0', 'OC1=COC=C[C@@H]1O')], [('1.0', 'O=C1COC=C[C@@H]1O')], [('1.0', 'O'), ('1.0', 'O=C[C@H]1OC[C@H](O)[C@H]1O')], [('1.0', 'O'), ('1.0', 'O=CC1=C[C@@H](O)CO1')], [('1.0', 'O'), ('1.0', 'O=Cc1ccco1')], [('1.0', 'O'), ('1.0', 'O=C[C@@H](O)[C@@H](O)/C=C\\\\O')], [('1.0', 'O=CC[C@H](O)[C@H](O)C=O')], [('1.0', 'O=CC(O)C=O'), ('1.0', 'CC=O')], [('1.0', 'O'), ('1.0', 'O=C[C@@H](O)/C=C(\\\\O)CO')], [('1.0', 'O=C[C@@H](O)CC(=O)CO')], [('1.0', 'O=CCO'), ('1.0', 'C=C(O)C=O')], [('1.0', 'CC(=O)C=O')], [('1.0', 'O'), ('1.0', 'O=C/C=C(\\\\O)[C@@H](O)CO')], [('1.0', 'O=CCC(=O)[C@@H](O)CO')], [('1.0', 'O=CCO'), ('1.0', 'O=CCC=O')], [('1.0', 'O=CCO'), ('1.0', 'O=C[C@H](O)CO')], [('1.0', 'O'), ('1.0', 'C=C(O)C=O')], [('1.0', 'O=C[C@@H](O)[C@@H](O)CO'), ('1.0', 'C=O')], [('1.0', 'O=CCO'), ('1.0', 'O/C=C/O')], [('1.0', 'O=CCO')]]\n"
     ]
    }
   ],
   "source": [
    "#print(len(products_list))\n",
    "print(products_list)"
   ]
  },
  {
   "cell_type": "code",
   "execution_count": 44,
   "metadata": {},
   "outputs": [],
   "source": [
    "reac_prod_list = [react + prod for react, prod in zip(reactants_list, products_list)]\n",
    "# for react, prod in zip(reactants, products):\n",
    "#     total.append(react + prod)\n",
    "#print(total)"
   ]
  },
  {
   "cell_type": "code",
   "execution_count": 45,
   "metadata": {},
   "outputs": [
    {
     "name": "stdout",
     "output_type": "stream",
     "text": [
      "[[('-1.0', 'O[C@H]1[C@H](O)CO[C@@H](O)[C@@H]1O'), ('1.0', 'O'), ('1.0', 'OC1=COC[C@@H](O)[C@@H]1O')], [('-1.0', 'O[C@H]1[C@H](O)CO[C@@H](O)[C@@H]1O'), ('1.0', 'O'), ('1.0', 'OC1=C[C@@H](O)[C@H](O)OC1')], [('-1.0', 'O[C@H]1[C@H](O)CO[C@@H](O)[C@@H]1O'), ('1.0', 'O'), ('1.0', 'O[C@H]1C=CO[C@@H](O)[C@@H]1O')], [('-1.0', 'O[C@H]1[C@H](O)CO[C@@H](O)[C@@H]1O'), ('1.0', 'O=C[C@@H](O)[C@H](O)[C@@H](O)CO')], [('-1.0', 'O[C@H]1C=CO[C@@H](O)[C@@H]1O'), ('1.0', 'O=C[C@H](O)[C@@H](O)/C=C\\\\O')], [('-1.0', 'O=C[C@H](O)[C@@H](O)/C=C\\\\O'), ('1.0', 'O=CC[C@H](O)[C@@H](O)C=O')], [('-1.0', 'O=CC[C@H](O)[C@@H](O)C=O'), ('1.0', 'O=CCO'), ('1.0', 'O=CCC=O')], [('-1.0', 'O=CC[C@H](O)[C@@H](O)C=O'), ('1.0', 'O'), ('1.0', 'O=C/C=C\\\\[C@@H](O)C=O')], [('-1.0', 'O[C@H]1C=CO[C@@H](O)[C@@H]1O'), ('1.0', 'O'), ('1.0', 'OC1=COC=C[C@@H]1O')], [('-1.0', 'OC1=C[C@@H](O)[C@H](O)OC1'), ('1.0', 'O=C[C@H](O)/C=C(/O)CO')], [('-1.0', 'O=C[C@H](O)/C=C(/O)CO'), ('1.0', 'O=C[C@H](O)CC(=O)CO')], [('-1.0', 'O=C[C@H](O)CC(=O)CO'), ('1.0', 'O'), ('1.0', 'O=C/C=C/C(=O)CO')], [('-1.0', 'O=C[C@H](O)CC(=O)CO'), ('1.0', 'CC(=O)CO'), ('1.0', 'O=CC=O')], [('-1.0', 'OC1=C[C@@H](O)[C@H](O)OC1'), ('1.0', 'O'), ('1.0', 'OC1=COCC(O)=C1')], [('-1.0', 'OC1=COCC(O)=C1'), ('1.0', 'O=C1COCC(=O)C1')], [('-1.0', 'OC1=COC[C@@H](O)[C@@H]1O'), ('1.0', 'O'), ('1.0', 'OC1=COCC(O)=C1')], [('-1.0', 'OC1=COC[C@@H](O)[C@@H]1O'), ('1.0', 'O=C1COC[C@@H](O)[C@@H]1O')], [('-1.0', 'OC1=COC[C@@H](O)[C@@H]1O'), ('1.0', 'C=C(O)[C@@H](O)[C@H](O)C=O')], [('-1.0', 'C=C(O)[C@@H](O)[C@H](O)C=O'), ('1.0', 'CC(=O)[C@@H](O)[C@H](O)C=O')], [('-1.0', 'CC(=O)[C@@H](O)[C@H](O)C=O'), ('1.0', 'CC(=O)C=O'), ('1.0', 'O=CCO')], [('-1.0', 'CC(=O)[C@@H](O)[C@H](O)C=O'), ('1.0', 'O'), ('1.0', 'CC(=O)/C=C(/O)C=O')], [('-1.0', 'CC(=O)/C=C(/O)C=O'), ('1.0', 'CC(=O)CC(=O)C=O')], [('-1.0', 'OC1=COC[C@@H](O)[C@@H]1O'), ('1.0', 'O'), ('1.0', 'OC1=COC=C[C@@H]1O')], [('-1.0', 'OC1=COC=C[C@@H]1O'), ('1.0', 'O=C1COC=C[C@@H]1O')], [('-1.0', 'O=C[C@@H](O)[C@H](O)[C@@H](O)CO'), ('1.0', 'O'), ('1.0', 'O=C[C@H]1OC[C@H](O)[C@H]1O')], [('-1.0', 'O=C[C@H]1OC[C@H](O)[C@H]1O'), ('1.0', 'O'), ('1.0', 'O=CC1=C[C@@H](O)CO1')], [('-1.0', 'O=CC1=C[C@@H](O)CO1'), ('1.0', 'O'), ('1.0', 'O=Cc1ccco1')], [('-1.0', 'O=C[C@@H](O)[C@H](O)[C@@H](O)CO'), ('1.0', 'O'), ('1.0', 'O=C[C@@H](O)[C@@H](O)/C=C\\\\O')], [('-1.0', 'O=C[C@@H](O)[C@@H](O)/C=C\\\\O'), ('1.0', 'O=CC[C@H](O)[C@H](O)C=O')], [('-1.0', 'O=CC[C@H](O)[C@H](O)C=O'), ('1.0', 'O=CC(O)C=O'), ('1.0', 'CC=O')], [('-1.0', 'O=C[C@@H](O)[C@H](O)[C@@H](O)CO'), ('1.0', 'O'), ('1.0', 'O=C[C@@H](O)/C=C(\\\\O)CO')], [('-1.0', 'O=C[C@@H](O)/C=C(\\\\O)CO'), ('1.0', 'O=C[C@@H](O)CC(=O)CO')], [('-1.0', 'O=C[C@@H](O)CC(=O)CO'), ('1.0', 'O=CCO'), ('1.0', 'C=C(O)C=O')], [('-1.0', 'CC(=O)C=O'), ('1.0', 'CC(=O)C=O')], [('-1.0', 'O=C[C@@H](O)[C@H](O)[C@@H](O)CO'), ('1.0', 'O'), ('1.0', 'O=C/C=C(\\\\O)[C@@H](O)CO')], [('-1.0', 'O=C/C=C(\\\\O)[C@@H](O)CO'), ('1.0', 'O=CCC(=O)[C@@H](O)CO')], [('-1.0', 'O=CCC(=O)[C@@H](O)CO'), ('1.0', 'O=CCO'), ('1.0', 'O=CCC=O')], [('-1.0', 'O=C[C@@H](O)[C@H](O)[C@@H](O)CO'), ('1.0', 'O=CCO'), ('1.0', 'O=C[C@H](O)CO')], [('-1.0', 'O=C[C@H](O)CO'), ('1.0', 'O'), ('1.0', 'C=C(O)C=O')], [('-1.0', 'O=C[C@@H](O)[C@H](O)[C@@H](O)CO'), ('1.0', 'O=C[C@@H](O)[C@@H](O)CO'), ('1.0', 'C=O')], [('-1.0', 'O=C[C@@H](O)[C@@H](O)CO'), ('1.0', 'O=CCO'), ('1.0', 'O/C=C/O')], [('-1.0', 'O/C=C/O'), ('1.0', 'O=CCO')]]\n"
     ]
    }
   ],
   "source": [
    "print(reac_prod_list)"
   ]
  },
  {
   "cell_type": "code",
   "execution_count": 46,
   "metadata": {},
   "outputs": [],
   "source": [
    "#generating a dictionary of unique species from the species_list\n",
    "speciesindices = {unique_species[i]: i for i in range(0, len(unique_species))}\n",
    "\n",
    "indices_to_species = dict(zip(speciesindices.values(), speciesindices.keys()))"
   ]
  },
  {
   "cell_type": "code",
   "execution_count": 47,
   "metadata": {},
   "outputs": [
    {
     "data": {
      "text/plain": [
       "{'C=C(O)C=O': 0,\n",
       " 'C=C(O)[C@@H](O)[C@H](O)C=O': 1,\n",
       " 'C=O': 2,\n",
       " 'CC(=O)/C=C(/O)C=O': 3,\n",
       " 'CC(=O)C=O': 4,\n",
       " 'CC(=O)CC(=O)C=O': 5,\n",
       " 'CC(=O)CO': 6,\n",
       " 'CC(=O)[C@@H](O)[C@H](O)C=O': 7,\n",
       " 'CC=O': 8,\n",
       " 'O': 9,\n",
       " 'O/C=C/O': 10,\n",
       " 'O=C/C=C(\\\\O)[C@@H](O)CO': 11,\n",
       " 'O=C/C=C/C(=O)CO': 12,\n",
       " 'O=C/C=C\\\\[C@@H](O)C=O': 13,\n",
       " 'O=C1COC=C[C@@H]1O': 14,\n",
       " 'O=C1COCC(=O)C1': 15,\n",
       " 'O=C1COC[C@@H](O)[C@@H]1O': 16,\n",
       " 'O=CC(O)C=O': 17,\n",
       " 'O=CC1=C[C@@H](O)CO1': 18,\n",
       " 'O=CC=O': 19,\n",
       " 'O=CCC(=O)[C@@H](O)CO': 20,\n",
       " 'O=CCC=O': 21,\n",
       " 'O=CCO': 22,\n",
       " 'O=CC[C@H](O)[C@@H](O)C=O': 23,\n",
       " 'O=CC[C@H](O)[C@H](O)C=O': 24,\n",
       " 'O=C[C@@H](O)/C=C(\\\\O)CO': 25,\n",
       " 'O=C[C@@H](O)CC(=O)CO': 26,\n",
       " 'O=C[C@@H](O)[C@@H](O)/C=C\\\\O': 27,\n",
       " 'O=C[C@@H](O)[C@@H](O)CO': 28,\n",
       " 'O=C[C@@H](O)[C@H](O)[C@@H](O)CO': 29,\n",
       " 'O=C[C@H](O)/C=C(/O)CO': 30,\n",
       " 'O=C[C@H](O)CC(=O)CO': 31,\n",
       " 'O=C[C@H](O)CO': 32,\n",
       " 'O=C[C@H](O)[C@@H](O)/C=C\\\\O': 33,\n",
       " 'O=C[C@H]1OC[C@H](O)[C@H]1O': 34,\n",
       " 'O=Cc1ccco1': 35,\n",
       " 'OC1=COC=C[C@@H]1O': 36,\n",
       " 'OC1=COCC(O)=C1': 37,\n",
       " 'OC1=COC[C@@H](O)[C@@H]1O': 38,\n",
       " 'OC1=C[C@@H](O)[C@H](O)OC1': 39,\n",
       " 'O[C@H]1C=CO[C@@H](O)[C@@H]1O': 40,\n",
       " 'O[C@H]1[C@H](O)CO[C@@H](O)[C@@H]1O': 41}"
      ]
     },
     "execution_count": 47,
     "metadata": {},
     "output_type": "execute_result"
    }
   ],
   "source": [
    "speciesindices\n",
    "#indices_to_species"
   ]
  },
  {
   "cell_type": "code",
   "execution_count": 48,
   "metadata": {},
   "outputs": [
    {
     "data": {
      "text/plain": [
       "array([[0., 0., 0., ..., 0., 0., 0.],\n",
       "       [0., 0., 0., ..., 0., 0., 0.],\n",
       "       [0., 0., 0., ..., 0., 0., 0.],\n",
       "       ...,\n",
       "       [0., 0., 0., ..., 0., 0., 0.],\n",
       "       [0., 0., 0., ..., 0., 0., 0.],\n",
       "       [0., 0., 0., ..., 0., 0., 0.]])"
      ]
     },
     "execution_count": 48,
     "metadata": {},
     "output_type": "execute_result"
    }
   ],
   "source": [
    "reac_matrix = np.zeros((len(reac_prod_list),len(unique_species)), dtype = float)\n",
    "reac_matrix"
   ]
  },
  {
   "cell_type": "code",
   "execution_count": 49,
   "metadata": {},
   "outputs": [
    {
     "name": "stdout",
     "output_type": "stream",
     "text": [
      "[[ 0.  0.  0. ...  0.  0. -1.]\n",
      " [ 0.  0.  0. ...  1.  0. -1.]\n",
      " [ 0.  0.  0. ...  0.  1. -1.]\n",
      " ...\n",
      " [ 0.  0.  1. ...  0.  0.  0.]\n",
      " [ 0.  0.  0. ...  0.  0.  0.]\n",
      " [ 0.  0.  0. ...  0.  0.  0.]]\n"
     ]
    }
   ],
   "source": [
    "for rxnindex, reac_list in enumerate(reac_prod_list):\n",
    "    for x in range (len(reac_list)):\n",
    "        species = reac_list[x][1]\n",
    "        for i in range (len(unique_species)):\n",
    "            if i == speciesindices[species]:\n",
    "                reac_matrix[rxnindex][i] = float(reac_list[x][0])\n",
    "\n",
    "print(reac_matrix)\n",
    "                "
   ]
  },
  {
   "cell_type": "code",
   "execution_count": 50,
   "metadata": {},
   "outputs": [],
   "source": [
    "def build_reac_prod_dict(reac_list, prod_list, speciesindices):\n",
    "    \"\"\"\n",
    "    Build a dictionary of the reactants involved in each reaction,\n",
    "    along with their stoichiometric coefficients.  The keys of the\n",
    "    dictionary are the reaction numbers, the values are lists of lists\n",
    "    [[reactant1index, -1*coeff1],...]\n",
    "    Parameters\n",
    "    ----------\n",
    "    completereactionlist : str\n",
    "                           path to the file `complete_reaction_list.dat`\n",
    "    speciesindices       : dict\n",
    "                           the dictionary speciesindices from\n",
    "                           get_speciesindices()\n",
    "    Returns\n",
    "    -------\n",
    "    reactant_dict : dict\n",
    "                    a dictionary where keys are reaction numbers and values\n",
    "                    are lists of lists with the reactants and their\n",
    "                    stoichiometric coefficients for each reaction\n",
    "    \"\"\"\n",
    "    reactant_dict = {}\n",
    "    for rxnindex, reaction in enumerate(reac_list):\n",
    "        reactants = []\n",
    "        #\n",
    "        for x in range(len(reaction)):\n",
    "            # if the species is a reactant\n",
    "         #   if float(x.split('_')[0]) < 0:\n",
    "            reactants.append([speciesindices[reaction[x][1]],\n",
    "                                -1*float(reaction[x][0])])\n",
    "            #    in preceding line: *-1 because I want the |stoich coeff|\n",
    "        reactant_dict[rxnindex] = reactants\n",
    "        \n",
    "    products_dict = {}\n",
    "    for rxnindex, reaction in enumerate(prod_list):\n",
    "        products = []\n",
    "        #\n",
    "        for x in range(len(reaction)):\n",
    "            # if the species is a reactant\n",
    "         #   if float(x.split('_')[0]) < 0:\n",
    "            products.append([speciesindices[reaction[x][1]],\n",
    "                                1*float(reaction[x][0])])\n",
    "            #    in preceding line: *-1 because I want the |stoich coeff|\n",
    "        products_dict[rxnindex] = products\n",
    "    return reactant_dict, products_dict"
   ]
  },
  {
   "cell_type": "code",
   "execution_count": 51,
   "metadata": {},
   "outputs": [
    {
     "data": {
      "text/plain": [
       "{0: [[9, 1.0], [38, 1.0]],\n",
       " 1: [[9, 1.0], [39, 1.0]],\n",
       " 2: [[9, 1.0], [40, 1.0]],\n",
       " 3: [[29, 1.0]],\n",
       " 4: [[33, 1.0]],\n",
       " 5: [[23, 1.0]],\n",
       " 6: [[22, 1.0], [21, 1.0]],\n",
       " 7: [[9, 1.0], [13, 1.0]],\n",
       " 8: [[9, 1.0], [36, 1.0]],\n",
       " 9: [[30, 1.0]],\n",
       " 10: [[31, 1.0]],\n",
       " 11: [[9, 1.0], [12, 1.0]],\n",
       " 12: [[6, 1.0], [19, 1.0]],\n",
       " 13: [[9, 1.0], [37, 1.0]],\n",
       " 14: [[15, 1.0]],\n",
       " 15: [[9, 1.0], [37, 1.0]],\n",
       " 16: [[16, 1.0]],\n",
       " 17: [[1, 1.0]],\n",
       " 18: [[7, 1.0]],\n",
       " 19: [[4, 1.0], [22, 1.0]],\n",
       " 20: [[9, 1.0], [3, 1.0]],\n",
       " 21: [[5, 1.0]],\n",
       " 22: [[9, 1.0], [36, 1.0]],\n",
       " 23: [[14, 1.0]],\n",
       " 24: [[9, 1.0], [34, 1.0]],\n",
       " 25: [[9, 1.0], [18, 1.0]],\n",
       " 26: [[9, 1.0], [35, 1.0]],\n",
       " 27: [[9, 1.0], [27, 1.0]],\n",
       " 28: [[24, 1.0]],\n",
       " 29: [[17, 1.0], [8, 1.0]],\n",
       " 30: [[9, 1.0], [25, 1.0]],\n",
       " 31: [[26, 1.0]],\n",
       " 32: [[22, 1.0], [0, 1.0]],\n",
       " 33: [[4, 1.0]],\n",
       " 34: [[9, 1.0], [11, 1.0]],\n",
       " 35: [[20, 1.0]],\n",
       " 36: [[22, 1.0], [21, 1.0]],\n",
       " 37: [[22, 1.0], [32, 1.0]],\n",
       " 38: [[9, 1.0], [0, 1.0]],\n",
       " 39: [[28, 1.0], [2, 1.0]],\n",
       " 40: [[22, 1.0], [10, 1.0]],\n",
       " 41: [[22, 1.0]]}"
      ]
     },
     "execution_count": 51,
     "metadata": {},
     "output_type": "execute_result"
    }
   ],
   "source": [
    "reac_dict, prod_dict = build_reac_prod_dict(reactants_list, products_list, speciesindices)\n",
    "prod_dict"
   ]
  },
  {
   "cell_type": "code",
   "execution_count": 52,
   "metadata": {},
   "outputs": [],
   "source": [
    "def build_reac_species_dict(reacprodlist, specieslist):\n",
    "    \"\"\"\n",
    "    Build a dictionary where keys are species and values are lists with the\n",
    "    reactions that species is involved in, that reaction's sign in the net\n",
    "    rate equation, and the stoichiometric coefficient of the species in that\n",
    "    reaction.\n",
    "    Parameters\n",
    "    ----------\n",
    "    reacprodlist : list\n",
    "                        a list of both reactants and products and their \n",
    "                        stoichiometric co-effs\n",
    "    specieslist  : list\n",
    "                        a list of unique species in the mecahnism\n",
    "    \n",
    "    Returns\n",
    "    -------\n",
    "    reac_species : dict\n",
    "                   keys are the species in the model; values are lists of\n",
    "                   [reaction that species is involved in,\n",
    "                   sign of that species in the net rate equation,\n",
    "                   stoichiometric coefficient]\n",
    "    \"\"\"\n",
    "    #specieslist = get_specieslist(set_paths()[0])\n",
    "    reac_species = {}\n",
    "    for species in specieslist:\n",
    "        # This loop makes a list of which reactions \"species\" takes part in\n",
    "        # and what sign that term in the net rate eqn has\n",
    "        # and what the stoichiometric coefficient is\n",
    "    \n",
    "        reactions_involved = []\n",
    "        for rxnindex, reac_list in enumerate (reacprodlist):\n",
    "            for x in range(len(reac_list)):\n",
    "                # If the species being iterated over is part of this reaction\n",
    "                if species == reac_list[x][1]:\n",
    "                    # if the species is a reactant\n",
    "                    if float(reac_list[x][0]) < 0:\n",
    "                        reactions_involved.append(\n",
    "                            [rxnindex, float(reac_list[x][0]), str(-1), '+'+str(1)])\n",
    "                    \n",
    "                    # if the species is a product\n",
    "                    if float(reac_list[x][0]) > 0:\n",
    "                        reactions_involved.append(\n",
    "                            [rxnindex, float(reac_list[x][0]), '+'+str(1), str(-1)])\n",
    "    \n",
    "        reac_species[species] = reactions_involved\n",
    "    return reac_species"
   ]
  },
  {
   "cell_type": "code",
   "execution_count": 53,
   "metadata": {},
   "outputs": [
    {
     "data": {
      "text/plain": [
       "{'C=C(O)C=O': [[32, 1.0, '+1', '-1'], [38, 1.0, '+1', '-1']],\n",
       " 'C=C(O)[C@@H](O)[C@H](O)C=O': [[17, 1.0, '+1', '-1'], [18, -1.0, '-1', '+1']],\n",
       " 'C=O': [[39, 1.0, '+1', '-1']],\n",
       " 'CC(=O)/C=C(/O)C=O': [[20, 1.0, '+1', '-1'], [21, -1.0, '-1', '+1']],\n",
       " 'CC(=O)C=O': [[19, 1.0, '+1', '-1'],\n",
       "  [33, -1.0, '-1', '+1'],\n",
       "  [33, 1.0, '+1', '-1']],\n",
       " 'CC(=O)CC(=O)C=O': [[21, 1.0, '+1', '-1']],\n",
       " 'CC(=O)CO': [[12, 1.0, '+1', '-1']],\n",
       " 'CC(=O)[C@@H](O)[C@H](O)C=O': [[18, 1.0, '+1', '-1'],\n",
       "  [19, -1.0, '-1', '+1'],\n",
       "  [20, -1.0, '-1', '+1']],\n",
       " 'CC=O': [[29, 1.0, '+1', '-1']],\n",
       " 'O': [[0, 1.0, '+1', '-1'],\n",
       "  [1, 1.0, '+1', '-1'],\n",
       "  [2, 1.0, '+1', '-1'],\n",
       "  [7, 1.0, '+1', '-1'],\n",
       "  [8, 1.0, '+1', '-1'],\n",
       "  [11, 1.0, '+1', '-1'],\n",
       "  [13, 1.0, '+1', '-1'],\n",
       "  [15, 1.0, '+1', '-1'],\n",
       "  [20, 1.0, '+1', '-1'],\n",
       "  [22, 1.0, '+1', '-1'],\n",
       "  [24, 1.0, '+1', '-1'],\n",
       "  [25, 1.0, '+1', '-1'],\n",
       "  [26, 1.0, '+1', '-1'],\n",
       "  [27, 1.0, '+1', '-1'],\n",
       "  [30, 1.0, '+1', '-1'],\n",
       "  [34, 1.0, '+1', '-1'],\n",
       "  [38, 1.0, '+1', '-1']],\n",
       " 'O/C=C/O': [[40, 1.0, '+1', '-1'], [41, -1.0, '-1', '+1']],\n",
       " 'O=C/C=C(\\\\O)[C@@H](O)CO': [[34, 1.0, '+1', '-1'], [35, -1.0, '-1', '+1']],\n",
       " 'O=C/C=C/C(=O)CO': [[11, 1.0, '+1', '-1']],\n",
       " 'O=C/C=C\\\\[C@@H](O)C=O': [[7, 1.0, '+1', '-1']],\n",
       " 'O=C1COC=C[C@@H]1O': [[23, 1.0, '+1', '-1']],\n",
       " 'O=C1COCC(=O)C1': [[14, 1.0, '+1', '-1']],\n",
       " 'O=C1COC[C@@H](O)[C@@H]1O': [[16, 1.0, '+1', '-1']],\n",
       " 'O=CC(O)C=O': [[29, 1.0, '+1', '-1']],\n",
       " 'O=CC1=C[C@@H](O)CO1': [[25, 1.0, '+1', '-1'], [26, -1.0, '-1', '+1']],\n",
       " 'O=CC=O': [[12, 1.0, '+1', '-1']],\n",
       " 'O=CCC(=O)[C@@H](O)CO': [[35, 1.0, '+1', '-1'], [36, -1.0, '-1', '+1']],\n",
       " 'O=CCC=O': [[6, 1.0, '+1', '-1'], [36, 1.0, '+1', '-1']],\n",
       " 'O=CCO': [[6, 1.0, '+1', '-1'],\n",
       "  [19, 1.0, '+1', '-1'],\n",
       "  [32, 1.0, '+1', '-1'],\n",
       "  [36, 1.0, '+1', '-1'],\n",
       "  [37, 1.0, '+1', '-1'],\n",
       "  [40, 1.0, '+1', '-1'],\n",
       "  [41, 1.0, '+1', '-1']],\n",
       " 'O=CC[C@H](O)[C@@H](O)C=O': [[5, 1.0, '+1', '-1'],\n",
       "  [6, -1.0, '-1', '+1'],\n",
       "  [7, -1.0, '-1', '+1']],\n",
       " 'O=CC[C@H](O)[C@H](O)C=O': [[28, 1.0, '+1', '-1'], [29, -1.0, '-1', '+1']],\n",
       " 'O=C[C@@H](O)/C=C(\\\\O)CO': [[30, 1.0, '+1', '-1'], [31, -1.0, '-1', '+1']],\n",
       " 'O=C[C@@H](O)CC(=O)CO': [[31, 1.0, '+1', '-1'], [32, -1.0, '-1', '+1']],\n",
       " 'O=C[C@@H](O)[C@@H](O)/C=C\\\\O': [[27, 1.0, '+1', '-1'],\n",
       "  [28, -1.0, '-1', '+1']],\n",
       " 'O=C[C@@H](O)[C@@H](O)CO': [[39, 1.0, '+1', '-1'], [40, -1.0, '-1', '+1']],\n",
       " 'O=C[C@@H](O)[C@H](O)[C@@H](O)CO': [[3, 1.0, '+1', '-1'],\n",
       "  [24, -1.0, '-1', '+1'],\n",
       "  [27, -1.0, '-1', '+1'],\n",
       "  [30, -1.0, '-1', '+1'],\n",
       "  [34, -1.0, '-1', '+1'],\n",
       "  [37, -1.0, '-1', '+1'],\n",
       "  [39, -1.0, '-1', '+1']],\n",
       " 'O=C[C@H](O)/C=C(/O)CO': [[9, 1.0, '+1', '-1'], [10, -1.0, '-1', '+1']],\n",
       " 'O=C[C@H](O)CC(=O)CO': [[10, 1.0, '+1', '-1'],\n",
       "  [11, -1.0, '-1', '+1'],\n",
       "  [12, -1.0, '-1', '+1']],\n",
       " 'O=C[C@H](O)CO': [[37, 1.0, '+1', '-1'], [38, -1.0, '-1', '+1']],\n",
       " 'O=C[C@H](O)[C@@H](O)/C=C\\\\O': [[4, 1.0, '+1', '-1'], [5, -1.0, '-1', '+1']],\n",
       " 'O=C[C@H]1OC[C@H](O)[C@H]1O': [[24, 1.0, '+1', '-1'], [25, -1.0, '-1', '+1']],\n",
       " 'O=Cc1ccco1': [[26, 1.0, '+1', '-1']],\n",
       " 'OC1=COC=C[C@@H]1O': [[8, 1.0, '+1', '-1'],\n",
       "  [22, 1.0, '+1', '-1'],\n",
       "  [23, -1.0, '-1', '+1']],\n",
       " 'OC1=COCC(O)=C1': [[13, 1.0, '+1', '-1'],\n",
       "  [14, -1.0, '-1', '+1'],\n",
       "  [15, 1.0, '+1', '-1']],\n",
       " 'OC1=COC[C@@H](O)[C@@H]1O': [[0, 1.0, '+1', '-1'],\n",
       "  [15, -1.0, '-1', '+1'],\n",
       "  [16, -1.0, '-1', '+1'],\n",
       "  [17, -1.0, '-1', '+1'],\n",
       "  [22, -1.0, '-1', '+1']],\n",
       " 'OC1=C[C@@H](O)[C@H](O)OC1': [[1, 1.0, '+1', '-1'],\n",
       "  [9, -1.0, '-1', '+1'],\n",
       "  [13, -1.0, '-1', '+1']],\n",
       " 'O[C@H]1C=CO[C@@H](O)[C@@H]1O': [[2, 1.0, '+1', '-1'],\n",
       "  [4, -1.0, '-1', '+1'],\n",
       "  [8, -1.0, '-1', '+1']],\n",
       " 'O[C@H]1[C@H](O)CO[C@@H](O)[C@@H]1O': [[0, -1.0, '-1', '+1'],\n",
       "  [1, -1.0, '-1', '+1'],\n",
       "  [2, -1.0, '-1', '+1'],\n",
       "  [3, -1.0, '-1', '+1']]}"
      ]
     },
     "execution_count": 53,
     "metadata": {},
     "output_type": "execute_result"
    }
   ],
   "source": [
    "reac_species = build_reac_species_dict(reac_prod_list, unique_species)\n",
    "reac_species"
   ]
  },
  {
   "cell_type": "markdown",
   "metadata": {},
   "source": [
    "Next, we need to build the rate constants for all the reactions. The forward rate constants can be calculated using Arrhenius equation\n",
    "\n",
    "$k_f = A T^n exp (\\frac{-E_a}{RT}) $"
   ]
  },
  {
   "cell_type": "code",
   "execution_count": 54,
   "metadata": {},
   "outputs": [],
   "source": [
    "class Kinetic_params(object):\n",
    "      \n",
    "    def __init__(self):\n",
    "        self.forward_rate_params = []\n",
    "        self.forward_rates = []\n",
    "        #self.forward_E = []\n",
    "        #self.uniqueSpeciesList = []\n",
    "        #species_names = []\n",
    "    \n",
    "    def getForwardRateParameters(self, line):\n",
    "        \n",
    "        self.forward_rate_params = [line.split(' ')[0], line.split(' ')[1],\n",
    "                      line.split(' ')[2].split()[0]]\n",
    "      \n",
    "        return self.forward_rate_params\n",
    "    \n",
    "    def getForwardRateConstant(self, parameters, T):\n",
    "        \n",
    "        self.forward_rates = (eval(params[0]) * T ** eval(params[1]) *\n",
    "                             np.exp(- eval(params[2]) * KCAL_JL / (GAS_CONST * T)))\n",
    "        return self.forward_rates"
   ]
  },
  {
   "cell_type": "code",
   "execution_count": 55,
   "metadata": {},
   "outputs": [],
   "source": [
    "forward_rate_constants = []\n",
    "temp = 573\n"
   ]
  },
  {
   "cell_type": "code",
   "execution_count": 56,
   "metadata": {},
   "outputs": [],
   "source": [
    "for line in open(file_rateconstantlist, 'r').readlines():\n",
    "    f_params = Kinetic_params()\n",
    "    params = f_params.getForwardRateParameters(line)\n",
    "    forward_rate_constants.append(f_params.getForwardRateConstant(params, temp))"
   ]
  },
  {
   "cell_type": "code",
   "execution_count": 57,
   "metadata": {},
   "outputs": [
    {
     "data": {
      "text/plain": [
       "[9.070586400466592e-07,\n",
       " 9.070586400466592e-07,\n",
       " 1.8791556907858517e-07,\n",
       " 3.548590208923674e-05,\n",
       " 2.346720330517098e-05,\n",
       " 1.410002815679657e-05,\n",
       " 0.0005585146932428701,\n",
       " 3.281645112867024e-05,\n",
       " 9.070586400466592e-07,\n",
       " 2.346720330517098e-05,\n",
       " 1.410002815679657e-05,\n",
       " 3.281645112867024e-05,\n",
       " 0.0005585146932428701,\n",
       " 9.070586400466592e-07,\n",
       " 1.410002815679657e-05,\n",
       " 9.070586400466592e-07,\n",
       " 1.410002815679657e-05,\n",
       " 2.346720330517098e-05,\n",
       " 1.410002815679657e-05,\n",
       " 0.0005760247230552326,\n",
       " 3.281645112867024e-05,\n",
       " 1.410002815679657e-05,\n",
       " 1.8791556907858517e-07,\n",
       " 1.410002815679657e-05,\n",
       " 3.281645112867024e-05,\n",
       " 0.01126663897467137,\n",
       " 1.407177318117666e-06,\n",
       " 3.281645112867024e-05,\n",
       " 1.410002815679657e-05,\n",
       " 0.0005585146932428701,\n",
       " 3.281645112867024e-05,\n",
       " 1.410002815679657e-05,\n",
       " 0.0005585146932428701,\n",
       " 9.070586400466592e-07,\n",
       " 3.281645112867024e-05,\n",
       " 1.410002815679657e-05,\n",
       " 0.0005585146932428701,\n",
       " 0.0005585146932428701,\n",
       " 0.008681988741437899,\n",
       " 0.0005760247230552326,\n",
       " 0.0005585146932428701,\n",
       " 9.070586400466592e-07]"
      ]
     },
     "execution_count": 57,
     "metadata": {},
     "output_type": "execute_result"
    }
   ],
   "source": [
    "forward_rate_constants"
   ]
  },
  {
   "cell_type": "markdown",
   "metadata": {},
   "source": [
    "Next, to calculate the reverse rate constants, we need to calculate the thermodynamic equilibrium constants using the folloing equation\n",
    "\n",
    "$ K_{eq} = exp (-{\\Delta G}/ RT)$\n",
    "\n",
    "since, we have free energy corrections for all the species at a few specific temperature, we need to calculate it for any given temperature using linear interpolation"
   ]
  },
  {
   "cell_type": "code",
   "execution_count": 58,
   "metadata": {},
   "outputs": [
    {
     "data": {
      "text/html": [
       "<div>\n",
       "<style scoped>\n",
       "    .dataframe tbody tr th:only-of-type {\n",
       "        vertical-align: middle;\n",
       "    }\n",
       "\n",
       "    .dataframe tbody tr th {\n",
       "        vertical-align: top;\n",
       "    }\n",
       "\n",
       "    .dataframe thead th {\n",
       "        text-align: right;\n",
       "    }\n",
       "</style>\n",
       "<table border=\"1\" class=\"dataframe\">\n",
       "  <thead>\n",
       "    <tr style=\"text-align: right;\">\n",
       "      <th></th>\n",
       "      <th>Structure ID</th>\n",
       "      <th>smiles</th>\n",
       "      <th>electronic_energy</th>\n",
       "      <th>300K</th>\n",
       "      <th>400K</th>\n",
       "      <th>500K</th>\n",
       "      <th>600K</th>\n",
       "      <th>700K</th>\n",
       "      <th>800K</th>\n",
       "    </tr>\n",
       "  </thead>\n",
       "  <tbody>\n",
       "    <tr>\n",
       "      <td>0</td>\n",
       "      <td>1</td>\n",
       "      <td>O[C@H]1[C@H](O)CO[C@@H](O)[C@@H]1O</td>\n",
       "      <td>-572.654636</td>\n",
       "      <td>0.130831</td>\n",
       "      <td>0.114449</td>\n",
       "      <td>0.096034</td>\n",
       "      <td>0.075704</td>\n",
       "      <td>0.053580</td>\n",
       "      <td>0.029778</td>\n",
       "    </tr>\n",
       "    <tr>\n",
       "      <td>1</td>\n",
       "      <td>2</td>\n",
       "      <td>O</td>\n",
       "      <td>-76.422977</td>\n",
       "      <td>0.003836</td>\n",
       "      <td>-0.003547</td>\n",
       "      <td>-0.011258</td>\n",
       "      <td>-0.019238</td>\n",
       "      <td>-0.027448</td>\n",
       "      <td>-0.035861</td>\n",
       "    </tr>\n",
       "    <tr>\n",
       "      <td>2</td>\n",
       "      <td>3</td>\n",
       "      <td>OC1=COC[C@@H](O)[C@@H]1O</td>\n",
       "      <td>-496.193201</td>\n",
       "      <td>0.103466</td>\n",
       "      <td>0.088156</td>\n",
       "      <td>0.071087</td>\n",
       "      <td>0.052368</td>\n",
       "      <td>0.032109</td>\n",
       "      <td>0.010414</td>\n",
       "    </tr>\n",
       "    <tr>\n",
       "      <td>3</td>\n",
       "      <td>4</td>\n",
       "      <td>OC1=C[C@@H](O)[C@H](O)OC1</td>\n",
       "      <td>-496.205201</td>\n",
       "      <td>0.104026</td>\n",
       "      <td>0.088926</td>\n",
       "      <td>0.072080</td>\n",
       "      <td>0.053591</td>\n",
       "      <td>0.033566</td>\n",
       "      <td>0.012107</td>\n",
       "    </tr>\n",
       "    <tr>\n",
       "      <td>4</td>\n",
       "      <td>5</td>\n",
       "      <td>O[C@H]1C=CO[C@@H](O)[C@@H]1O</td>\n",
       "      <td>-496.204142</td>\n",
       "      <td>0.104043</td>\n",
       "      <td>0.088886</td>\n",
       "      <td>0.071984</td>\n",
       "      <td>0.053439</td>\n",
       "      <td>0.033355</td>\n",
       "      <td>0.011835</td>\n",
       "    </tr>\n",
       "  </tbody>\n",
       "</table>\n",
       "</div>"
      ],
      "text/plain": [
       "   Structure ID                              smiles  electronic_energy  \\\n",
       "0             1  O[C@H]1[C@H](O)CO[C@@H](O)[C@@H]1O        -572.654636   \n",
       "1             2                                   O         -76.422977   \n",
       "2             3            OC1=COC[C@@H](O)[C@@H]1O        -496.193201   \n",
       "3             4           OC1=C[C@@H](O)[C@H](O)OC1        -496.205201   \n",
       "4             5        O[C@H]1C=CO[C@@H](O)[C@@H]1O        -496.204142   \n",
       "\n",
       "       300K      400K      500K      600K      700K      800K  \n",
       "0  0.130831  0.114449  0.096034  0.075704  0.053580  0.029778  \n",
       "1  0.003836 -0.003547 -0.011258 -0.019238 -0.027448 -0.035861  \n",
       "2  0.103466  0.088156  0.071087  0.052368  0.032109  0.010414  \n",
       "3  0.104026  0.088926  0.072080  0.053591  0.033566  0.012107  \n",
       "4  0.104043  0.088886  0.071984  0.053439  0.033355  0.011835  "
      ]
     },
     "execution_count": 58,
     "metadata": {},
     "output_type": "execute_result"
    }
   ],
   "source": [
    "df_all = pd.read_csv('/Users/chowdhury/Documents/kinexns/kinexns/data/free_energy_library.dat', sep = '\\t')\n",
    "df_all.head()"
   ]
  },
  {
   "cell_type": "code",
   "execution_count": 59,
   "metadata": {},
   "outputs": [
    {
     "data": {
      "text/plain": [
       "<matplotlib.legend.Legend at 0x11b8b8668>"
      ]
     },
     "execution_count": 59,
     "metadata": {},
     "output_type": "execute_result"
    },
    {
     "data": {
      "image/png": "[encoded data removed]",
      "text/plain": [
       "<Figure size 432x288 with 1 Axes>"
      ]
     },
     "metadata": {
      "image/png": {
       "height": 277,
       "width": 413
      },
      "needs_background": "light"
     },
     "output_type": "display_data"
    }
   ],
   "source": [
    "import matplotlib.pyplot as plt\n",
    "from scipy import stats\n",
    "import matplotlib as mpl\n",
    "#mpl.rcParams['figure.dpi'] = 300\n",
    "plt.rcParams['font.family'] = \"serif\"\n",
    "plt.rcParams['text.color'] = \"blue\"\n",
    "%matplotlib inline\n",
    "%config InlineBackend.figure_format = 'retina'\n",
    "\n",
    "df_new = pd.DataFrame([df_all['300K'] + df_all['electronic_energy'],df_all['400K'] + df_all['electronic_energy'],df_all['500K'] + df_all['electronic_energy'],df_all['600K'] + df_all['electronic_energy'], df_all['700K'] + df_all['electronic_energy'],df_all['800K'] + df_all['electronic_energy']])\n",
    "#df_new.head()\n",
    "X = [300.0, 400.0, 500.0, 600.0, 700.0, 800.0]\n",
    "Y = df_new[0]\n",
    "#fit = np.polyfit(X,Y,1)\n",
    "#fit_fn = np.poly1d(fit)\n",
    "slope, intercept, r_value, p_value, std_err = stats.linregress(X,Y)\n",
    "#print(intercept)\n",
    "Y1 = [slope * float(x) + intercept for x in X]\n",
    "r_2 = r_value**2\n",
    "\n",
    "fig, ax = plt.subplots()\n",
    "ax.scatter( X, Y, marker = '*', color = 'red', label = 'Actual')\n",
    "ax.plot(X, Y1, '--k', label = 'linear fit')\n",
    "plt.xlabel('Temperature (K)')\n",
    "plt.ylabel('Free Energy (Hartrees)')\n",
    "plt.title('Free energy variation of Xylose')\n",
    "plt.text(500, -572.60, '$ R^2 $ = %f' %r_2)\n",
    "plt.legend()"
   ]
  },
  {
   "cell_type": "code",
   "execution_count": 60,
   "metadata": {},
   "outputs": [
    {
     "data": {
      "text/plain": [
       "<matplotlib.legend.Legend at 0x11b9aa748>"
      ]
     },
     "execution_count": 60,
     "metadata": {},
     "output_type": "execute_result"
    },
    {
     "data": {
      "image/png": "[encoded data removed]",
      "text/plain": [
       "<Figure size 432x288 with 1 Axes>"
      ]
     },
     "metadata": {
      "image/png": {
       "height": 277,
       "width": 407
      },
      "needs_background": "light"
     },
     "output_type": "display_data"
    }
   ],
   "source": [
    "X = [300.0, 400.0, 500.0, 600.0, 700.0, 800.0]\n",
    "Y = df_new[1]\n",
    "#fit = np.polyfit(X,Y,1)\n",
    "#fit_fn = np.poly1d(fit)\n",
    "slope, intercept, r_value, p_value, std_err = stats.linregress(X,Y)\n",
    "#print(intercept)\n",
    "Y1 = [slope * float(x) + intercept for x in X]\n",
    "r_2 = r_value**2\n",
    "\n",
    "fig, ax = plt.subplots()\n",
    "ax.scatter( X, Y, marker = '*', color = 'red', label = 'Actual')\n",
    "ax.plot(X, Y1, '--k', label = 'linear fit')\n",
    "plt.xlabel('Temperature (K)')\n",
    "plt.ylabel('Free Energy (Hartrees)')\n",
    "plt.title('Free energy variation of water')\n",
    "plt.text(500, -76.45, '$ R^2 $ = %f' %r_2)\n",
    "plt.legend()"
   ]
  },
  {
   "cell_type": "code",
   "execution_count": 65,
   "metadata": {},
   "outputs": [
    {
     "name": "stdout",
     "output_type": "stream",
     "text": [
      "/Users/chowdhury/Documents/kinexns/examples/../kinexns/data/free_energy_library.dat\n"
     ]
    }
   ],
   "source": [
    "def build_free_energy_dict(free_energy_path, T):\n",
    "    \"\"\"\n",
    "    Build a dictionary of free energy at a given temperature for all the species \n",
    "    present in the mechanism. It reads the file free_energy_path which is basically\n",
    "    a library of gibbs free energy correction at different molecules at different temperatures.\n",
    "    Parameters\n",
    "    ----------\n",
    "    completereactionlist : str\n",
    "                           path to the file `free_energy_library.dat`\n",
    "    T                    : float\n",
    "                           temperature to calculate free energy\n",
    "    Returns\n",
    "    -------\n",
    "    free_energy.    : dict\n",
    "                    a dictionary where keys are unique species and values\n",
    "                    are free energy of species at a given temperature \n",
    "                    build from free_energy_library.dat\n",
    "    \"\"\"\n",
    "    \n",
    "    df = pd.read_csv(free_energy_path, sep = '\\t')\n",
    "\n",
    "    if \"{}K\".format(T) in df.columns:\n",
    "        df[\"Free Energy @{}K\".format(T)] = df['electronic_energy'] + df[\"{}K\".format(T)]\n",
    "    else:\n",
    "        temp_low = math.floor(T / 100.0)* 100\n",
    "        temp_high = math.ceil(T / 100.0)* 100\n",
    "        df[\"{}K\".format(T)] = (df[\"{}K\".format(temp_high)] - df[\"{}K\".format(temp_low)])*(temp - temp_low)/(temp_high - temp_low) + df[\"{}K\".format(temp_low)]\n",
    "        df[\"Free Energy @{}K\".format(T)] = df['electronic_energy'] + df[\"{}K\".format(T)]\n",
    "    print(df.head())\n",
    "    \n",
    "    free_energy = dict([(i, a) for i, a  in zip(df.smiles, df['Free Energy @' + str(T) +'K'])])\n",
    "    \n",
    "    return free_energy\n",
    "print(file_free_energy)"
   ]
  },
  {
   "cell_type": "code",
   "execution_count": 66,
   "metadata": {},
   "outputs": [
    {
     "name": "stdout",
     "output_type": "stream",
     "text": [
      "   Structure ID                              smiles  electronic_energy  \\\n",
      "0             1  O[C@H]1[C@H](O)CO[C@@H](O)[C@@H]1O        -572.654636   \n",
      "1             2                                   O         -76.422977   \n",
      "2             3            OC1=COC[C@@H](O)[C@@H]1O        -496.193201   \n",
      "3             4           OC1=C[C@@H](O)[C@H](O)OC1        -496.205201   \n",
      "4             5        O[C@H]1C=CO[C@@H](O)[C@@H]1O        -496.204142   \n",
      "\n",
      "       300K      400K      500K      600K      700K      800K      573K  \\\n",
      "0  0.130831  0.114449  0.096034  0.075704  0.053580  0.029778  0.081193   \n",
      "1  0.003836 -0.003547 -0.011258 -0.019238 -0.027448 -0.035861 -0.017083   \n",
      "2  0.103466  0.088156  0.071087  0.052368  0.032109  0.010414  0.057422   \n",
      "3  0.104026  0.088926  0.072080  0.053591  0.033566  0.012107  0.058583   \n",
      "4  0.104043  0.088886  0.071984  0.053439  0.033355  0.011835  0.058446   \n",
      "\n",
      "   Free Energy @573K  \n",
      "0        -572.573443  \n",
      "1         -76.440061  \n",
      "2        -496.135779  \n",
      "3        -496.146618  \n",
      "4        -496.145696  \n",
      "{'O[C@H]1[C@H](O)CO[C@@H](O)[C@@H]1O': -572.5734428000001, 'O': -76.44006077, 'OC1=COC[C@@H](O)[C@@H]1O': -496.13577926999994, 'OC1=C[C@@H](O)[C@H](O)OC1': -496.14661846999996, 'O[C@H]1C=CO[C@@H](O)[C@@H]1O': -496.14569574999996, 'O=C[C@@H](O)[C@H](O)[C@@H](O)CO': -572.5674811700001, 'O=C[C@H](O)[C@@H](O)/C=C\\\\O': -496.13753674, 'O=CC[C@H](O)[C@@H](O)C=O': -496.15196339, 'O=CCO': -229.03776998, 'O=CCC=O': -267.13324376, 'O=C/C=C\\\\[C@@H](O)C=O': -419.7210245499999, 'OC1=COC=C[C@@H]1O': -419.71468861000005, 'O=C[C@H](O)/C=C(/O)CO': -496.13948026, 'O=C[C@H](O)CC(=O)CO': -496.15549454, 'O=C/C=C/C(=O)CO': -419.72695352000005, 'CC(=O)CO': -268.33246429999997, 'O=CC=O': -227.83691937999998, 'OC1=COCC(O)=C1': -419.71331369, 'O=C1COCC(=O)C1': -419.74221838000005, 'O=C1COC[C@@H](O)[C@@H]1O': -496.15028652999996, 'C=C(O)[C@@H](O)[C@H](O)C=O': -496.13876051, 'CC(=O)[C@@H](O)[C@H](O)C=O': -496.16006602, 'CC(=O)C=O': -267.13257472, 'CC(=O)/C=C(/O)C=O': -419.74101216, 'CC(=O)CC(=O)C=O': -419.74502075, 'O=C1COC=C[C@@H]1O': -419.71469271000007, 'O=C[C@H]1OC[C@H](O)[C@H]1O': -496.14205146999996, 'O=CC1=C[C@@H](O)CO1': -419.7172937000001, 'O=Cc1ccco1': -343.32075639999994, 'O=C[C@@H](O)[C@@H](O)/C=C\\\\O': -496.14103902, 'O=CC[C@H](O)[C@H](O)C=O': -496.15541007, 'O=CC(O)C=O': -342.35558369, 'CC=O': -153.81669279999997, 'O=C[C@@H](O)/C=C(\\\\O)CO': -496.14596897999996, 'O=C[C@@H](O)CC(=O)CO': -496.15832871, 'C=C(O)C=O': -267.12921262, 'O=C/C=C(\\\\O)[C@@H](O)CO': -496.15195112000004, 'O=CCC(=O)[C@@H](O)CO': -496.1556096499999, 'O=C[C@H](O)CO': -343.54348016000006, 'O=C[C@@H](O)[C@@H](O)CO': -458.05563357, 'C=O': -114.51616431999999, 'O/C=C/O': -229.0216262, '[C]': -37.810453009999996, '[HH]': -1.184619467, '[C]=O': -113.35152743, 'C(=O)=O': -188.62084957}\n"
     ]
    }
   ],
   "source": [
    "free_energy_dict = build_free_energy_dict(file_free_energy, temp)\n",
    "print(free_energy_dict)"
   ]
  },
  {
   "cell_type": "code",
   "execution_count": 67,
   "metadata": {},
   "outputs": [
    {
     "ename": "FileNotFoundError",
     "evalue": "[Errno 2] No such file or directory: '/Users/chowdhury/Documents/kmpy/kmpy/data/complete_reaction_list.dat'",
     "output_type": "error",
     "traceback": [
      "\u001b[0;31m---------------------------------------------------------------------------\u001b[0m",
      "\u001b[0;31mFileNotFoundError\u001b[0m                         Traceback (most recent call last)",
      "\u001b[0;32m<ipython-input-67-65090a2e9dae>\u001b[0m in \u001b[0;36m<module>\u001b[0;34m\u001b[0m\n\u001b[1;32m      2\u001b[0m \u001b[0;32mimport\u001b[0m \u001b[0mmatplotlib\u001b[0m\u001b[0;34m.\u001b[0m\u001b[0mpyplot\u001b[0m \u001b[0;32mas\u001b[0m \u001b[0mplt\u001b[0m\u001b[0;34m\u001b[0m\u001b[0;34m\u001b[0m\u001b[0m\n\u001b[1;32m      3\u001b[0m \u001b[0;34m\u001b[0m\u001b[0m\n\u001b[0;32m----> 4\u001b[0;31m \u001b[0mreactants_list1\u001b[0m\u001b[0;34m,\u001b[0m \u001b[0mproducts_list1\u001b[0m\u001b[0;34m,\u001b[0m \u001b[0munique_species1\u001b[0m \u001b[0;34m=\u001b[0m \u001b[0mbuild_species_list\u001b[0m\u001b[0;34m(\u001b[0m\u001b[0;34m'/Users/chowdhury/Documents/kmpy/kmpy/data/complete_reaction_list.dat'\u001b[0m\u001b[0;34m)\u001b[0m\u001b[0;34m\u001b[0m\u001b[0;34m\u001b[0m\u001b[0m\n\u001b[0m\u001b[1;32m      5\u001b[0m \u001b[0mreac_prod_list1\u001b[0m \u001b[0;34m=\u001b[0m \u001b[0;34m[\u001b[0m\u001b[0mreact\u001b[0m \u001b[0;34m+\u001b[0m \u001b[0mprod\u001b[0m \u001b[0;32mfor\u001b[0m \u001b[0mreact\u001b[0m\u001b[0;34m,\u001b[0m \u001b[0mprod\u001b[0m \u001b[0;32min\u001b[0m \u001b[0mzip\u001b[0m\u001b[0;34m(\u001b[0m\u001b[0mreactants_list1\u001b[0m\u001b[0;34m,\u001b[0m \u001b[0mproducts_list1\u001b[0m\u001b[0;34m)\u001b[0m\u001b[0;34m]\u001b[0m\u001b[0;34m\u001b[0m\u001b[0;34m\u001b[0m\u001b[0m\n\u001b[1;32m      6\u001b[0m \u001b[0;34m\u001b[0m\u001b[0m\n",
      "\u001b[0;32m<ipython-input-41-c459b72d1fd1>\u001b[0m in \u001b[0;36mbuild_species_list\u001b[0;34m(reaction_file)\u001b[0m\n\u001b[1;32m     25\u001b[0m     \u001b[0mspecies_name\u001b[0m \u001b[0;34m=\u001b[0m \u001b[0;34m[\u001b[0m\u001b[0;34m]\u001b[0m\u001b[0;34m\u001b[0m\u001b[0;34m\u001b[0m\u001b[0m\n\u001b[1;32m     26\u001b[0m \u001b[0;34m\u001b[0m\u001b[0m\n\u001b[0;32m---> 27\u001b[0;31m     \u001b[0;32mfor\u001b[0m \u001b[0mline\u001b[0m \u001b[0;32min\u001b[0m \u001b[0mopen\u001b[0m\u001b[0;34m(\u001b[0m\u001b[0mreaction_file\u001b[0m\u001b[0;34m,\u001b[0m \u001b[0;34m'r'\u001b[0m\u001b[0;34m)\u001b[0m\u001b[0;34m.\u001b[0m\u001b[0mreadlines\u001b[0m\u001b[0;34m(\u001b[0m\u001b[0;34m)\u001b[0m\u001b[0;34m:\u001b[0m\u001b[0;34m\u001b[0m\u001b[0;34m\u001b[0m\u001b[0m\n\u001b[0m\u001b[1;32m     28\u001b[0m         \u001b[0mreac\u001b[0m \u001b[0;34m=\u001b[0m \u001b[0mReaction\u001b[0m\u001b[0;34m(\u001b[0m\u001b[0;34m)\u001b[0m\u001b[0;34m\u001b[0m\u001b[0;34m\u001b[0m\u001b[0m\n\u001b[1;32m     29\u001b[0m         \u001b[0mreactant_list\u001b[0m\u001b[0;34m.\u001b[0m\u001b[0mappend\u001b[0m\u001b[0;34m(\u001b[0m\u001b[0mreac\u001b[0m\u001b[0;34m.\u001b[0m\u001b[0mgetReactantsName\u001b[0m\u001b[0;34m(\u001b[0m\u001b[0mline\u001b[0m\u001b[0;34m)\u001b[0m\u001b[0;34m)\u001b[0m\u001b[0;34m\u001b[0m\u001b[0;34m\u001b[0m\u001b[0m\n",
      "\u001b[0;31mFileNotFoundError\u001b[0m: [Errno 2] No such file or directory: '/Users/chowdhury/Documents/kmpy/kmpy/data/complete_reaction_list.dat'"
     ]
    }
   ],
   "source": [
    "temperature = [300, 373, 473, 573, 673, 773]\n",
    "import matplotlib.pyplot as plt\n",
    "\n",
    "reactants_list1, products_list1, unique_species1 = build_species_list('/Users/chowdhury/Documents/kmpy/kmpy/data/complete_reaction_list.dat')\n",
    "reac_prod_list1 = [react + prod for react, prod in zip(reactants_list1, products_list1)]\n",
    "\n",
    "for temp in temperature:\n",
    "    df = pd.read_csv('/Users/chowdhury/Documents/kmpy/kmpy/data/free_energy_library.dat', sep = '\\t')\n",
    "    #df = pd.read_csv(file_free_energy, sep = '\\t')\n",
    "    if str(temp)+'K' in df.columns:\n",
    "        df['Free Energy @' + str(temp) +'K'] = df['electronic_energy'] + df[str(temp)+'K']\n",
    "    else:\n",
    "        temp_low = math.floor(temp / 100.0)* 100\n",
    "        temp_high = math.ceil(temp / 100.0)* 100\n",
    "        df[str(temp)+'K'] = (df[str(temp_high)+'K'] - df[str(temp_low)+'K'])*(temp - temp_low)/(temp_high - temp_low) + df[str(temp_low)+'K']\n",
    "        df['Free Energy @' + str(temp) +'K'] = df['electronic_energy'] + df[str(temp)+'K']\n",
    "    \n",
    "    free_energy_dict1 = dict([(i, a) for i, a  in zip(df.smiles, df['Free Energy @' + str(temp) +'K'])])\n",
    "#    print (free_energy_dict)\n",
    "    mol_change = []\n",
    "    free_energy_change = []\n",
    "\n",
    "    for i, item in enumerate (reac_prod_list1):\n",
    "        n_reac = 0\n",
    "        n_prod = 0\n",
    "        reac_free_energy = 0\n",
    "        prod_free_energy = 0\n",
    "        for entry in item:\n",
    "        \n",
    "            #print(entry[0])\n",
    "            if float(entry[0]) < 0:\n",
    "                n_reac = n_reac + abs(float(entry[0]))\n",
    "                reac_free_energy = free_energy_dict1[entry[1]] + reac_free_energy\n",
    "            else:\n",
    "                prod_free_energy = free_energy_dict1[entry[1]] + prod_free_energy\n",
    "                n_prod = n_prod + abs(float(entry[0]))\n",
    "        #print(n_reac)\n",
    "        mol_change.append(n_prod - n_reac)\n",
    "        #print(mol_change)\n",
    "        free_energy_change.append((prod_free_energy - reac_free_energy) * 2625.5)\n",
    "    plt.plot(free_energy_change, label = '%sK' %temp)\n",
    "\n",
    "plt.legend()\n",
    "plt.xlim(0,10)\n",
    "plt.ylim(-90,100)\n",
    "plt.xlabel('Reaction Number')\n",
    "plt.ylabel('Free Energy Change (kJ/mol)')"
   ]
  },
  {
   "cell_type": "code",
   "execution_count": 68,
   "metadata": {},
   "outputs": [],
   "source": [
    "def build_free_energy_change(complete_list, free_energy):\n",
    "    \"\"\"\n",
    "    Calculate the reverse rate constants of all the reactions. There are two steps \n",
    "    doing this\n",
    "    1. Calculate the change in free energy for each reaction\n",
    "            delG = G(products) - G(reactanat)\n",
    "    This is calculated from the complete lists of reactions and free_energy_dict\n",
    "    2. Use delG to calculate the equlilibrium constant\n",
    "            Keq = exp (- delG/Gas Const * Temp)\n",
    "    3. Use the following equation to calculate the reverse rate constant\n",
    "            Keq = Kf / Kr * (Gas Const * Temp / Pressure)^n\n",
    "    where n = total number of product molecules - total number of reactant molecules\n",
    "    ----------\n",
    "    complete_list        : list\n",
    "                           A list of all the reactions with reactant and \n",
    "                         product species and their stoichimetric coeffs\n",
    "    free_energy          : dict\n",
    "                          A dictionary of free energies of all the species\n",
    "                          at a given temperature, obtained from \n",
    "                          build_free_energy_dict function\n",
    "    forward_rate         : A list of forward rate constants for all the reactions\n",
    "                         obtained from build_forward_reaction_rates\n",
    "    T                    : float\n",
    "                           temperature to calculate free energy\n",
    "    Returns\n",
    "    -------\n",
    "     reverse_rates       : list\n",
    "                         A list of reverse rate constants\n",
    "    \"\"\"\n",
    "    \n",
    "    \n",
    "    mol_change = []\n",
    "    gibbs_energy_list = []\n",
    "\n",
    "    for i, item in enumerate (complete_list):\n",
    "        n_reac = 0\n",
    "        n_prod = 0\n",
    "        reac_free_energy = 0\n",
    "        prod_free_energy = 0\n",
    "        for entry in item:\n",
    "        \n",
    "            if float(entry[0]) < 0:\n",
    "                n_reac = n_reac + abs(float(entry[0]))\n",
    "                reac_free_energy = abs(float(entry[0])) * free_energy[entry[1]] + reac_free_energy\n",
    "            else:\n",
    "                prod_free_energy = abs(float(entry[0])) * free_energy[entry[1]] + prod_free_energy\n",
    "                n_prod = n_prod + abs(float(entry[0]))\n",
    "        #print(n_reac)\n",
    "        mol_change.append(n_prod - n_reac)\n",
    "        gibbs_energy_list.append((prod_free_energy - reac_free_energy) * HT_JL)\n",
    "    \n",
    "    return gibbs_energy_list, mol_change\n",
    "    "
   ]
  },
  {
   "cell_type": "code",
   "execution_count": 69,
   "metadata": {},
   "outputs": [
    {
     "data": {
      "text/plain": [
       "[-6.293953619833474,\n",
       " -34.75227321973887,\n",
       " -32.32967185957523,\n",
       " 15.652259565004215,\n",
       " 21.4214807549626,\n",
       " -37.87716957504864,\n",
       " -50.01669392511337,\n",
       " -23.949627214829917,\n",
       " -23.770305565252812,\n",
       " 18.74137035483423,\n",
       " -42.04549213994474,\n",
       " -30.245103625125182,\n",
       " -36.465937069859706,\n",
       " -17.737851745117297,\n",
       " -75.88926359512377,\n",
       " -46.19617134517193,\n",
       " -38.088811130042615,\n",
       " -7.8272456201410705,\n",
       " -55.937616504975296,\n",
       " -26.986674339997336,\n",
       " -55.153642205104035,\n",
       " -10.524553044882765,\n",
       " -49.80602380529305,\n",
       " -0.010764550032519082,\n",
       " -38.41387428486962,\n",
       " -40.17802650034355,\n",
       " -114.27087048461817,\n",
       " -35.75568680996946,\n",
       " -37.73119177505902,\n",
       " -44.28278570981212,\n",
       " -48.699296789741254,\n",
       " -32.450471115037345,\n",
       " -22.720788195013256,\n",
       " 0.0,\n",
       " -64.40540536007813,\n",
       " -9.605470514689983,\n",
       " -40.44343829530922,\n",
       " -36.1504307350026,\n",
       " -67.72012536478925,\n",
       " -11.333548359753536,\n",
       " -9.878732555062669,\n",
       " -42.385494390056394]"
      ]
     },
     "execution_count": 69,
     "metadata": {},
     "output_type": "execute_result"
    }
   ],
   "source": [
    "gibbs_energy, mol = build_free_energy_change(reac_prod_list, free_energy_dict)\n",
    "gibbs_energy"
   ]
  },
  {
   "cell_type": "markdown",
   "metadata": {},
   "source": [
    "Now, after all these, we can calculate the thermodynamic equilibrium constants using the folloing equation\n",
    "\n",
    "$ K_{eq} = exp (-\\frac{\\Delta G}{RT})$"
   ]
  },
  {
   "cell_type": "code",
   "execution_count": 70,
   "metadata": {},
   "outputs": [
    {
     "data": {
      "text/plain": [
       "[3.7478059392258545,\n",
       " 1472.7506416232027,\n",
       " 885.6804806791698,\n",
       " 0.03741877593758052,\n",
       " 0.011146763344024589,\n",
       " 2837.9506739118815,\n",
       " 36281.313688001035,\n",
       " 152.51943852384215,\n",
       " 146.88507128199748,\n",
       " 0.019564839154529386,\n",
       " 6807.733727798836,\n",
       " 571.7960032659608,\n",
       " 2110.3395575347386,\n",
       " 41.4037547767535,\n",
       " 8285330.418735665,\n",
       " 16270.161103266519,\n",
       " 2966.8717202066696,\n",
       " 5.170790414966751,\n",
       " 125734.18964990876,\n",
       " 288.5308140442488,\n",
       " 106655.62462760144,\n",
       " 9.108611361621232,\n",
       " 34711.84011535467,\n",
       " 1.0022621531119518,\n",
       " 3176.380884128338,\n",
       " 4600.005753695206,\n",
       " 26139712504.598995,\n",
       " 1818.040849465135,\n",
       " 2752.308022872552,\n",
       " 10888.33445575511,\n",
       " 27515.970516317542,\n",
       " 908.4259314788559,\n",
       " 117.84204558039943,\n",
       " 1.0,\n",
       " 743711.175882265,\n",
       " 7.510444601876033,\n",
       " 4863.558784626394,\n",
       " 1975.1030764204047,\n",
       " 1491368.1553577667,\n",
       " 10.79450650468792,\n",
       " 7.953844483952876,\n",
       " 7311.361568560388]"
      ]
     },
     "execution_count": 70,
     "metadata": {},
     "output_type": "execute_result"
    }
   ],
   "source": [
    "equilibrium_constants = [np.exp(-n * 1000 /(GAS_CONST * temp)) for n in gibbs_energy]\n",
    "equilibrium_constants"
   ]
  },
  {
   "cell_type": "markdown",
   "metadata": {},
   "source": [
    "Finally, we can calculate the reverse rate constants using the following equaion\n",
    "\n",
    "\n",
    "$ K_{eq} = \\frac{k_f}{k_r} (\\frac{1000RT}{P})^{\\Delta n}$, ${\\Delta n}$ = number of product molecules - number of reactant molecules\n",
    "\n",
    "multiplied by 1000 to convert it from $ \\frac{m^3}{mol*s}$ to $ \\frac{L}{mol*s}$"
   ]
  },
  {
   "cell_type": "code",
   "execution_count": 71,
   "metadata": {},
   "outputs": [
    {
     "name": "stdout",
     "output_type": "stream",
     "text": [
      "[1.1379057686786213e-05, 2.8957040503698464e-08, 9.975478106112853e-09, 0.0009483448135351068, 0.0021052930416568835, 4.968383801174684e-09, 7.237684185252314e-07, 1.0116131013377096e-05, 2.903392401223406e-07, 0.0011994580236422835, 2.071177975016889e-09, 2.6983515333811192e-06, 1.2443148751217059e-05, 1.0300152778722192e-06, 1.7018063787669946e-12, 2.6211479843779145e-09, 4.75248999165167e-09, 4.538417035284514e-06, 1.121415598737014e-10, 9.386354500770732e-05, 1.4466247116184548e-08, 1.5479887764458226e-06, 2.5452658846853797e-10, 1.4068203725958322e-05, 4.857435800295422e-07, 0.00011515532700999932, 2.5310227524957375e-15, 8.486644415321152e-07, 5.122983343296196e-09, 2.411688319888338e-06, 5.607313110322332e-08, 1.5521384482984407e-08, 0.00022283446371496138, 9.070586400466592e-07, 2.0746045941336703e-09, 1.877389276431721e-06, 5.399188165050525e-06, 1.3295138539085037e-05, 2.737047803138508e-07, 0.002508917386671746, 0.0033014561804623186, 1.240615214472644e-10]\n"
     ]
    }
   ],
   "source": [
    "reverse_rate_constants = [(a / b) * (GAS_CONST * temp * 1000/ PR_ATM)**c if c < 3 else 0 for (a, b, c) in zip(forward_rate_constants, equilibrium_constants, mol)]\n",
    "\n",
    "print(reverse_rate_constants)"
   ]
  },
  {
   "cell_type": "code",
   "execution_count": 73,
   "metadata": {},
   "outputs": [
    {
     "name": "stdout",
     "output_type": "stream",
     "text": [
      "['rate_r[0] = kr(T,0) * y[9]**1.0 * y[38]**1.0 ', 'rate_r[1] = kr(T,1) * y[9]**1.0 * y[39]**1.0 ', 'rate_r[2] = kr(T,2) * y[9]**1.0 * y[40]**1.0 ', 'rate_r[3] = kr(T,3) * y[29]**1.0 ', 'rate_r[4] = kr(T,4) * y[33]**1.0 ', 'rate_r[5] = kr(T,5) * y[23]**1.0 ', 'rate_r[6] = kr(T,6) * y[22]**1.0 * y[21]**1.0 ', 'rate_r[7] = kr(T,7) * y[9]**1.0 * y[13]**1.0 ', 'rate_r[8] = kr(T,8) * y[9]**1.0 * y[36]**1.0 ', 'rate_r[9] = kr(T,9) * y[30]**1.0 ', 'rate_r[10] = kr(T,10) * y[31]**1.0 ', 'rate_r[11] = kr(T,11) * y[9]**1.0 * y[12]**1.0 ', 'rate_r[12] = kr(T,12) * y[6]**1.0 * y[19]**1.0 ', 'rate_r[13] = kr(T,13) * y[9]**1.0 * y[37]**1.0 ', 'rate_r[14] = kr(T,14) * y[15]**1.0 ', 'rate_r[15] = kr(T,15) * y[9]**1.0 * y[37]**1.0 ', 'rate_r[16] = kr(T,16) * y[16]**1.0 ', 'rate_r[17] = kr(T,17) * y[1]**1.0 ', 'rate_r[18] = kr(T,18) * y[7]**1.0 ', 'rate_r[19] = kr(T,19) * y[4]**1.0 * y[22]**1.0 ', 'rate_r[20] = kr(T,20) * y[9]**1.0 * y[3]**1.0 ', 'rate_r[21] = kr(T,21) * y[5]**1.0 ', 'rate_r[22] = kr(T,22) * y[9]**1.0 * y[36]**1.0 ', 'rate_r[23] = kr(T,23) * y[14]**1.0 ', 'rate_r[24] = kr(T,24) * y[9]**1.0 * y[34]**1.0 ', 'rate_r[25] = kr(T,25) * y[9]**1.0 * y[18]**1.0 ', 'rate_r[26] = kr(T,26) * y[9]**1.0 * y[35]**1.0 ', 'rate_r[27] = kr(T,27) * y[9]**1.0 * y[27]**1.0 ', 'rate_r[28] = kr(T,28) * y[24]**1.0 ', 'rate_r[29] = kr(T,29) * y[17]**1.0 * y[8]**1.0 ', 'rate_r[30] = kr(T,30) * y[9]**1.0 * y[25]**1.0 ', 'rate_r[31] = kr(T,31) * y[26]**1.0 ', 'rate_r[32] = kr(T,32) * y[22]**1.0 * y[0]**1.0 ', 'rate_r[33] = kr(T,33) * y[4]**1.0 ', 'rate_r[34] = kr(T,34) * y[9]**1.0 * y[11]**1.0 ', 'rate_r[35] = kr(T,35) * y[20]**1.0 ', 'rate_r[36] = kr(T,36) * y[22]**1.0 * y[21]**1.0 ', 'rate_r[37] = kr(T,37) * y[22]**1.0 * y[32]**1.0 ', 'rate_r[38] = kr(T,38) * y[9]**1.0 * y[0]**1.0 ', 'rate_r[39] = kr(T,39) * y[28]**1.0 * y[2]**1.0 ', 'rate_r[40] = kr(T,40) * y[22]**1.0 * y[10]**1.0 ', 'rate_r[41] = kr(T,41) * y[22]**1.0 ']\n"
     ]
    }
   ],
   "source": [
    "def build_rate_eqn(k_mat, r_dict, s_indices, human, forward):\n",
    "\n",
    "    \"\"\" This function writes the list of rate expressions for each reaction.\n",
    "    Parameters\n",
    "    ----------\n",
    "    kmat               : list\n",
    "                         A list of reaction rate contstants (k_forward or k_reverse)\n",
    "    r_dict             : dictionary\n",
    "                         reactant or product directory\n",
    "    s_indices          : dict\n",
    "                         the reverse of speciesindices (keys are the indices\n",
    "                         and values are the species)\n",
    "    human              : str, optional\n",
    "                         indicate whether the output of this function should\n",
    "                         be formatted for a human to read ('yes'). Default\n",
    "                         is 'no'\n",
    "    forward             : str\n",
    "                        reaction type,if 'yes', it is forward reaction\n",
    "                        default is 'yes'\n",
    "    Returns\n",
    "    -------\n",
    "    rates_list : list\n",
    "                A list of the rate expressions for all the reactions in the mecahnism\n",
    "    \"\"\"\n",
    "\n",
    "    rates_list = []\n",
    "    for i, line in enumerate(k_mat):\n",
    "        if forward == 'yes':\n",
    "            rate = 'rate_f[%s] = kf(T,%s) ' % (i, i)\n",
    "        else:\n",
    "            rate = 'rate_r[%s] = kr(T,%s) ' % (i, i)\n",
    "        concentrations = ''\n",
    "        for entry in r_dict[i]:\n",
    "            if entry == 'n':   # if there is no reaction\n",
    "                concentrations = '* 0'\n",
    "                break\n",
    "            else:\n",
    "                if human == 'no':\n",
    "                    concentrations += '* y[%s]**%s ' % (entry[0], entry[1])\n",
    "                elif human == 'yes':\n",
    "                    concentrations += '* [%s]**%s ' % \\\n",
    "                        (s_indices[entry[0]], entry[1])\n",
    "                else:\n",
    "                    raise ValueError('human must be a string: yes or no')\n",
    "        rate += concentrations\n",
    "\n",
    "        #rate = rate_reactant + rate_product\n",
    "        rates_list.append(rate)\n",
    "        \n",
    "    return rates_list\n",
    "\n",
    "\n",
    "rates_f = build_rate_eqn(forward_rate_constants, reac_dict, indices_to_species, human = 'no', forward = 'yes')\n",
    "rates_r = build_rate_eqn(reverse_rate_constants, prod_dict, indices_to_species, human = 'no', forward = 'no')\n",
    "\n",
    "\n",
    "print(rates_r)"
   ]
  },
  {
   "cell_type": "code",
   "execution_count": 74,
   "metadata": {},
   "outputs": [
    {
     "name": "stdout",
     "output_type": "stream",
     "text": [
      "[ 0.  0.  0.  0.  0.  0.  0.  0.  0.  1.  0.  0.  0.  0.  0.  0.  0.  0.\n",
      "  0.  0.  0.  0.  0.  0.  0.  0.  0.  0.  0.  0.  0.  0.  0.  0.  0.  0.\n",
      "  0.  0.  0.  1.  0. -1.]\n"
     ]
    }
   ],
   "source": [
    "#rate_matrix = np.zeros(len(reac_prod_list), dtype = float)\n",
    "rate_list = []\n",
    "for rxnindex, reac_list in enumerate(reac_prod_list):\n",
    "    #rate = ''\n",
    "    rate_f = 'kf[%s] ' %rxnindex\n",
    "    rate_r = '- kr[%s]' %rxnindex\n",
    "    concentration_f = ''\n",
    "    concentration_r = ''\n",
    "    for x in range (len(reac_list)):\n",
    "        species = reac_list[x][1]\n",
    "        for i in range (len(unique_species)):\n",
    "            if i == speciesindices[species]:\n",
    "                reac_matrix[rxnindex][i] = float(reac_list[x][0])\n",
    "                if float(reac_list[x][0]) < 0:\n",
    "                    if abs(float(reac_list[x][0])) == 1:\n",
    "                        concentration_f += '* y[%s] ' % (i)\n",
    "                    else:    \n",
    "                        concentration_f += '* y[%s] ** %s ' % (i, abs(float(reac_list[x][0])))\n",
    "                else:\n",
    "                    if abs(float(reac_list[x][0])) == 1:\n",
    "                        concentration_r += '* y[%s] ' % (i)\n",
    "                    else:    \n",
    "                        concentration_r += '* y[%s] ** %s ' % (i, float(reac_list[x][0]))\n",
    "                    \n",
    "    rate = rate_f + concentration_f + rate_r + concentration_r\n",
    "    #print(rate)\n",
    "    rate_list.append(rate)\n",
    "print(reac_matrix[1])\n",
    "#print(rate_list)\n",
    "\n",
    "\n",
    "        "
   ]
  },
  {
   "cell_type": "code",
   "execution_count": 75,
   "metadata": {},
   "outputs": [],
   "source": [
    "def build_dydt_list(rates_forward, rates_reverse, specieslist, species_rxns, human='no'):\n",
    "    \"\"\"This function returns the list of dydt expressions generated for all\n",
    "    the reactions from rates_list.\n",
    "    Parameters\n",
    "    ----------\n",
    "    rates_list         : list\n",
    "                         the output of build_rates_list()\n",
    "    specieslist        : list\n",
    "                         a list of all the species in the kinetic scheme\n",
    "    species_rxns       : dict\n",
    "                         dictionary where keys that are the model species and\n",
    "                         values are the reactions they are involved in\n",
    "    human              : str, optional\n",
    "                         indicate whether the output of this function should\n",
    "                         be formatted for a human to read ('yes'). Default\n",
    "                         is 'no'\n",
    "    Returns\n",
    "    -------\n",
    "    dydt_expressions : list\n",
    "                       expressions for the ODEs expressing the concentration\n",
    "                       of each species with time\n",
    "    \"\"\"\n",
    "    dydt_expressions = []\n",
    "    for species in specieslist:\n",
    "        rate_formation = 'd[%s]/dt = ' % (species)\n",
    "        # \"entry\" is [reaction#, sign of that reaction, coefficient]\n",
    "        for entry in species_rxns[species]:\n",
    "            if human == 'no':\n",
    "                rate_formation += '%s*%s' % \\\n",
    "                    (entry[2], rates_forward[entry[0]].split(' = ')[1])\n",
    "                rate_formation += '%s*%s' % \\\n",
    "                    (entry[3], rates_reverse[entry[0]].split(' = ')[1])\n",
    "            elif human == 'yes':\n",
    "                rate_formation += '%s*rate_f[%s] ' % (entry[2], entry[0])\n",
    "                rate_formation += '%s*rate_r[%s] ' % (entry[3], entry[0])\n",
    "            else:\n",
    "                raise ValueError('human must be a string: yes or no')\n",
    "        dydt_expressions.append(rate_formation)\n",
    "    return dydt_expressions\n"
   ]
  },
  {
   "cell_type": "code",
   "execution_count": 76,
   "metadata": {},
   "outputs": [],
   "source": [
    "dydt_list = build_dydt_list(rates_f, rates_r, unique_species, reac_species, human='no')"
   ]
  },
  {
   "cell_type": "code",
   "execution_count": 77,
   "metadata": {
    "scrolled": true
   },
   "outputs": [
    {
     "data": {
      "text/plain": [
       "['d[C=C(O)C=O]/dt = +1*kf(T,32) * y[26]**1.0 -1*kr(T,32) * y[22]**1.0 * y[0]**1.0 +1*kf(T,38) * y[32]**1.0 -1*kr(T,38) * y[9]**1.0 * y[0]**1.0 ',\n",
       " 'd[C=C(O)[C@@H](O)[C@H](O)C=O]/dt = +1*kf(T,17) * y[38]**1.0 -1*kr(T,17) * y[1]**1.0 -1*kf(T,18) * y[1]**1.0 +1*kr(T,18) * y[7]**1.0 ',\n",
       " 'd[C=O]/dt = +1*kf(T,39) * y[29]**1.0 -1*kr(T,39) * y[28]**1.0 * y[2]**1.0 ',\n",
       " 'd[CC(=O)/C=C(/O)C=O]/dt = +1*kf(T,20) * y[7]**1.0 -1*kr(T,20) * y[9]**1.0 * y[3]**1.0 -1*kf(T,21) * y[3]**1.0 +1*kr(T,21) * y[5]**1.0 ',\n",
       " 'd[CC(=O)C=O]/dt = +1*kf(T,19) * y[7]**1.0 -1*kr(T,19) * y[4]**1.0 * y[22]**1.0 -1*kf(T,33) * y[4]**1.0 +1*kr(T,33) * y[4]**1.0 +1*kf(T,33) * y[4]**1.0 -1*kr(T,33) * y[4]**1.0 ',\n",
       " 'd[CC(=O)CC(=O)C=O]/dt = +1*kf(T,21) * y[3]**1.0 -1*kr(T,21) * y[5]**1.0 ',\n",
       " 'd[CC(=O)CO]/dt = +1*kf(T,12) * y[31]**1.0 -1*kr(T,12) * y[6]**1.0 * y[19]**1.0 ',\n",
       " 'd[CC(=O)[C@@H](O)[C@H](O)C=O]/dt = +1*kf(T,18) * y[1]**1.0 -1*kr(T,18) * y[7]**1.0 -1*kf(T,19) * y[7]**1.0 +1*kr(T,19) * y[4]**1.0 * y[22]**1.0 -1*kf(T,20) * y[7]**1.0 +1*kr(T,20) * y[9]**1.0 * y[3]**1.0 ',\n",
       " 'd[CC=O]/dt = +1*kf(T,29) * y[24]**1.0 -1*kr(T,29) * y[17]**1.0 * y[8]**1.0 ',\n",
       " 'd[O]/dt = +1*kf(T,0) * y[41]**1.0 -1*kr(T,0) * y[9]**1.0 * y[38]**1.0 +1*kf(T,1) * y[41]**1.0 -1*kr(T,1) * y[9]**1.0 * y[39]**1.0 +1*kf(T,2) * y[41]**1.0 -1*kr(T,2) * y[9]**1.0 * y[40]**1.0 +1*kf(T,7) * y[23]**1.0 -1*kr(T,7) * y[9]**1.0 * y[13]**1.0 +1*kf(T,8) * y[40]**1.0 -1*kr(T,8) * y[9]**1.0 * y[36]**1.0 +1*kf(T,11) * y[31]**1.0 -1*kr(T,11) * y[9]**1.0 * y[12]**1.0 +1*kf(T,13) * y[39]**1.0 -1*kr(T,13) * y[9]**1.0 * y[37]**1.0 +1*kf(T,15) * y[38]**1.0 -1*kr(T,15) * y[9]**1.0 * y[37]**1.0 +1*kf(T,20) * y[7]**1.0 -1*kr(T,20) * y[9]**1.0 * y[3]**1.0 +1*kf(T,22) * y[38]**1.0 -1*kr(T,22) * y[9]**1.0 * y[36]**1.0 +1*kf(T,24) * y[29]**1.0 -1*kr(T,24) * y[9]**1.0 * y[34]**1.0 +1*kf(T,25) * y[34]**1.0 -1*kr(T,25) * y[9]**1.0 * y[18]**1.0 +1*kf(T,26) * y[18]**1.0 -1*kr(T,26) * y[9]**1.0 * y[35]**1.0 +1*kf(T,27) * y[29]**1.0 -1*kr(T,27) * y[9]**1.0 * y[27]**1.0 +1*kf(T,30) * y[29]**1.0 -1*kr(T,30) * y[9]**1.0 * y[25]**1.0 +1*kf(T,34) * y[29]**1.0 -1*kr(T,34) * y[9]**1.0 * y[11]**1.0 +1*kf(T,38) * y[32]**1.0 -1*kr(T,38) * y[9]**1.0 * y[0]**1.0 ',\n",
       " 'd[O/C=C/O]/dt = +1*kf(T,40) * y[28]**1.0 -1*kr(T,40) * y[22]**1.0 * y[10]**1.0 -1*kf(T,41) * y[10]**1.0 +1*kr(T,41) * y[22]**1.0 ',\n",
       " 'd[O=C/C=C(\\\\O)[C@@H](O)CO]/dt = +1*kf(T,34) * y[29]**1.0 -1*kr(T,34) * y[9]**1.0 * y[11]**1.0 -1*kf(T,35) * y[11]**1.0 +1*kr(T,35) * y[20]**1.0 ',\n",
       " 'd[O=C/C=C/C(=O)CO]/dt = +1*kf(T,11) * y[31]**1.0 -1*kr(T,11) * y[9]**1.0 * y[12]**1.0 ',\n",
       " 'd[O=C/C=C\\\\[C@@H](O)C=O]/dt = +1*kf(T,7) * y[23]**1.0 -1*kr(T,7) * y[9]**1.0 * y[13]**1.0 ',\n",
       " 'd[O=C1COC=C[C@@H]1O]/dt = +1*kf(T,23) * y[36]**1.0 -1*kr(T,23) * y[14]**1.0 ',\n",
       " 'd[O=C1COCC(=O)C1]/dt = +1*kf(T,14) * y[37]**1.0 -1*kr(T,14) * y[15]**1.0 ',\n",
       " 'd[O=C1COC[C@@H](O)[C@@H]1O]/dt = +1*kf(T,16) * y[38]**1.0 -1*kr(T,16) * y[16]**1.0 ',\n",
       " 'd[O=CC(O)C=O]/dt = +1*kf(T,29) * y[24]**1.0 -1*kr(T,29) * y[17]**1.0 * y[8]**1.0 ',\n",
       " 'd[O=CC1=C[C@@H](O)CO1]/dt = +1*kf(T,25) * y[34]**1.0 -1*kr(T,25) * y[9]**1.0 * y[18]**1.0 -1*kf(T,26) * y[18]**1.0 +1*kr(T,26) * y[9]**1.0 * y[35]**1.0 ',\n",
       " 'd[O=CC=O]/dt = +1*kf(T,12) * y[31]**1.0 -1*kr(T,12) * y[6]**1.0 * y[19]**1.0 ',\n",
       " 'd[O=CCC(=O)[C@@H](O)CO]/dt = +1*kf(T,35) * y[11]**1.0 -1*kr(T,35) * y[20]**1.0 -1*kf(T,36) * y[20]**1.0 +1*kr(T,36) * y[22]**1.0 * y[21]**1.0 ',\n",
       " 'd[O=CCC=O]/dt = +1*kf(T,6) * y[23]**1.0 -1*kr(T,6) * y[22]**1.0 * y[21]**1.0 +1*kf(T,36) * y[20]**1.0 -1*kr(T,36) * y[22]**1.0 * y[21]**1.0 ',\n",
       " 'd[O=CCO]/dt = +1*kf(T,6) * y[23]**1.0 -1*kr(T,6) * y[22]**1.0 * y[21]**1.0 +1*kf(T,19) * y[7]**1.0 -1*kr(T,19) * y[4]**1.0 * y[22]**1.0 +1*kf(T,32) * y[26]**1.0 -1*kr(T,32) * y[22]**1.0 * y[0]**1.0 +1*kf(T,36) * y[20]**1.0 -1*kr(T,36) * y[22]**1.0 * y[21]**1.0 +1*kf(T,37) * y[29]**1.0 -1*kr(T,37) * y[22]**1.0 * y[32]**1.0 +1*kf(T,40) * y[28]**1.0 -1*kr(T,40) * y[22]**1.0 * y[10]**1.0 +1*kf(T,41) * y[10]**1.0 -1*kr(T,41) * y[22]**1.0 ',\n",
       " 'd[O=CC[C@H](O)[C@@H](O)C=O]/dt = +1*kf(T,5) * y[33]**1.0 -1*kr(T,5) * y[23]**1.0 -1*kf(T,6) * y[23]**1.0 +1*kr(T,6) * y[22]**1.0 * y[21]**1.0 -1*kf(T,7) * y[23]**1.0 +1*kr(T,7) * y[9]**1.0 * y[13]**1.0 ',\n",
       " 'd[O=CC[C@H](O)[C@H](O)C=O]/dt = +1*kf(T,28) * y[27]**1.0 -1*kr(T,28) * y[24]**1.0 -1*kf(T,29) * y[24]**1.0 +1*kr(T,29) * y[17]**1.0 * y[8]**1.0 ',\n",
       " 'd[O=C[C@@H](O)/C=C(\\\\O)CO]/dt = +1*kf(T,30) * y[29]**1.0 -1*kr(T,30) * y[9]**1.0 * y[25]**1.0 -1*kf(T,31) * y[25]**1.0 +1*kr(T,31) * y[26]**1.0 ',\n",
       " 'd[O=C[C@@H](O)CC(=O)CO]/dt = +1*kf(T,31) * y[25]**1.0 -1*kr(T,31) * y[26]**1.0 -1*kf(T,32) * y[26]**1.0 +1*kr(T,32) * y[22]**1.0 * y[0]**1.0 ',\n",
       " 'd[O=C[C@@H](O)[C@@H](O)/C=C\\\\O]/dt = +1*kf(T,27) * y[29]**1.0 -1*kr(T,27) * y[9]**1.0 * y[27]**1.0 -1*kf(T,28) * y[27]**1.0 +1*kr(T,28) * y[24]**1.0 ',\n",
       " 'd[O=C[C@@H](O)[C@@H](O)CO]/dt = +1*kf(T,39) * y[29]**1.0 -1*kr(T,39) * y[28]**1.0 * y[2]**1.0 -1*kf(T,40) * y[28]**1.0 +1*kr(T,40) * y[22]**1.0 * y[10]**1.0 ',\n",
       " 'd[O=C[C@@H](O)[C@H](O)[C@@H](O)CO]/dt = +1*kf(T,3) * y[41]**1.0 -1*kr(T,3) * y[29]**1.0 -1*kf(T,24) * y[29]**1.0 +1*kr(T,24) * y[9]**1.0 * y[34]**1.0 -1*kf(T,27) * y[29]**1.0 +1*kr(T,27) * y[9]**1.0 * y[27]**1.0 -1*kf(T,30) * y[29]**1.0 +1*kr(T,30) * y[9]**1.0 * y[25]**1.0 -1*kf(T,34) * y[29]**1.0 +1*kr(T,34) * y[9]**1.0 * y[11]**1.0 -1*kf(T,37) * y[29]**1.0 +1*kr(T,37) * y[22]**1.0 * y[32]**1.0 -1*kf(T,39) * y[29]**1.0 +1*kr(T,39) * y[28]**1.0 * y[2]**1.0 ',\n",
       " 'd[O=C[C@H](O)/C=C(/O)CO]/dt = +1*kf(T,9) * y[39]**1.0 -1*kr(T,9) * y[30]**1.0 -1*kf(T,10) * y[30]**1.0 +1*kr(T,10) * y[31]**1.0 ',\n",
       " 'd[O=C[C@H](O)CC(=O)CO]/dt = +1*kf(T,10) * y[30]**1.0 -1*kr(T,10) * y[31]**1.0 -1*kf(T,11) * y[31]**1.0 +1*kr(T,11) * y[9]**1.0 * y[12]**1.0 -1*kf(T,12) * y[31]**1.0 +1*kr(T,12) * y[6]**1.0 * y[19]**1.0 ',\n",
       " 'd[O=C[C@H](O)CO]/dt = +1*kf(T,37) * y[29]**1.0 -1*kr(T,37) * y[22]**1.0 * y[32]**1.0 -1*kf(T,38) * y[32]**1.0 +1*kr(T,38) * y[9]**1.0 * y[0]**1.0 ',\n",
       " 'd[O=C[C@H](O)[C@@H](O)/C=C\\\\O]/dt = +1*kf(T,4) * y[40]**1.0 -1*kr(T,4) * y[33]**1.0 -1*kf(T,5) * y[33]**1.0 +1*kr(T,5) * y[23]**1.0 ',\n",
       " 'd[O=C[C@H]1OC[C@H](O)[C@H]1O]/dt = +1*kf(T,24) * y[29]**1.0 -1*kr(T,24) * y[9]**1.0 * y[34]**1.0 -1*kf(T,25) * y[34]**1.0 +1*kr(T,25) * y[9]**1.0 * y[18]**1.0 ',\n",
       " 'd[O=Cc1ccco1]/dt = +1*kf(T,26) * y[18]**1.0 -1*kr(T,26) * y[9]**1.0 * y[35]**1.0 ',\n",
       " 'd[OC1=COC=C[C@@H]1O]/dt = +1*kf(T,8) * y[40]**1.0 -1*kr(T,8) * y[9]**1.0 * y[36]**1.0 +1*kf(T,22) * y[38]**1.0 -1*kr(T,22) * y[9]**1.0 * y[36]**1.0 -1*kf(T,23) * y[36]**1.0 +1*kr(T,23) * y[14]**1.0 ',\n",
       " 'd[OC1=COCC(O)=C1]/dt = +1*kf(T,13) * y[39]**1.0 -1*kr(T,13) * y[9]**1.0 * y[37]**1.0 -1*kf(T,14) * y[37]**1.0 +1*kr(T,14) * y[15]**1.0 +1*kf(T,15) * y[38]**1.0 -1*kr(T,15) * y[9]**1.0 * y[37]**1.0 ',\n",
       " 'd[OC1=COC[C@@H](O)[C@@H]1O]/dt = +1*kf(T,0) * y[41]**1.0 -1*kr(T,0) * y[9]**1.0 * y[38]**1.0 -1*kf(T,15) * y[38]**1.0 +1*kr(T,15) * y[9]**1.0 * y[37]**1.0 -1*kf(T,16) * y[38]**1.0 +1*kr(T,16) * y[16]**1.0 -1*kf(T,17) * y[38]**1.0 +1*kr(T,17) * y[1]**1.0 -1*kf(T,22) * y[38]**1.0 +1*kr(T,22) * y[9]**1.0 * y[36]**1.0 ',\n",
       " 'd[OC1=C[C@@H](O)[C@H](O)OC1]/dt = +1*kf(T,1) * y[41]**1.0 -1*kr(T,1) * y[9]**1.0 * y[39]**1.0 -1*kf(T,9) * y[39]**1.0 +1*kr(T,9) * y[30]**1.0 -1*kf(T,13) * y[39]**1.0 +1*kr(T,13) * y[9]**1.0 * y[37]**1.0 ',\n",
       " 'd[O[C@H]1C=CO[C@@H](O)[C@@H]1O]/dt = +1*kf(T,2) * y[41]**1.0 -1*kr(T,2) * y[9]**1.0 * y[40]**1.0 -1*kf(T,4) * y[40]**1.0 +1*kr(T,4) * y[33]**1.0 -1*kf(T,8) * y[40]**1.0 +1*kr(T,8) * y[9]**1.0 * y[36]**1.0 ',\n",
       " 'd[O[C@H]1[C@H](O)CO[C@@H](O)[C@@H]1O]/dt = -1*kf(T,0) * y[41]**1.0 +1*kr(T,0) * y[9]**1.0 * y[38]**1.0 -1*kf(T,1) * y[41]**1.0 +1*kr(T,1) * y[9]**1.0 * y[39]**1.0 -1*kf(T,2) * y[41]**1.0 +1*kr(T,2) * y[9]**1.0 * y[40]**1.0 -1*kf(T,3) * y[41]**1.0 +1*kr(T,3) * y[29]**1.0 ']"
      ]
     },
     "execution_count": 77,
     "metadata": {},
     "output_type": "execute_result"
    }
   ],
   "source": [
    "dydt_list"
   ]
  },
  {
   "cell_type": "code",
   "execution_count": 41,
   "metadata": {},
   "outputs": [
    {
     "name": "stdout",
     "output_type": "stream",
     "text": [
      "dy[41]/dt = - kf[0] * y[41] +  kr[0]* y[9] * y[38] - kf[1] * y[41] +  kr[1]* y[9] * y[39] - kf[2] * y[41] +  kr[2]* y[9] * y[40] - kf[3] * y[41] +  kr[3]* y[29] \n"
     ]
    }
   ],
   "source": [
    "import re\n",
    "\n",
    "dydt_expressions = []\n",
    "for species in unique_species:\n",
    "    rate_equation = 'dy[%i]/dt = ' % (speciesindices[species])\n",
    "    i = speciesindices[species]\n",
    "    for j in range (len(rate_list)):\n",
    "        if reac_matrix[j][i] > 0:\n",
    "            if reac_matrix[j][i] == 1.0:\n",
    "                rate_equation += '+ %s' %(rate_list[j])\n",
    "            else:\n",
    "                rate_equation += '+ %1.2f * %s' %(reac_matrix[j][i], re.split('-', rate_list[j])[0])\n",
    "                rate_equation += '- %1.2f * %s' %(reac_matrix[j][i], re.split('-', rate_list[j])[1])\n",
    "        elif reac_matrix[j][i] < 0:\n",
    "            if abs(reac_matrix[j][i]) == 1.0:\n",
    "                rate_equation += '- %s' %(re.split('-', rate_list[j])[0])\n",
    "                rate_equation += '+ %s' %(re.split('-', rate_list[j])[1])\n",
    "            else:\n",
    "                rate_equation += '- %1.2f * %s' %(abs(reac_matrix[j][i]), re.split('-', rate_list[j])[0])\n",
    "                rate_equation += '+ %1.2f * %s' %(abs(reac_matrix[j][i]), re.split('-', rate_list[j])[1])\n",
    "        else:\n",
    "            pass\n",
    "    dydt_expressions.append(rate_equation)\n",
    "    \n",
    "print(dydt_expressions[speciesindices['O[C@H]1[C@H](O)CO[C@@H](O)[C@@H]1O']])\n",
    "        \n",
    "#     rate_formation = 'd[%s]/dt = ' % (species)\n",
    "#     # \"entry\" is [reaction#, sign of that reaction, coefficient]\n",
    "#     for entry in species_rxns[species]:\n",
    "#         if human == 'no':\n",
    "#             rate_formation += '%s*%s' % \\\n",
    "#             (entry[2], rates_forward[entry[0]].split(' = ')[1])\n",
    "#             rate_formation += '%s*%s' % \\\n",
    "#             (entry[3], rates_reverse[entry[0]].split(' = ')[1])\n",
    "#         elif human == 'yes':\n",
    "#             rate_formation += '%s*rate_f[%s] ' % (entry[2], entry[0])\n",
    "#             rate_formation += '%s*rate_r[%s] ' % (entry[3], entry[0])\n",
    "#         else:\n",
    "#             raise ValueError('human must be a string: yes or no')\n",
    "#     dydt_expressions.append(rate_formation)\n"
   ]
  },
  {
   "cell_type": "code",
   "execution_count": null,
   "metadata": {},
   "outputs": [],
   "source": [
    "a='kf(0) * y[0]**1.0 - kr(0)* y[1]**1.0 * y[2]**2.0'\n",
    "import re\n",
    "print(re.split('-', a))"
   ]
  },
  {
   "cell_type": "code",
   "execution_count": null,
   "metadata": {},
   "outputs": [],
   "source": []
  }
 ],
 "metadata": {
  "kernelspec": {
   "display_name": "kmpy",
   "language": "python",
   "name": "kmpy"
  },
  "language_info": {
   "codemirror_mode": {
    "name": "ipython",
    "version": 3
   },
   "file_extension": ".py",
   "mimetype": "text/x-python",
   "name": "python",
   "nbconvert_exporter": "python",
   "pygments_lexer": "ipython3",
   "version": "3.6.7"
  }
 },
 "nbformat": 4,
 "nbformat_minor": 2
}
