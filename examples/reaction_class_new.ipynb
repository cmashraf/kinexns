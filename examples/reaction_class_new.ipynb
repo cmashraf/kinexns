{
 "cells": [
  {
   "cell_type": "markdown",
   "metadata": {},
   "source": [
    "# Kinetic Modeling with PYthon (kmpy)"
   ]
  },
  {
   "cell_type": "code",
   "execution_count": 1,
   "metadata": {},
   "outputs": [
    {
     "name": "stderr",
     "output_type": "stream",
     "text": [
      "Could not find GLIMDA.\n"
     ]
    }
   ],
   "source": [
    "import os, sys\n",
    "import numpy as np\n",
    "from constants import GAS_CONST, PR_ATM\n",
    "from constants import KCAL_JL, HT_JL\n",
    "import pandas as pd\n",
    "import math\n",
    "import re\n",
    "from assimulo.solvers import CVode\n",
    "from assimulo.problem import Explicit_Problem\n",
    "import matplotlib.pyplot as plt"
   ]
  },
  {
   "cell_type": "code",
   "execution_count": 2,
   "metadata": {},
   "outputs": [],
   "source": [
    "cwd = os.getcwd()"
   ]
  },
  {
   "cell_type": "markdown",
   "metadata": {},
   "source": [
    "setting up the paths for the input files"
   ]
  },
  {
   "cell_type": "code",
   "execution_count": 209,
   "metadata": {},
   "outputs": [],
   "source": [
    "def set_paths(myPath):\n",
    "    \"\"\"\n",
    "    Set the absolute path to required files on the current machine.\n",
    "\n",
    "    Returns\n",
    "    -------\n",
    "    reactionlist_path     : str\n",
    "                            path to the file `complete_reactionlist.dat`\n",
    "    rateconstantlist_path : str\n",
    "                            path to the file `complete_rateconstantlist.dat`\n",
    "    free_enenry_path      : str\n",
    "                            path to the file `compositionlist.dat`\n",
    "    \"\"\"\n",
    "    #myPath = os.path.dirname(os.path.abspath(__file__))\n",
    "#     reactionlist_path = myPath + '/data/complete_reaction_list.dat'\n",
    "#     rateconstantlist_path = myPath + '/data/complete_rateconstant_list.dat'\n",
    "#     free_energy_path = myPath + '/data/free_energy_library.dat'\n",
    "    reactionlist_path = myPath + '/../kmpy/tests/data/complete_reaction_list.dat'\n",
    "    rateconstantlist_path = myPath + '/../kmpy/tests/data/complete_rateconstant_list.dat'\n",
    "    free_energy_path = myPath + '/../kmpy/tests/data/free_energy_library.dat'\n",
    "    return reactionlist_path, rateconstantlist_path, free_energy_path\n"
   ]
  },
  {
   "cell_type": "code",
   "execution_count": 210,
   "metadata": {},
   "outputs": [],
   "source": [
    "file_reactionlist, file_rateconstantlist, file_free_energy = set_paths(cwd)"
   ]
  },
  {
   "cell_type": "code",
   "execution_count": 211,
   "metadata": {},
   "outputs": [
    {
     "data": {
      "text/html": [
       "<div>\n",
       "<style scoped>\n",
       "    .dataframe tbody tr th:only-of-type {\n",
       "        vertical-align: middle;\n",
       "    }\n",
       "\n",
       "    .dataframe tbody tr th {\n",
       "        vertical-align: top;\n",
       "    }\n",
       "\n",
       "    .dataframe thead th {\n",
       "        text-align: right;\n",
       "    }\n",
       "</style>\n",
       "<table border=\"1\" class=\"dataframe\">\n",
       "  <thead>\n",
       "    <tr style=\"text-align: right;\">\n",
       "      <th></th>\n",
       "      <th>0</th>\n",
       "      <th>1</th>\n",
       "      <th>2</th>\n",
       "    </tr>\n",
       "  </thead>\n",
       "  <tbody>\n",
       "    <tr>\n",
       "      <th>0</th>\n",
       "      <td>5.000000e+15</td>\n",
       "      <td>0</td>\n",
       "      <td>57.0</td>\n",
       "    </tr>\n",
       "    <tr>\n",
       "      <th>1</th>\n",
       "      <td>5.000000e+15</td>\n",
       "      <td>0</td>\n",
       "      <td>57.0</td>\n",
       "    </tr>\n",
       "    <tr>\n",
       "      <th>2</th>\n",
       "      <td>6.000000e+15</td>\n",
       "      <td>0</td>\n",
       "      <td>59.0</td>\n",
       "    </tr>\n",
       "    <tr>\n",
       "      <th>3</th>\n",
       "      <td>3.000000e+13</td>\n",
       "      <td>0</td>\n",
       "      <td>47.0</td>\n",
       "    </tr>\n",
       "  </tbody>\n",
       "</table>\n",
       "</div>"
      ],
      "text/plain": [
       "              0  1     2\n",
       "0  5.000000e+15  0  57.0\n",
       "1  5.000000e+15  0  57.0\n",
       "2  6.000000e+15  0  59.0\n",
       "3  3.000000e+13  0  47.0"
      ]
     },
     "execution_count": 211,
     "metadata": {},
     "output_type": "execute_result"
    }
   ],
   "source": [
    "df_rate = pd.read_csv(file_rateconstantlist, header = None, sep = ' ')\n",
    "df_rate.head()"
   ]
  },
  {
   "cell_type": "code",
   "execution_count": 212,
   "metadata": {},
   "outputs": [
    {
     "data": {
      "text/html": [
       "<div>\n",
       "<style scoped>\n",
       "    .dataframe tbody tr th:only-of-type {\n",
       "        vertical-align: middle;\n",
       "    }\n",
       "\n",
       "    .dataframe tbody tr th {\n",
       "        vertical-align: top;\n",
       "    }\n",
       "\n",
       "    .dataframe thead th {\n",
       "        text-align: right;\n",
       "    }\n",
       "</style>\n",
       "<table border=\"1\" class=\"dataframe\">\n",
       "  <thead>\n",
       "    <tr style=\"text-align: right;\">\n",
       "      <th></th>\n",
       "      <th>Structure ID</th>\n",
       "      <th>smiles</th>\n",
       "      <th>electronic_energy</th>\n",
       "      <th>300K</th>\n",
       "      <th>400K</th>\n",
       "      <th>500K</th>\n",
       "      <th>600K</th>\n",
       "      <th>700K</th>\n",
       "      <th>800K</th>\n",
       "    </tr>\n",
       "  </thead>\n",
       "  <tbody>\n",
       "    <tr>\n",
       "      <th>0</th>\n",
       "      <td>1</td>\n",
       "      <td>A</td>\n",
       "      <td>-572.654636</td>\n",
       "      <td>0.130831</td>\n",
       "      <td>0.114449</td>\n",
       "      <td>0.096034</td>\n",
       "      <td>0.075704</td>\n",
       "      <td>0.053580</td>\n",
       "      <td>0.029778</td>\n",
       "    </tr>\n",
       "    <tr>\n",
       "      <th>1</th>\n",
       "      <td>2</td>\n",
       "      <td>B</td>\n",
       "      <td>-76.422977</td>\n",
       "      <td>0.003836</td>\n",
       "      <td>-0.003547</td>\n",
       "      <td>-0.011258</td>\n",
       "      <td>-0.019238</td>\n",
       "      <td>-0.027448</td>\n",
       "      <td>-0.035861</td>\n",
       "    </tr>\n",
       "    <tr>\n",
       "      <th>2</th>\n",
       "      <td>3</td>\n",
       "      <td>C</td>\n",
       "      <td>-496.193201</td>\n",
       "      <td>0.103466</td>\n",
       "      <td>0.088156</td>\n",
       "      <td>0.071087</td>\n",
       "      <td>0.052368</td>\n",
       "      <td>0.032109</td>\n",
       "      <td>0.010414</td>\n",
       "    </tr>\n",
       "    <tr>\n",
       "      <th>3</th>\n",
       "      <td>4</td>\n",
       "      <td>D</td>\n",
       "      <td>-496.205201</td>\n",
       "      <td>0.104026</td>\n",
       "      <td>0.088926</td>\n",
       "      <td>0.072080</td>\n",
       "      <td>0.053591</td>\n",
       "      <td>0.033566</td>\n",
       "      <td>0.012107</td>\n",
       "    </tr>\n",
       "    <tr>\n",
       "      <th>4</th>\n",
       "      <td>5</td>\n",
       "      <td>E</td>\n",
       "      <td>-496.204142</td>\n",
       "      <td>0.104043</td>\n",
       "      <td>0.088886</td>\n",
       "      <td>0.071984</td>\n",
       "      <td>0.053439</td>\n",
       "      <td>0.033355</td>\n",
       "      <td>0.011835</td>\n",
       "    </tr>\n",
       "  </tbody>\n",
       "</table>\n",
       "</div>"
      ],
      "text/plain": [
       "   Structure ID smiles  electronic_energy      300K      400K      500K  \\\n",
       "0             1      A        -572.654636  0.130831  0.114449  0.096034   \n",
       "1             2      B         -76.422977  0.003836 -0.003547 -0.011258   \n",
       "2             3      C        -496.193201  0.103466  0.088156  0.071087   \n",
       "3             4      D        -496.205201  0.104026  0.088926  0.072080   \n",
       "4             5      E        -496.204142  0.104043  0.088886  0.071984   \n",
       "\n",
       "       600K      700K      800K  \n",
       "0  0.075704  0.053580  0.029778  \n",
       "1 -0.019238 -0.027448 -0.035861  \n",
       "2  0.052368  0.032109  0.010414  \n",
       "3  0.053591  0.033566  0.012107  \n",
       "4  0.053439  0.033355  0.011835  "
      ]
     },
     "execution_count": 212,
     "metadata": {},
     "output_type": "execute_result"
    }
   ],
   "source": [
    "df_free_energy = pd.read_csv(file_free_energy, sep = '\\t')\n",
    "df_free_energy.head()"
   ]
  },
  {
   "cell_type": "code",
   "execution_count": 213,
   "metadata": {},
   "outputs": [],
   "source": [
    "class Reaction(object):\n",
    "    \n",
    "    \n",
    "    def __init__(self):\n",
    "        self.reactants_names = []\n",
    "        self.products_names = []\n",
    "        self.uniqueSpeciesList = []\n",
    "        #species_names = []\n",
    "        \n",
    "   \n",
    "    def getReactantsName(self, line):\n",
    "        \n",
    "        for spec in line.split(','):\n",
    "            if float(spec.split('_')[0].split()[0]) < 0:\n",
    "                self.reactants_names.append((spec.split('_')[0].split()[0],\n",
    "                                          spec.split('_')[1].split()[0]))\n",
    "            #print(self.species_names)\n",
    "        return self.reactants_names\n",
    "    \n",
    "    def getProductsName(self, line):\n",
    "        \n",
    "        for spec in line.split(','):\n",
    "            if float(spec.split('_')[0].split()[0]) > 0:\n",
    "                self.products_names.append((spec.split('_')[0].split()[0],\n",
    "                                          spec.split('_')[1].split()[0]))\n",
    "            #print(self.species_names)\n",
    "        return self.products_names\n",
    "    \n",
    "    def uniqueSpeciesName(self, line, species_list):\n",
    "        #self.uniqueSpeciesList = species_list\n",
    "        for spec in line.split(','):\n",
    "            #self.uniqueSpeciesList = species_list\n",
    "            # If the species has already been added to the list then move on.\n",
    "            if spec.split('_')[1].split()[0] in species_list:\n",
    "                self.uniqueSpeciesList = species_list\n",
    "                continue\n",
    "            else:\n",
    "                #print(self.uniqueSpeciesList)\n",
    "                self.uniqueSpeciesList = species_list\n",
    "                self.uniqueSpeciesList.append(spec.split('_')[1].split()[0])\n",
    "            #print(spec.split('_')[1].split()[0])\n",
    "        return self.uniqueSpeciesList\n",
    "    "
   ]
  },
  {
   "cell_type": "code",
   "execution_count": 214,
   "metadata": {},
   "outputs": [],
   "source": [
    "def build_species_list(reaction_file):\n",
    "    \"\"\"\n",
    "    Build reactnat and product list for each reaction. Also builds a list\n",
    "    of unique species in the mechanism\n",
    "    Parameters\n",
    "    ----------\n",
    "    reaction_file       : str\n",
    "                           path to the file `complete_reaction_list.dat`\n",
    "    Returns\n",
    "    ----------\n",
    "    reactant_list       : list\n",
    "                         a list of the reactants and their stoichiometric\n",
    "                         coeffs for each reaction\n",
    "    product_list        : list\n",
    "                         a list of the products and their stoichiometric\n",
    "                         coeffs for each reaction\n",
    "    species_list        : list\n",
    "                        a list of unique species in the mechanism\n",
    "    \"\"\"\n",
    "\n",
    "    #initializing reactant, product and unique species list\n",
    "    reactant_list = []\n",
    "    product_list = []\n",
    "    species_name = []\n",
    "\n",
    "    for line in open(reaction_file, 'r').readlines():\n",
    "        reac = Reaction()\n",
    "        reactant_list.append(reac.getReactantsName(line))\n",
    "        product_list.append(reac.getProductsName(line))\n",
    "        current_species = species_name\n",
    "        #print(current_species)\n",
    "        species_list = reac.uniqueSpeciesName(line, current_species)\n",
    "        #print(species_name)\n",
    "    species_list.sort()\n",
    "\n",
    "    return reactant_list, product_list, species_list\n",
    "\n",
    "reactants_list, products_list, unique_species = build_species_list(file_reactionlist)\n",
    "    "
   ]
  },
  {
   "cell_type": "code",
   "execution_count": 215,
   "metadata": {},
   "outputs": [
    {
     "name": "stdout",
     "output_type": "stream",
     "text": [
      "['A', 'B', 'C', 'D', 'E', 'F']\n",
      "6\n"
     ]
    }
   ],
   "source": [
    "print(unique_species)\n",
    "print(len(unique_species))"
   ]
  },
  {
   "cell_type": "code",
   "execution_count": 216,
   "metadata": {},
   "outputs": [
    {
     "name": "stdout",
     "output_type": "stream",
     "text": [
      "[[('1.0', 'B'), ('1.0', 'C')], [('1.0', 'B'), ('1.0', 'D')], [('1.0', 'B'), ('1.0', 'E')], [('1.0', 'F')]]\n"
     ]
    }
   ],
   "source": [
    "#print(len(products_list))\n",
    "print(products_list)"
   ]
  },
  {
   "cell_type": "code",
   "execution_count": 217,
   "metadata": {},
   "outputs": [],
   "source": [
    "reac_prod_list = [react + prod for react, prod in zip(reactants_list, products_list)]\n",
    "# for react, prod in zip(reactants, products):\n",
    "#     total.append(react + prod)\n",
    "#print(total)"
   ]
  },
  {
   "cell_type": "code",
   "execution_count": 218,
   "metadata": {},
   "outputs": [
    {
     "name": "stdout",
     "output_type": "stream",
     "text": [
      "[[('-1.0', 'A'), ('1.0', 'B'), ('1.0', 'C')], [('-1.0', 'A'), ('1.0', 'B'), ('1.0', 'D')], [('-1.0', 'A'), ('1.0', 'B'), ('1.0', 'E')], [('-1.0', 'A'), ('1.0', 'F')]]\n"
     ]
    }
   ],
   "source": [
    "print(reac_prod_list)"
   ]
  },
  {
   "cell_type": "code",
   "execution_count": 219,
   "metadata": {},
   "outputs": [],
   "source": [
    "#generating a dictionary of unique species from the species_list\n",
    "speciesindices = {unique_species[i]: i for i in range(0, len(unique_species))}\n",
    "\n",
    "indices_to_species = dict(zip(speciesindices.values(), speciesindices.keys()))"
   ]
  },
  {
   "cell_type": "code",
   "execution_count": 220,
   "metadata": {},
   "outputs": [
    {
     "data": {
      "text/plain": [
       "{'A': 0, 'B': 1, 'C': 2, 'D': 3, 'E': 4, 'F': 5}"
      ]
     },
     "execution_count": 220,
     "metadata": {},
     "output_type": "execute_result"
    }
   ],
   "source": [
    "speciesindices\n",
    "#indices_to_species"
   ]
  },
  {
   "cell_type": "code",
   "execution_count": 221,
   "metadata": {},
   "outputs": [
    {
     "data": {
      "text/plain": [
       "array([[0., 0., 0., 0., 0., 0.],\n",
       "       [0., 0., 0., 0., 0., 0.],\n",
       "       [0., 0., 0., 0., 0., 0.],\n",
       "       [0., 0., 0., 0., 0., 0.]])"
      ]
     },
     "execution_count": 221,
     "metadata": {},
     "output_type": "execute_result"
    }
   ],
   "source": [
    "reac_matrix = np.zeros((len(reac_prod_list),len(unique_species)), dtype = float)\n",
    "reac_matrix"
   ]
  },
  {
   "cell_type": "code",
   "execution_count": 222,
   "metadata": {},
   "outputs": [
    {
     "name": "stdout",
     "output_type": "stream",
     "text": [
      "(4, 6)\n"
     ]
    }
   ],
   "source": [
    "for rxnindex, reac_list in enumerate(reac_prod_list):\n",
    "    for x in range (len(reac_list)):\n",
    "        species = reac_list[x][1]\n",
    "        for i in range (len(unique_species)):\n",
    "            if i == speciesindices[species]:\n",
    "                reac_matrix[rxnindex][i] = float(reac_list[x][0])\n",
    "\n",
    "print(reac_matrix.shape)\n",
    "                "
   ]
  },
  {
   "cell_type": "markdown",
   "metadata": {},
   "source": [
    "Next, we need to build the rate constants for all the reactions. The forward rate constants can be calculated using Arrhenius equation\n",
    "\n",
    "$k_f = A T^n exp (\\frac{-E_a}{RT}) $"
   ]
  },
  {
   "cell_type": "code",
   "execution_count": 223,
   "metadata": {},
   "outputs": [],
   "source": [
    "class Kinetic_params(object):\n",
    "      \n",
    "    def __init__(self):\n",
    "        self.forward_rate_params = []\n",
    "        self.forward_rates = []\n",
    "        #self.forward_E = []\n",
    "        #self.uniqueSpeciesList = []\n",
    "        #species_names = []\n",
    "    \n",
    "    def getForwardRateParameters(self, line):\n",
    "        \n",
    "        self.forward_rate_params = [line.split(' ')[0], line.split(' ')[1],\n",
    "                                    line.split(' ')[2].split()[0]]\n",
    "      \n",
    "        return self.forward_rate_params\n",
    "    \n",
    "    def getForwardRateConstant(self, parameters, T):\n",
    "        \n",
    "        self.forward_rates = (eval(parameters[0]) * T ** eval(parameters[1]) *\n",
    "                             np.exp(- eval(parameters[2]) * KCAL_JL / (GAS_CONST * T)))\n",
    "        return self.forward_rates"
   ]
  },
  {
   "cell_type": "code",
   "execution_count": 239,
   "metadata": {},
   "outputs": [],
   "source": [
    "\n",
    "T = 573\n"
   ]
  },
  {
   "cell_type": "code",
   "execution_count": 240,
   "metadata": {},
   "outputs": [],
   "source": [
    "def build_kmatrix_forward(rateconstantlist, temp):\n",
    "    \n",
    "    rate_constants = []\n",
    "    for line in open(rateconstantlist, 'r').readlines():\n",
    "        f_params = Kinetic_params()\n",
    "        params = f_params.getForwardRateParameters(line)\n",
    "        #print(params)\n",
    "        rate_constants.append(f_params.getForwardRateConstant(params, temp))\n",
    "    return rate_constants"
   ]
  },
  {
   "cell_type": "code",
   "execution_count": 241,
   "metadata": {},
   "outputs": [
    {
     "data": {
      "text/plain": [
       "[9.070586400466592e-07,\n",
       " 9.070586400466592e-07,\n",
       " 1.8791556907858517e-07,\n",
       " 3.548590208923674e-05]"
      ]
     },
     "execution_count": 241,
     "metadata": {},
     "output_type": "execute_result"
    }
   ],
   "source": [
    "forward_rate_constants = build_kmatrix_forward(file_rateconstantlist, T)\n",
    "forward_rate_constants"
   ]
  },
  {
   "cell_type": "markdown",
   "metadata": {},
   "source": [
    "Next, to calculate the reverse rate constants, we need to calculate the thermodynamic equilibrium constants using the folloing equation\n",
    "\n",
    "$ K_{eq} = exp (-{\\Delta G}/ RT)$\n",
    "\n",
    "since, we have free energy corrections for all the species at a few specific temperature, we need to calculate it for any given temperature using linear interpolation"
   ]
  },
  {
   "cell_type": "code",
   "execution_count": 242,
   "metadata": {},
   "outputs": [],
   "source": [
    "def build_free_energy_dict(free_energy_path, temp):\n",
    "    \"\"\"\n",
    "    Build a dictionary of free energy at a given temperature for all the species \n",
    "    present in the mechanism. It reads the file free_energy_path which is basically\n",
    "    a library of gibbs free energy correction at different molecules at different temperatures.\n",
    "    Parameters\n",
    "    ----------\n",
    "    completereactionlist : str\n",
    "                           path to the file `free_energy_library.dat`\n",
    "    T                    : float\n",
    "                           temperature to calculate free energy\n",
    "    Returns\n",
    "    -------\n",
    "    free_energy.    : dict\n",
    "                    a dictionary where keys are unique species and values\n",
    "                    are free energy of species at a given temperature \n",
    "                    build from free_energy_library.dat\n",
    "    \"\"\"\n",
    "    \n",
    "    df = pd.read_csv(free_energy_path, sep = '\\t')\n",
    "\n",
    "    if \"{}K\".format(temp) in df.columns:\n",
    "        df[\"Free Energy @{}K\".format(temp)] = df['electronic_energy'] + df[\"{}K\".format(temp)]\n",
    "    else:\n",
    "        temp_low = math.floor(temp / 100.0)* 100\n",
    "        temp_high = math.ceil(temp / 100.0)* 100\n",
    "        df[\"{}K\".format(temp)] = (df[\"{}K\".format(temp_high)] - df[\"{}K\".format(temp_low)])*(temp - temp_low)/(temp_high - temp_low) + df[\"{}K\".format(temp_low)]\n",
    "        df[\"Free Energy @{}K\".format(temp)] = df['electronic_energy'] + df[\"{}K\".format(temp)]\n",
    "    #print(df.head())\n",
    "    \n",
    "    free_energy = dict([(i, a) for i, a  in zip(df.smiles, df[\"Free Energy @{}K\".format(temp)])])\n",
    "    \n",
    "    return free_energy"
   ]
  },
  {
   "cell_type": "code",
   "execution_count": 243,
   "metadata": {},
   "outputs": [],
   "source": [
    "free_energy_dict = build_free_energy_dict(file_free_energy, T)\n",
    "#print(free_energy_dict)"
   ]
  },
  {
   "cell_type": "code",
   "execution_count": 244,
   "metadata": {},
   "outputs": [],
   "source": [
    "def build_free_energy_change(complete_list, free_energy):\n",
    "    \"\"\"\n",
    "    Calculate the reverse rate constants of all the reactions. There are two steps \n",
    "    doing this\n",
    "    1. Calculate the change in free energy for each reaction\n",
    "            delG = G(products) - G(reactanat)\n",
    "    This is calculated from the complete lists of reactions and free_energy_dict\n",
    "    2. Use delG to calculate the equlilibrium constant\n",
    "            Keq = exp (- delG/Gas Const * Temp)\n",
    "    3. Use the following equation to calculate the reverse rate constant\n",
    "            Keq = Kf / Kr * (Gas Const * Temp / Pressure)^n\n",
    "    where n = total number of product molecules - total number of reactant molecules\n",
    "    ----------\n",
    "    complete_list        : list\n",
    "                           A list of all the reactions with reactant and \n",
    "                         product species and their stoichimetric coeffs\n",
    "    free_energy          : dict\n",
    "                          A dictionary of free energies of all the species\n",
    "                          at a given temperature, obtained from \n",
    "                          build_free_energy_dict function\n",
    "    forward_rate         : A list of forward rate constants for all the reactions\n",
    "                         obtained from build_forward_reaction_rates\n",
    "    T                    : float\n",
    "                           temperature to calculate free energy\n",
    "    Returns\n",
    "    -------\n",
    "     reverse_rates       : list\n",
    "                         A list of reverse rate constants\n",
    "    \"\"\"\n",
    "    \n",
    "    \n",
    "    mol_change = []\n",
    "    gibbs_energy_list = []\n",
    "\n",
    "    for i, item in enumerate (complete_list):\n",
    "        n_reac = 0\n",
    "        n_prod = 0\n",
    "        reac_free_energy = 0\n",
    "        prod_free_energy = 0\n",
    "        for entry in item:\n",
    "        \n",
    "            if float(entry[0]) < 0:\n",
    "                n_reac = n_reac + abs(float(entry[0]))\n",
    "                reac_free_energy = abs(float(entry[0])) * free_energy[entry[1]] + reac_free_energy\n",
    "            else:\n",
    "                prod_free_energy = abs(float(entry[0])) * free_energy[entry[1]] + prod_free_energy\n",
    "                n_prod = n_prod + abs(float(entry[0]))\n",
    "        #print(n_reac)\n",
    "        mol_change.append(n_prod - n_reac)\n",
    "        gibbs_energy_list.append((prod_free_energy - reac_free_energy) * HT_JL)\n",
    "    \n",
    "    return gibbs_energy_list, mol_change\n",
    "    "
   ]
  },
  {
   "cell_type": "code",
   "execution_count": 245,
   "metadata": {},
   "outputs": [
    {
     "data": {
      "text/plain": [
       "[-6.293953619833474,\n",
       " -34.75227321973887,\n",
       " -32.32967185957523,\n",
       " 15.652259565004215]"
      ]
     },
     "execution_count": 245,
     "metadata": {},
     "output_type": "execute_result"
    }
   ],
   "source": [
    "gibbs_energy, mol = build_free_energy_change(reac_prod_list, free_energy_dict)\n",
    "gibbs_energy"
   ]
  },
  {
   "cell_type": "markdown",
   "metadata": {},
   "source": [
    "Now, after all these, we can calculate the thermodynamic equilibrium constants using the folloing equation\n",
    "\n",
    "$ K_{eq} = exp (-\\frac{\\Delta G}{RT})$"
   ]
  },
  {
   "cell_type": "code",
   "execution_count": 246,
   "metadata": {
    "scrolled": true
   },
   "outputs": [
    {
     "data": {
      "text/plain": [
       "[3.7478059392258545,\n",
       " 1472.7506416232027,\n",
       " 885.6804806791698,\n",
       " 0.03741877593758052]"
      ]
     },
     "execution_count": 246,
     "metadata": {},
     "output_type": "execute_result"
    }
   ],
   "source": [
    "equilibrium_constants = [np.exp(-n * 1000 /(GAS_CONST * T)) for n in gibbs_energy]\n",
    "equilibrium_constants"
   ]
  },
  {
   "cell_type": "markdown",
   "metadata": {},
   "source": [
    "Finally, we can calculate the reverse rate constants using the following equaion\n",
    "\n",
    "\n",
    "$ K_{eq} = \\frac{k_f}{k_r} (\\frac{1000RT}{P})^{\\Delta n}$, ${\\Delta n}$ = number of product molecules - number of reactant molecules\n",
    "\n",
    "multiplied by 1000 to convert it from $ \\frac{m^3}{mol*s}$ to $ \\frac{L}{mol*s}$"
   ]
  },
  {
   "cell_type": "code",
   "execution_count": 247,
   "metadata": {},
   "outputs": [
    {
     "data": {
      "text/plain": [
       "[1.1379057686786213e-05,\n",
       " 2.8957040503698464e-08,\n",
       " 9.975478106112853e-09,\n",
       " 0.0009483448135351068]"
      ]
     },
     "execution_count": 247,
     "metadata": {},
     "output_type": "execute_result"
    }
   ],
   "source": [
    "def build_kmatrix_reverse(complete_list, free_energy,\n",
    "                          forward_rates, temperature):\n",
    "    \n",
    "    gibbs_energy, change_mol = build_free_energy_change(complete_list,\n",
    "                                                        free_energy)\n",
    "\n",
    "    equilibrium_constants = [np.exp(-n * 1000/(GAS_CONST * temperature))\n",
    "                             for n in gibbs_energy]\n",
    "\n",
    "    reverse_rates = [(a / b) * (GAS_CONST * temperature * 1000 / PR_ATM) ** c\n",
    "                     if c < 3 else 0 for (a, b, c) in\n",
    "                     zip(forward_rates, equilibrium_constants, change_mol)]\n",
    "\n",
    "    return reverse_rates\n",
    "\n",
    "reverse_rate_constants = build_kmatrix_reverse(reac_prod_list, free_energy_dict, forward_rate_constants, T)\n",
    "reverse_rate_constants"
   ]
  },
  {
   "cell_type": "code",
   "execution_count": 69,
   "metadata": {},
   "outputs": [],
   "source": [
    "def build_stoic_matrix(complete_list, species_list, species_indices):\n",
    "\n",
    "    matrix = np.zeros((len(complete_list),len(species_list)), dtype = float)\n",
    "    rate_final = []\n",
    "    for rxnindex, reac_list in enumerate(complete_list):\n",
    "        #rate = ''\n",
    "        rate_f = 'kf[%s] ' %rxnindex\n",
    "        rate_r = '- kr[%s]' %rxnindex\n",
    "        concentration_f = ''\n",
    "        concentration_r = ''\n",
    "        for x in range (len(reac_list)):\n",
    "            species = reac_list[x][1]\n",
    "            for i in range (len(species_list)):\n",
    "                if i == species_indices[species]:\n",
    "                    matrix[rxnindex][i] = float(reac_list[x][0])\n",
    "                    if float(reac_list[x][0]) < 0:\n",
    "                        if abs(float(reac_list[x][0])) == 1:\n",
    "                            concentration_f += '* y[%s] ' % i\n",
    "                        else:    \n",
    "                            concentration_f += '* y[%s] ** %s ' % (i, abs(float(reac_list[x][0])))\n",
    "                    else:\n",
    "                        if abs(float(reac_list[x][0])) == 1:\n",
    "                            concentration_r += '* y[%s] ' % i\n",
    "                        else:    \n",
    "                            concentration_r += '* y[%s] ** %s ' % (i, float(reac_list[x][0]))\n",
    "        \n",
    "        rate = rate_f + concentration_f + rate_r + concentration_r  \n",
    "        #print(rate)\n",
    "        rate_final.append(rate)\n",
    "    return matrix, rate_final"
   ]
  },
  {
   "cell_type": "code",
   "execution_count": 70,
   "metadata": {},
   "outputs": [
    {
     "data": {
      "text/plain": [
       "'kf[43] * y[41] - kr[43]* y[1] ** 3.9 * y[0] ** 0.7 * y[44] ** 0.4 * y[11] ** 2.2 * y[45] ** 1.8 '"
      ]
     },
     "execution_count": 70,
     "metadata": {},
     "output_type": "execute_result"
    }
   ],
   "source": [
    "matrix, rate_reac = build_stoic_matrix(reac_prod_list, unique_species, speciesindices)\n",
    "rate_reac[43]"
   ]
  },
  {
   "cell_type": "code",
   "execution_count": 97,
   "metadata": {},
   "outputs": [],
   "source": [
    "def build_concentartion(counter, number):\n",
    "    \n",
    "#    concentration = ''\n",
    "    if abs(float(number)) == 1:\n",
    "        concentration = '* y[%s] ' % counter\n",
    "    else:    \n",
    "        concentration = '* y[%s] ** %s ' % (counter, abs(float(number)))\n",
    "        \n",
    "    return concentration\n",
    "\n",
    "def build_rate(reac, spc_list, matrix, index, speciesindices):\n",
    "    concentration_f = ''\n",
    "    concentration_r = ''\n",
    "    rate_f = 'kf[%s] ' %index\n",
    "    rate_r = '- kr[%s]' %index\n",
    "    for x in range (len(reac)):\n",
    "        species = reac[x][1]\n",
    "        for i in range (len(spc_list)):\n",
    "            if i == speciesindices[species]:\n",
    "                matrix[index][i] = float(reac[x][0])\n",
    "                if float(reac[x][0]) < 0:\n",
    "                    concentration_f += build_concentartion( i, reac[x][0])\n",
    "                else:\n",
    "                    concentration_r += build_concentartion( i, reac[x][0])\n",
    "    \n",
    "    rate_reac = rate_f + concentration_f + rate_r + concentration_r\n",
    "    \n",
    "    return rate_reac\n",
    "            \n",
    "        \n",
    "         \n",
    "def build_stoic_matrix(complete_list, species_list, species_indices):\n",
    "\n",
    "    matrix = np.zeros((len(complete_list),len(species_list)), dtype = float)\n",
    "    rate_final = []\n",
    "    for rxnindex, reac_list in enumerate(complete_list):\n",
    "        rate = build_rate(reac_list, species_list, matrix, rxnindex, species_indices)\n",
    "        rate_final.append(rate)\n",
    "    return matrix, rate_final"
   ]
  },
  {
   "cell_type": "code",
   "execution_count": 208,
   "metadata": {},
   "outputs": [
    {
     "data": {
      "text/plain": [
       "'kf[43] * y[41] - kr[43]* y[1] ** 3.9 * y[0] ** 0.7 * y[44] ** 0.4 * y[11] ** 2.2 * y[45] ** 1.8 '"
      ]
     },
     "execution_count": 208,
     "metadata": {},
     "output_type": "execute_result"
    }
   ],
   "source": [
    "matrix, rate_reac = build_stoic_matrix(reac_prod_list, unique_species, speciesindices)\n",
    "rate_reac[43]"
   ]
  },
  {
   "cell_type": "code",
   "execution_count": 186,
   "metadata": {},
   "outputs": [],
   "source": [
    "\n",
    "\n",
    "\n",
    "def build_dydt_list(complete_list, species_list, species_indices, rev_rate = 'yes'):\n",
    "    \n",
    "    reac_matrix, rate_reac = build_stoic_matrix(complete_list, species_list, species_indices)\n",
    "    dydt_expressions = []\n",
    "    for species in species_list:\n",
    "        rate_equation = 'dy[%i]/dt = ' % (species_indices[species])\n",
    "        i = species_indices[species]\n",
    "        for j in range (len(rate_reac)):\n",
    "            if reac_matrix[j][i] > 0:\n",
    "                if reac_matrix[j][i] == 1.0:\n",
    "                    if rev_rate == 'yes':\n",
    "                        rate_equation += '+ %s' %(rate_reac[j])\n",
    "                    else:\n",
    "                        rate_equation += '+ %s' %(re.split('-', rate_reac[j])[0])\n",
    "                else:\n",
    "                    rate_equation += '+ %1.2f * %s' %(reac_matrix[j][i], re.split('-', rate_reac[j])[0])\n",
    "                    if rev_rate == 'yes':\n",
    "                        rate_equation += '- %1.2f * %s' %(reac_matrix[j][i], re.split('-', rate_reac[j])[1])\n",
    "                    else:\n",
    "                        pass\n",
    "            elif reac_matrix[j][i] < 0:\n",
    "                if reac_matrix[j][i] == -1.:\n",
    "                    rate_equation += '- %s' %(re.split('-', rate_reac[j])[0])\n",
    "                    if rev_rate == 'yes':\n",
    "                        rate_equation += '+ %s' %(re.split('-', rate_reac[j])[1])\n",
    "                    else:\n",
    "                        pass\n",
    "                else:\n",
    "                    rate_equation += '- %1.2f * %s' %(abs(reac_matrix[j][i]), re.split('-', rate_reac[j])[0])\n",
    "                    if rev_rate == 'yes':\n",
    "                        rate_equation += '+ %1.2f * %s' %(abs(reac_matrix[j][i]), re.split('-', rate_reac[j])[1])\n",
    "                    else: \n",
    "                        pass\n",
    "            else:\n",
    "                pass\n",
    "        dydt_expressions.append(rate_equation)\n",
    "    \n",
    "    return dydt_expressions\n",
    "        \n",
    "#     rate_formation = 'd[%s]/dt = ' % (species)\n",
    "#     # \"entry\" is [reaction#, sign of that reaction, coefficient]\n",
    "#     for entry in species_rxns[species]:\n",
    "#         if human == 'no':\n",
    "#             rate_formation += '%s*%s' % \\\n",
    "#             (entry[2], rates_forward[entry[0]].split(' = ')[1])\n",
    "#             rate_formation += '%s*%s' % \\\n",
    "#             (entry[3], rates_reverse[entry[0]].split(' = ')[1])\n",
    "#         elif human == 'yes':\n",
    "#             rate_formation += '%s*rate_f[%s] ' % (entry[2], entry[0])\n",
    "#             rate_formation += '%s*rate_r[%s] ' % (entry[3], entry[0])\n",
    "#         else:\n",
    "#             raise ValueError('human must be a string: yes or no')\n",
    "#     dydt_expressions.append(rate_formation)\n",
    "\n"
   ]
  },
  {
   "cell_type": "code",
   "execution_count": 187,
   "metadata": {},
   "outputs": [
    {
     "data": {
      "text/plain": [
       "'dy[43]/dt = - kf[0] * y[43] +  kr[0]* y[11] * y[40] - kf[1] * y[43] +  kr[1]* y[11] * y[41] - kf[2] * y[43] +  kr[2]* y[11] * y[42] - kf[3] * y[43] +  kr[3]* y[31] '"
      ]
     },
     "execution_count": 187,
     "metadata": {},
     "output_type": "execute_result"
    }
   ],
   "source": [
    "dydt_list = []\n",
    "dydt_list = build_dydt_list(reac_prod_list, unique_species, speciesindices, rev_rate = 'yes')\n",
    "dydt_list[43]"
   ]
  },
  {
   "cell_type": "code",
   "execution_count": 205,
   "metadata": {},
   "outputs": [],
   "source": [
    "def build_eqn_forward(matrix, reaction_rate, rev_rate):\n",
    "    if matrix > 0:\n",
    "        sign1 = ' + '\n",
    "        sign2 = ' - '\n",
    "    else:\n",
    "        sign1 = ' - '\n",
    "        sign2 = ' + '\n",
    "        \n",
    "    if abs(matrix) == 1.0:\n",
    "        rate = sign1 +'%s' %re.split('-', reaction_rate)[0]\n",
    "        if rev_rate == 'yes':\n",
    "            rate += sign2 +'%s' %re.split('-', reaction_rate)[1]\n",
    "        else:\n",
    "            pass\n",
    "    else:\n",
    "        rate = sign1 + '%1.2f * %s' %(matrix, re.split('-', reaction_rate)[0])\n",
    "        if rev_rate == 'yes':\n",
    "            rate += sign2 + '%1.2f *%s' %(matrix, re.split('-', reaction_rate)[1])\n",
    "            \n",
    "        else:\n",
    "            pass\n",
    "# print(rate)\n",
    "    return rate\n",
    "\n",
    "\n",
    "\n",
    "\n",
    "def build_dydt_list(complete_list, species_list, species_indices, rev_rate = 'yes'):\n",
    "    \n",
    "    reac_matrix, rate_reac = build_stoic_matrix(complete_list, species_list, species_indices)\n",
    "    dydt_expressions = []\n",
    "    for species in species_list:\n",
    "        rate_equation = 'dy[%i]/dt = ' % (species_indices[species])\n",
    "        i = species_indices[species]\n",
    "        for j in range (len(rate_reac)):\n",
    "            if abs(reac_matrix[j][i]) > 0:\n",
    "                rate_equation += build_eqn_forward(reac_matrix[j][i], rate_reac[j], rev_rate)\n",
    "#            elif reac_matrix[j][i] < 0:\n",
    "#                 if reac_matrix[j][i] == -1.:\n",
    "#                     rate_equation += '- %s' %(re.split('-', rate_reac[j])[0])\n",
    "#                     if rev_rate == 'yes':\n",
    "#                         rate_equation += '+ %s' %(re.split('-', rate_reac[j])[1])\n",
    "#                     else:\n",
    "#                         pass\n",
    "#                 else:\n",
    "#                     rate_equation += '- %1.2f * %s' %(abs(reac_matrix[j][i]), re.split('-', rate_reac[j])[0])\n",
    "#                     if rev_rate == 'yes':\n",
    "#                         rate_equation += '+ %1.2f * %s' %(abs(reac_matrix[j][i]), re.split('-', rate_reac[j])[1])\n",
    "#                     else: \n",
    "#                         pass\n",
    "#                rate_equation += build_eqn_forward(reac_matrix[j][i], rate_reac[j], rev_rate)\n",
    "            else:\n",
    "                pass\n",
    "\n",
    "        dydt_expressions.append(rate_equation)\n",
    "    \n",
    "    return dydt_expressions"
   ]
  },
  {
   "cell_type": "code",
   "execution_count": 207,
   "metadata": {},
   "outputs": [
    {
     "data": {
      "text/plain": [
       "'dy[1]/dt =  + 3.90 * kf[42] * y[40]  - 3.90 * kr[42]* y[1] ** 3.9 * y[0] ** 0.7 * y[44] ** 0.4 * y[11] ** 2.2 * y[45] ** 1.8  + 3.90 * kf[43] * y[41]  - 3.90 * kr[43]* y[1] ** 3.9 * y[0] ** 0.7 * y[44] ** 0.4 * y[11] ** 2.2 * y[45] ** 1.8  + 3.90 * kf[44] * y[32]  - 3.90 * kr[44]* y[1] ** 3.9 * y[0] ** 0.7 * y[44] ** 0.4 * y[11] ** 2.2 * y[45] ** 1.8  + 3.90 * kf[45] * y[33]  - 3.90 * kr[45]* y[1] ** 3.9 * y[0] ** 0.7 * y[44] ** 0.4 * y[11] ** 2.2 * y[45] ** 1.8  + 3.90 * kf[46] * y[33]  - 3.90 * kr[46]* y[1] ** 3.9 * y[0] ** 0.7 * y[44] ** 0.4 * y[11] ** 2.2 * y[45] ** 1.8  + 3.90 * kf[47] * y[36]  - 3.90 * kr[47]* y[1] ** 3.9 * y[0] ** 0.7 * y[44] ** 0.4 * y[11] ** 2.2 * y[45] ** 1.8  + 3.90 * kf[48] * y[3]  - 3.90 * kr[48]* y[1] ** 3.9 * y[0] ** 0.7 * y[44] ** 0.4 * y[11] ** 2.2 * y[45] ** 1.8  + 3.90 * kf[49] * y[9]  - 3.90 * kr[49]* y[1] ** 3.9 * y[0] ** 0.7 * y[44] ** 0.4 * y[11] ** 2.2 * y[45] ** 1.8  + 3.90 * kf[50] * y[25]  - 3.90 * kr[50]* y[1] ** 3.9 * y[0] ** 0.7 * y[44] ** 0.4 * y[11] ** 2.2 * y[45] ** 1.8  + 3.90 * kf[51] * y[35]  - 3.90 * kr[51]* y[1] ** 3.9 * y[0] ** 0.7 * y[44] ** 0.4 * y[11] ** 2.2 * y[45] ** 1.8  + 3.90 * kf[52] * y[29]  - 3.90 * kr[52]* y[1] ** 3.9 * y[0] ** 0.7 * y[44] ** 0.4 * y[11] ** 2.2 * y[45] ** 1.8  + 3.90 * kf[53] * y[26]  - 3.90 * kr[53]* y[1] ** 3.9 * y[0] ** 0.7 * y[44] ** 0.4 * y[11] ** 2.2 * y[45] ** 1.8  + 3.90 * kf[54] * y[27]  - 3.90 * kr[54]* y[1] ** 3.9 * y[0] ** 0.7 * y[44] ** 0.4 * y[11] ** 2.2 * y[45] ** 1.8  + 3.90 * kf[55] * y[28]  - 3.90 * kr[55]* y[1] ** 3.9 * y[0] ** 0.7 * y[44] ** 0.4 * y[11] ** 2.2 * y[45] ** 1.8  + 3.90 * kf[56] * y[13]  - 3.90 * kr[56]* y[1] ** 3.9 * y[0] ** 0.7 * y[44] ** 0.4 * y[11] ** 2.2 * y[45] ** 1.8  + 3.90 * kf[57] * y[22]  - 3.90 * kr[57]* y[1] ** 3.9 * y[0] ** 0.7 * y[44] ** 0.4 * y[11] ** 2.2 * y[45] ** 1.8  + 3.90 * kf[58] * y[38]  - 3.90 * kr[58]* y[1] ** 3.9 * y[0] ** 0.7 * y[44] ** 0.4 * y[11] ** 1.2 * y[45] ** 1.8  + 3.90 * kf[59] * y[39]  - 3.90 * kr[59]* y[1] ** 3.9 * y[0] ** 0.7 * y[44] ** 0.4 * y[11] ** 1.2 * y[45] ** 1.8  + 3.90 * kf[60] * y[5]  - 3.90 * kr[60]* y[1] ** 3.9 * y[0] ** 0.7 * y[44] ** 0.4 * y[11] ** 1.2 * y[45] ** 1.8  + 3.90 * kf[61] * y[20]  - 3.90 * kr[61]* y[1] ** 3.9 * y[0] ** 0.7 * y[44] ** 0.4 * y[11] ** 1.2 * y[45] ** 1.8 '"
      ]
     },
     "execution_count": 207,
     "metadata": {},
     "output_type": "execute_result"
    }
   ],
   "source": [
    "dydt_list = []\n",
    "dydt_list = build_dydt_list(reac_prod_list, unique_species, speciesindices, rev_rate = 'yes')\n",
    "dydt_list[1]"
   ]
  },
  {
   "cell_type": "code",
   "execution_count": 164,
   "metadata": {},
   "outputs": [
    {
     "name": "stdout",
     "output_type": "stream",
     "text": [
      "['kf(0) * y[0]**1.0 ', ' kr(0)* y[1]**1.0 * y[2]**2.0']\n"
     ]
    }
   ],
   "source": [
    "a='kf(0) * y[0]**1.0 - kr(0)* y[1]**1.0 * y[2]**2.0'\n",
    "import re\n",
    "print(re.split('-', a))"
   ]
  },
  {
   "cell_type": "code",
   "execution_count": 36,
   "metadata": {},
   "outputs": [],
   "source": [
    "stoic_matrix = np.zeros((len(reac_prod_list),len(unique_species)), dtype = float)\n",
    "for rxnindex, reac_list in enumerate(reac_prod_list):\n",
    "    for x in range (len(reac_list)):\n",
    "        species = reac_list[x][1]\n",
    "        for i in range (len(unique_species)):\n",
    "            if i == speciesindices[species]:\n",
    "                stoic_matrix[rxnindex][i] = float(reac_list[x][0])\n",
    "\n",
    "#print(stoic_matrix[61])"
   ]
  },
  {
   "cell_type": "code",
   "execution_count": 37,
   "metadata": {},
   "outputs": [
    {
     "name": "stdout",
     "output_type": "stream",
     "text": [
      "[[0. 0. 0. ... 1. 0. 0.]\n",
      " [0. 0. 0. ... 1. 0. 0.]\n",
      " [0. 0. 0. ... 1. 0. 0.]\n",
      " ...\n",
      " [0. 0. 0. ... 0. 0. 0.]\n",
      " [0. 0. 0. ... 0. 0. 0.]\n",
      " [0. 0. 0. ... 0. 0. 0.]]\n"
     ]
    }
   ],
   "source": [
    "reac_matrix = abs(stoic_matrix.clip(-20,0))\n",
    "print(reac_matrix)\n",
    "prod_matrix = stoic_matrix.clip(0,100)\n",
    "# prod_matrix = stoic_matrix\n",
    "# reac_matrix[reac_matrix > 0] = 0\n",
    "# print(abs(reac_matrix))\n",
    "\n",
    "# prod_matrix[prod_matrix < 0] = 0\n",
    "#print(prod_matrix)"
   ]
  },
  {
   "cell_type": "code",
   "execution_count": 38,
   "metadata": {},
   "outputs": [
    {
     "name": "stdout",
     "output_type": "stream",
     "text": [
      "[[    1     0   243]\n",
      " [    1     0 19683]]\n"
     ]
    }
   ],
   "source": [
    "b = np.array(([1, 4, 5], [3, 0,9]), dtype = int)\n",
    "#print(b)\n",
    "c = np.power([1,0,3], b)\n",
    "#print(c)\n",
    "c = np.where(b != 0, c, 0)\n",
    "print(c)\n",
    "\n"
   ]
  },
  {
   "cell_type": "code",
   "execution_count": 39,
   "metadata": {},
   "outputs": [],
   "source": [
    "import pylab as P\n",
    "#import nose\n",
    "from assimulo.solvers import CVode\n",
    "from assimulo.problem import Explicit_Problem"
   ]
  },
  {
   "cell_type": "code",
   "execution_count": 41,
   "metadata": {},
   "outputs": [],
   "source": [
    "kf = forward_rate_constants\n",
    "#kf = [9.070586400466592e-07 , 9.070586400466592e-07 , 9.070586400466592e-07, 9.070586400466592e-07]\n",
    "#kf = [1.0, 1.0, 1.0, 1.0]\n",
    "kr = reverse_rate_constants\n",
    "#kr = np.zeros(len(dydt_expressions))\n",
    "def run_example(species_list, species_indices, dydt_list, with_plots=True):\n",
    "    r\"\"\"\n",
    "    Demonstration of the use of CVode by solving the\n",
    "    linear test equation :math:`\\dot y = - y`\n",
    "    \n",
    "    on return:\n",
    "    \n",
    "       - :dfn:`exp_mod`    problem instance\n",
    "    \n",
    "       - :dfn:`exp_sim`    solver instance\n",
    "       \n",
    "    \"\"\"\n",
    "\n",
    "    y0 = np.zeros((len(species_list)), dtype = float)\n",
    "    y0[species_indices['O[C@H]1[C@H](O)CO[C@@H](O)[C@@H]1O']] = 1\n",
    "    #y0[0] = 0\n",
    "    dydt = np.zeros((len(species_list)), dtype = float)\n",
    "    #Define the rhs\n",
    "    y = y0\n",
    "\n",
    "    def rhs(t, C):\n",
    "        y = C   \n",
    "        \n",
    "        for i in range (len(dydt_list)):\n",
    "            dydt[i] = eval(dydt_list[i].split('=')[1])\n",
    "        return dydt\n",
    "#        return N.array([ydot])\n",
    "#         Ca, Cb, Cc = C\n",
    "#         dCadt = -k1 * Ca + k_1 * Cb\n",
    "#         dCbdt = k1 * Ca - k2 * Cb - k_1 * Cb + k_2 * Cc\n",
    "#         dCcdt = k2 * Cb - k_2 * Cc\n",
    "#         return [dCadt, dCbdt, dCcdt]  \n",
    "    \n",
    "\n",
    "#    print(ode(0, y0))\n",
    "    \n",
    "    t0 = 0\n",
    "    #Define an Assimulo problem\n",
    "    exp_mod = Explicit_Problem(rhs, y0, t0, name = r'CVode Test Example: A --> B --> C')\n",
    "    \n",
    "    #Define an explicit solver\n",
    "    exp_sim = CVode(exp_mod) #Create a CVode solver\n",
    "    \n",
    "    #Sets the parameters\n",
    "    exp_sim.iter  = 'Newton' #Default 'FixedPoint'\n",
    "    exp_sim.discr = 'Adams' #Default 'Adams'\n",
    "    exp_sim.atol = [1e-5] #Default 1e-6\n",
    "    exp_sim.rtol = 1e-5 #Default 1e-6\n",
    "    exp_sim.maxh = 0.1\n",
    "    exp_sim.display_progress = True\n",
    "    #Simulate\n",
    "    t1, y1 = exp_sim.simulate(10) #Simulate 5 seconds\n",
    "#    t2, y2 = exp_sim.simulate(17) #Simulate 2 seconds more\n",
    "  \n",
    "    #Basic test\n",
    "    #nose.tools.assert_almost_equal(float(y2[-1]), 0.00347746, 5)\n",
    "    #nose.tools.assert_almost_equal(exp_sim.get_last_step(), 0.0222169642893, 3)\n",
    "    \n",
    "    #Plot\n",
    "    if with_plots:\n",
    "        P.plot(t1, y1, color=\"b\")\n",
    "        #P.plot(t2, y2, color=\"r\")\n",
    "        P.title(exp_mod.name)\n",
    "        P.ylabel('y')\n",
    "        P.xlabel('Time')\n",
    "        P.show()\n",
    "    #return exp_mod, exp_sim\n",
    "    return t1, y1"
   ]
  },
  {
   "cell_type": "code",
   "execution_count": 42,
   "metadata": {},
   "outputs": [
    {
     "name": "stdout",
     "output_type": "stream",
     "text": [
      "Final Run Statistics: CVode Test Example: A --> B --> C \n",
      "\n",
      " Number of steps                                 : 138\n",
      " Number of function evaluations                  : 152\n",
      " Number of Jacobian evaluations                  : 3\n",
      " Number of function eval. due to Jacobian eval.  : 138\n",
      " Number of error test failures                   : 1\n",
      " Number of nonlinear iterations                  : 148\n",
      " Number of nonlinear convergence failures        : 0\n",
      "\n",
      "Solver options:\n",
      "\n",
      " Solver                   : CVode\n",
      " Linear multistep method  : Adams\n",
      " Nonlinear solver         : Newton\n",
      " Linear solver type       : DENSE\n",
      " Maximal order            : 12\n",
      " Tolerances (absolute)    : 1e-05\n",
      " Tolerances (relative)    : 1e-05\n",
      "\n",
      "Simulation interval    : 0.0 - 10.0 seconds.\n",
      "Elapsed simulation time: 1.1986803870004223 seconds.\n"
     ]
    }
   ],
   "source": [
    "# import io\n",
    "# import sys\n",
    "\n",
    "# text_trap = io.StringIO()\n",
    "# sys.stdout = text_trap\n",
    "\n",
    "mod, sim = run_example(unique_species, speciesindices, dydt_list, with_plots=False)\n",
    "\n",
    "# sys.stdout = sys.__stdout__"
   ]
  },
  {
   "cell_type": "code",
   "execution_count": 43,
   "metadata": {},
   "outputs": [
    {
     "data": {
      "image/png": "[encoded data removed]",
      "text/plain": [
       "<Figure size 432x288 with 1 Axes>"
      ]
     },
     "metadata": {
      "image/png": {
       "height": 252,
       "width": 381
      },
      "needs_background": "light"
     },
     "output_type": "display_data"
    }
   ],
   "source": [
    "%matplotlib inline\n",
    "%config InlineBackend.figure_format = 'retina'\n",
    "\n",
    "plt.plot(mod, sim[:,43], color=\"b\")\n",
    "plt.plot(mod, sim[:,speciesindices['O=CCO']], color=\"r\")\n",
    "plt.plot(mod, sim[:,speciesindices['O=Cc1ccco1']], color=\"g\")\n",
    "#P.xscale(10e-10)\n",
    "plt.ylim(10e-9, 1)\n",
    "plt.yscale('log')"
   ]
  },
  {
   "cell_type": "code",
   "execution_count": 138,
   "metadata": {},
   "outputs": [
    {
     "name": "stdout",
     "output_type": "stream",
     "text": [
      "Final Run Statistics: CVode Test Example: A --> B --> C \n",
      "\n",
      " Number of steps                                 : 102\n",
      " Number of function evaluations                  : 107\n",
      " Number of Jacobian evaluations                  : 2\n",
      " Number of function eval. due to Jacobian eval.  : 92\n",
      " Number of error test failures                   : 0\n",
      " Number of nonlinear iterations                  : 103\n",
      " Number of nonlinear convergence failures        : 0\n",
      "\n",
      "Solver options:\n",
      "\n",
      " Solver                   : CVode\n",
      " Linear multistep method  : Adams\n",
      " Nonlinear solver         : Newton\n",
      " Linear solver type       : DENSE\n",
      " Maximal order            : 12\n",
      " Tolerances (absolute)    : 1e-05\n",
      " Tolerances (relative)    : 1e-05\n",
      "\n",
      "Simulation interval    : 0.0 - 10.0 seconds.\n",
      "Elapsed simulation time: 0.9204378539998288 seconds.\n",
      "Final Run Statistics: CVode Test Example: A --> B --> C \n",
      "\n",
      " Number of steps                                 : 107\n",
      " Number of function evaluations                  : 115\n",
      " Number of Jacobian evaluations                  : 2\n",
      " Number of function eval. due to Jacobian eval.  : 92\n",
      " Number of error test failures                   : 0\n",
      " Number of nonlinear iterations                  : 111\n",
      " Number of nonlinear convergence failures        : 0\n",
      "\n",
      "Solver options:\n",
      "\n",
      " Solver                   : CVode\n",
      " Linear multistep method  : Adams\n",
      " Nonlinear solver         : Newton\n",
      " Linear solver type       : DENSE\n",
      " Maximal order            : 12\n",
      " Tolerances (absolute)    : 1e-05\n",
      " Tolerances (relative)    : 1e-05\n",
      "\n",
      "Simulation interval    : 0.0 - 10.0 seconds.\n",
      "Elapsed simulation time: 0.8763680379997822 seconds.\n",
      "Final Run Statistics: CVode Test Example: A --> B --> C \n",
      "\n",
      " Number of steps                                 : 138\n",
      " Number of function evaluations                  : 152\n",
      " Number of Jacobian evaluations                  : 3\n",
      " Number of function eval. due to Jacobian eval.  : 138\n",
      " Number of error test failures                   : 1\n",
      " Number of nonlinear iterations                  : 148\n",
      " Number of nonlinear convergence failures        : 0\n",
      "\n",
      "Solver options:\n",
      "\n",
      " Solver                   : CVode\n",
      " Linear multistep method  : Adams\n",
      " Nonlinear solver         : Newton\n",
      " Linear solver type       : DENSE\n",
      " Maximal order            : 12\n",
      " Tolerances (absolute)    : 1e-05\n",
      " Tolerances (relative)    : 1e-05\n",
      "\n",
      "Simulation interval    : 0.0 - 10.0 seconds.\n",
      "Elapsed simulation time: 1.2633448400001726 seconds.\n"
     ]
    },
    {
     "data": {
      "text/plain": [
       "Text(0, 0.5, 'Concentration')"
      ]
     },
     "execution_count": 138,
     "metadata": {},
     "output_type": "execute_result"
    },
    {
     "data": {
      "image/png": "[encoded data removed]",
      "text/plain": [
       "<Figure size 432x288 with 1 Axes>"
      ]
     },
     "metadata": {
      "image/png": {
       "height": 277,
       "width": 387
      },
      "needs_background": "light"
     },
     "output_type": "display_data"
    }
   ],
   "source": [
    "temperature = [673, 723, 773]\n",
    "\n",
    "for i, T in enumerate(temperature):\n",
    "    kf = build_kmatrix_forward(file_rateconstantlist, T)\n",
    "    free_energy_dict = build_free_energy_dict(file_free_energy, T)\n",
    "    kr = build_kmatrix_reverse(reac_prod_list, free_energy_dict, kf, T )\n",
    "    colors = ['r', 'g', 'b']\n",
    "    labels = ['400$^\\circ$C', '450$^\\circ$C', '500$^\\circ$C']\n",
    "    \n",
    "#     text_trap = io.StringIO()\n",
    "#     sys.stdout = text_trap\n",
    "    \n",
    "    mod, sim = run_example(unique_species, speciesindices, dydt_list, with_plots=False)\n",
    "#     sys.stdout = sys.__stdout__\n",
    "    \n",
    "    plt.plot(mod, sim[:,speciesindices['O']], color = colors[i], label = labels[i])\n",
    "#    plt.plot(mod, sim[:,43], color = colors[i], label = labels[i])\n",
    "    plt.title('Concentration of Furfural')\n",
    "    plt.ylim(10e-9, 3.1)\n",
    "#    plt.yscale('log')\n",
    "    plt.legend()\n",
    "    \n",
    "plt.xlabel('Time(s)')\n",
    "plt.ylabel('Concentration')"
   ]
  },
  {
   "cell_type": "code",
   "execution_count": null,
   "metadata": {},
   "outputs": [],
   "source": [
    "mod, sim = run_example(with_plots=False)\n",
    "print(len(mod))"
   ]
  },
  {
   "cell_type": "code",
   "execution_count": null,
   "metadata": {},
   "outputs": [],
   "source": [
    "print(mod)\n",
    "print(sim[:, 43])\n",
    "#P.plot(mod, sim, color=\"b\")"
   ]
  },
  {
   "cell_type": "code",
   "execution_count": null,
   "metadata": {},
   "outputs": [],
   "source": [
    "from assimulo.solvers.sundials import CVode #Imports the solver CVode from Assimulo\n",
    "from assimulo.problem import Explicit_Problem #Imports the problem formulation from Assimulo   \n",
    "\n",
    "def run_example():\n",
    "\n",
    "    def rhs(t,y):\n",
    "        A =np.array([[0,1],[-2,-1]])\n",
    "        yd=np.dot(A,y)\n",
    "        \n",
    "        return yd\n",
    "        \n",
    "    y0=np.array([1.0,1.0])\n",
    "    t0=0.0\n",
    "        \n",
    "    model = Explicit_Problem(rhs,y0,t0) #Create an Assimulo problem\n",
    "    model.name = 'Linear Test ODE'\n",
    "\n",
    "    sim = CVode(model) #Create the solver CVode\n",
    "\n",
    "    tfinal = 10.0 #Specify the final time\n",
    "        \n",
    "    t,y = sim.simulate(tfinal) #Use the .simulate method to simulate and provide the final time\n",
    "        \n",
    "    #Plot\n",
    "    P.plot(t,y)\n",
    "    P.show()\n",
    "\n",
    "if __name__=='__main__':\n",
    "    run_example()"
   ]
  },
  {
   "cell_type": "code",
   "execution_count": null,
   "metadata": {},
   "outputs": [],
   "source": []
  }
 ],
 "metadata": {
  "kernelspec": {
   "display_name": "kmpy",
   "language": "python",
   "name": "kmpy"
  },
  "language_info": {
   "codemirror_mode": {
    "name": "ipython",
    "version": 3
   },
   "file_extension": ".py",
   "mimetype": "text/x-python",
   "name": "python",
   "nbconvert_exporter": "python",
   "pygments_lexer": "ipython3",
   "version": "3.7.1"
  }
 },
 "nbformat": 4,
 "nbformat_minor": 2
}
