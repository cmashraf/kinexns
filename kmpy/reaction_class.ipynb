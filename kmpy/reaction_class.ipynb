{
 "cells": [
  {
   "cell_type": "code",
   "execution_count": null,
   "metadata": {},
   "outputs": [],
   "source": [
    "import os, sys\n",
    "import numpy as np\n",
    "from constants import GAS_CONST, MW"
   ]
  },
  {
   "cell_type": "code",
   "execution_count": null,
   "metadata": {},
   "outputs": [],
   "source": [
    "def set_paths():\n",
    "    \"\"\"\n",
    "    Set the absolute path to required files on the current machine.\n",
    "\n",
    "    Returns\n",
    "    -------\n",
    "    reactionlist_path     : str\n",
    "                            path to the file `complete_reactionlist.dat`\n",
    "    rateconstantlist_path : str\n",
    "                            path to the file `complete_rateconstantlist.dat`\n",
    "    compositionlist_path  : str\n",
    "                            path to the file `compositionlist.dat`\n",
    "    \"\"\"\n",
    "    module_dir = os.getcwd().split('ligpy_utils')[0]\n",
    "    reactionlist_path = module_dir + '/data/complete_reaction_list.dat'\n",
    "    rateconstantlist_path = module_dir + '/data/complete_rateconstant_list.dat'\n",
    "    compositionlist_path = module_dir + '/data/compositionlist.dat'\n",
    "    return reactionlist_path, rateconstantlist_path, compositionlist_path"
   ]
  },
  {
   "cell_type": "code",
   "execution_count": 3,
   "metadata": {},
   "outputs": [],
   "source": [
    "reactionlist, rateconstantlist, compositionlist = set_paths()"
   ]
  },
  {
   "cell_type": "code",
   "execution_count": 4,
   "metadata": {},
   "outputs": [
    {
     "name": "stdout",
     "output_type": "stream",
     "text": [
      "/Users/chowdhury/Documents/kmpy/kmpy/data/complete_reaction_list.dat\n"
     ]
    }
   ],
   "source": [
    "print(reactionlist)"
   ]
  },
  {
   "cell_type": "code",
   "execution_count": 5,
   "metadata": {},
   "outputs": [],
   "source": [
    "class Reaction(object):\n",
    "    \n",
    "    \n",
    "    def __init__(self):\n",
    "        self.reactants_names = []\n",
    "        self.products_names = []\n",
    "        self.uniqueSpeciesList = []\n",
    "        #species_names = []\n",
    "        \n",
    "   \n",
    "    def getReactantsName(self, line):\n",
    "        \n",
    "        for spec in line.split(','):\n",
    "            if float(spec.split('_')[0].split()[0]) < 0:\n",
    "                self.reactants_names.append((spec.split('_')[0].split()[0],\n",
    "                                          spec.split('_')[1].split()[0]))\n",
    "            #print(self.species_names)\n",
    "        return self.reactants_names\n",
    "    \n",
    "    def getProductsName(self, line):\n",
    "        \n",
    "        for spec in line.split(','):\n",
    "            if float(spec.split('_')[0].split()[0]) > 0:\n",
    "                self.products_names.append((spec.split('_')[0].split()[0],\n",
    "                                          spec.split('_')[1].split()[0]))\n",
    "            #print(self.species_names)\n",
    "        return self.products_names\n",
    "    \n",
    "    def uniqueSpeciesName(self, line, species_list):\n",
    "        #self.uniqueSpeciesList = species_list\n",
    "        for spec in line.split(','):\n",
    "            #self.uniqueSpeciesList = species_list\n",
    "            # If the species has already been added to the list then move on.\n",
    "            if spec.split('_')[1].split()[0] in species_list:\n",
    "                self.uniqueSpeciesList = species_list\n",
    "                continue\n",
    "            else:\n",
    "                #print(self.uniqueSpeciesList)\n",
    "                self.uniqueSpeciesList = species_list\n",
    "                self.uniqueSpeciesList.append(spec.split('_')[1].split()[0])\n",
    "            #print(spec.split('_')[1].split()[0])\n",
    "        return self.uniqueSpeciesList\n",
    "    "
   ]
  },
  {
   "cell_type": "code",
   "execution_count": 32,
   "metadata": {},
   "outputs": [],
   "source": [
    "reactants_list = []\n",
    "products_list = []\n",
    "species_name = []\n",
    "\n",
    "for line in open(reactionlist, 'r').readlines():\n",
    "    reac = Reaction()\n",
    "    reactants_list.append(reac.getReactantsName(line))\n",
    "    products_list.append(reac.getProductsName(line))\n",
    "    current_species = species_name\n",
    "    #print(current_species)\n",
    "    species_list = reac.uniqueSpeciesName(line, current_species)\n",
    "    #print(species_name)\n",
    "species_list.sort()\n",
    "    "
   ]
  },
  {
   "cell_type": "code",
   "execution_count": 33,
   "metadata": {},
   "outputs": [
    {
     "name": "stdout",
     "output_type": "stream",
     "text": [
      "['C=C(O)C=O', 'C=C(O)[C@@H](O)[C@H](O)C=O', 'C=O', 'CC(=O)/C=C(/O)C=O', 'CC(=O)C=O', 'CC(=O)CC(=O)C=O', 'CC(=O)CO', 'CC(=O)[C@@H](O)[C@H](O)C=O', 'CC=O', 'O', 'O/C=C/O', 'O=C/C=C(\\\\O)[C@@H](O)CO', 'O=C/C=C/C(=O)CO', 'O=C/C=C\\\\[C@@H](O)C=O', 'O=C1COC=C[C@@H]1O', 'O=C1COCC(=O)C1', 'O=C1COC[C@@H](O)[C@@H]1O', 'O=CC(O)C=O', 'O=CC1=C[C@@H](O)CO1', 'O=CC=O', 'O=CCC(=O)[C@@H](O)CO', 'O=CCC=O', 'O=CCO', 'O=CC[C@H](O)[C@@H](O)C=O', 'O=CC[C@H](O)[C@H](O)C=O', 'O=C[C@@H](O)/C=C(\\\\O)CO', 'O=C[C@@H](O)CC(=O)CO', 'O=C[C@@H](O)[C@@H](O)/C=C\\\\O', 'O=C[C@@H](O)[C@@H](O)CO', 'O=C[C@@H](O)[C@H](O)[C@@H](O)CO', 'O=C[C@H](O)/C=C(/O)CO', 'O=C[C@H](O)CC(=O)CO', 'O=C[C@H](O)CO', 'O=C[C@H](O)[C@@H](O)/C=C\\\\O', 'O=C[C@H]1OC[C@H](O)[C@H]1O', 'O=Cc1ccco1', 'OC1=COC=C[C@@H]1O', 'OC1=COCC(O)=C1', 'OC1=COC[C@@H](O)[C@@H]1O', 'OC1=C[C@@H](O)[C@H](O)OC1', 'O[C@H]1C=CO[C@@H](O)[C@@H]1O', 'O[C@H]1[C@H](O)CO[C@@H](O)[C@@H]1O']\n"
     ]
    }
   ],
   "source": [
    "print(species_list)"
   ]
  },
  {
   "cell_type": "code",
   "execution_count": 73,
   "metadata": {},
   "outputs": [
    {
     "name": "stdout",
     "output_type": "stream",
     "text": [
      "42\n"
     ]
    }
   ],
   "source": [
    "print(len(products_list))"
   ]
  },
  {
   "cell_type": "code",
   "execution_count": 76,
   "metadata": {},
   "outputs": [],
   "source": [
    "total = [react + prod for react, prod in zip(reactants_list, products_list)]\n",
    "# for react, prod in zip(reactants, products):\n",
    "#     total.append(react + prod)\n",
    "#print(total)"
   ]
  },
  {
   "cell_type": "code",
   "execution_count": 36,
   "metadata": {},
   "outputs": [
    {
     "name": "stdout",
     "output_type": "stream",
     "text": [
      "42\n"
     ]
    }
   ],
   "source": [
    "print(len(species_list))"
   ]
  },
  {
   "cell_type": "code",
   "execution_count": 68,
   "metadata": {},
   "outputs": [],
   "source": [
    "#generating a dictionary of unique species from the species_list\n",
    "indices_to_species = {i:species_list[i] for i in range(0, len(species_list))}\n",
    "\n",
    "speciesindices = dict(zip(speciesindices.values(), speciesindices.keys()))"
   ]
  },
  {
   "cell_type": "code",
   "execution_count": null,
   "metadata": {},
   "outputs": [],
   "source": []
  },
  {
   "cell_type": "code",
   "execution_count": 38,
   "metadata": {},
   "outputs": [],
   "source": [
    "class Kinetic_params(object):\n",
    "      \n",
    "    def __init__(self):\n",
    "        self.forward_rate_params = []\n",
    "        self.forward_rates = []\n",
    "        #self.forward_E = []\n",
    "        #self.uniqueSpeciesList = []\n",
    "        #species_names = []\n",
    "    \n",
    "    def getForwardRateParameters(self, line):\n",
    "        \n",
    "        self.forward_rate_params = [line.split(' ')[0], line.split(' ')[1],\n",
    "                      line.split(' ')[2].split()[0]]\n",
    "      \n",
    "        return self.forward_rate_params\n",
    "    \n",
    "    def getForwardRateConstant(self, parameters, T):\n",
    "        \n",
    "        self.forward_rates = eval(params[0]) * np.exp(- eval(params[2])/\n",
    "                                                               (GAS_CONST * temp))\n",
    "        return self.forward_rates"
   ]
  },
  {
   "cell_type": "code",
   "execution_count": 39,
   "metadata": {},
   "outputs": [],
   "source": [
    "forward_rate_constants = []\n",
    "temp = 298"
   ]
  },
  {
   "cell_type": "code",
   "execution_count": 40,
   "metadata": {},
   "outputs": [],
   "source": [
    "for line in open(rateconstantlist, 'r').readlines():\n",
    "    f_params = Kinetic_params()\n",
    "    params = f_params.getForwardRateParameters(line)\n",
    "    forward_rate_constants.append(f_params.getForwardRateConstant(params, temp))"
   ]
  },
  {
   "cell_type": "code",
   "execution_count": 41,
   "metadata": {},
   "outputs": [
    {
     "data": {
      "text/plain": [
       "[2.4162838852855017e-16,\n",
       " 2.4162838852855017e-16,\n",
       " 2.4162838852855017e-16,\n",
       " 2.4162838852855017e-16,\n",
       " 5.179892807527631e-20,\n",
       " 9.562145232193119e-21,\n",
       " 8.234117945288891e-18,\n",
       " 2.8059905853701646e-19,\n",
       " 4.460489491159207e-17,\n",
       " 5.257778998806434e-09]"
      ]
     },
     "execution_count": 41,
     "metadata": {},
     "output_type": "execute_result"
    }
   ],
   "source": [
    "forward_rate_constants"
   ]
  },
  {
   "cell_type": "code",
   "execution_count": 79,
   "metadata": {},
   "outputs": [],
   "source": [
    "def build_reactant_dict(reac_list, prod_list,speciesindices):\n",
    "    \"\"\"\n",
    "    Build a dictionary of the reactants involved in each reaction,\n",
    "    along with their stoichiometric coefficients.  The keys of the\n",
    "    dictionary are the reaction numbers, the values are lists of lists\n",
    "    [[reactant1index, -1*coeff1],...]\n",
    "    Parameters\n",
    "    ----------\n",
    "    completereactionlist : str\n",
    "                           path to the file `complete_reaction_list.dat`\n",
    "    speciesindices       : dict\n",
    "                           the dictionary speciesindices from\n",
    "                           get_speciesindices()\n",
    "    Returns\n",
    "    -------\n",
    "    reactant_dict : dict\n",
    "                    a dictionary where keys are reaction numbers and values\n",
    "                    are lists of lists with the reactants and their\n",
    "                    stoichiometric coefficients for each reaction\n",
    "    \"\"\"\n",
    "    reactant_dict = {}\n",
    "    for rxnindex, reaction in enumerate(reac_list):\n",
    "        reactants = []\n",
    "        #\n",
    "        for x in range(len(reaction)):\n",
    "            # if the species is a reactant\n",
    "         #   if float(x.split('_')[0]) < 0:\n",
    "            reactants.append([speciesindices[reaction[x][1]],\n",
    "                                -1*float(reaction[x][0])])\n",
    "            #    in preceding line: *-1 because I want the |stoich coeff|\n",
    "        reactant_dict[rxnindex] = reactants\n",
    "        \n",
    "    products_dict = {}\n",
    "    for rxnindex, reaction in enumerate(prod_list):\n",
    "        products = []\n",
    "        #\n",
    "        for x in range(len(reaction)):\n",
    "            # if the species is a reactant\n",
    "         #   if float(x.split('_')[0]) < 0:\n",
    "            products.append([speciesindices[reaction[x][1]],\n",
    "                                1*float(reaction[x][0])])\n",
    "            #    in preceding line: *-1 because I want the |stoich coeff|\n",
    "        products_dict[rxnindex] = products\n",
    "    return reactant_dict, products_dict"
   ]
  },
  {
   "cell_type": "code",
   "execution_count": null,
   "metadata": {},
   "outputs": [],
   "source": []
  },
  {
   "cell_type": "code",
   "execution_count": 81,
   "metadata": {},
   "outputs": [
    {
     "data": {
      "text/plain": [
       "{0: [[9, 1.0], [38, 1.0]],\n",
       " 1: [[9, 1.0], [39, 1.0]],\n",
       " 2: [[9, 1.0], [40, 1.0]],\n",
       " 3: [[29, 1.0]],\n",
       " 4: [[33, 1.0]],\n",
       " 5: [[23, 1.0]],\n",
       " 6: [[22, 1.0], [21, 1.0]],\n",
       " 7: [[9, 1.0], [13, 1.0]],\n",
       " 8: [[9, 1.0], [36, 1.0]],\n",
       " 9: [[30, 1.0]],\n",
       " 10: [[31, 1.0]],\n",
       " 11: [[9, 1.0], [12, 1.0]],\n",
       " 12: [[6, 1.0], [19, 1.0]],\n",
       " 13: [[9, 1.0], [37, 1.0]],\n",
       " 14: [[15, 1.0]],\n",
       " 15: [[9, 1.0], [37, 1.0]],\n",
       " 16: [[16, 1.0]],\n",
       " 17: [[1, 1.0]],\n",
       " 18: [[7, 1.0]],\n",
       " 19: [[4, 1.0], [22, 1.0]],\n",
       " 20: [[9, 1.0], [3, 1.0]],\n",
       " 21: [[5, 1.0]],\n",
       " 22: [[9, 1.0], [36, 1.0]],\n",
       " 23: [[14, 1.0]],\n",
       " 24: [[9, 1.0], [34, 1.0]],\n",
       " 25: [[9, 1.0], [18, 1.0]],\n",
       " 26: [[9, 1.0], [35, 1.0]],\n",
       " 27: [[9, 1.0], [27, 1.0]],\n",
       " 28: [[24, 1.0]],\n",
       " 29: [[17, 1.0], [8, 1.0]],\n",
       " 30: [[9, 1.0], [25, 1.0]],\n",
       " 31: [[26, 1.0]],\n",
       " 32: [[22, 1.0], [0, 1.0]],\n",
       " 33: [[4, 1.0]],\n",
       " 34: [[9, 1.0], [11, 1.0]],\n",
       " 35: [[20, 1.0]],\n",
       " 36: [[22, 1.0], [21, 1.0]],\n",
       " 37: [[22, 1.0], [32, 1.0]],\n",
       " 38: [[9, 1.0], [0, 1.0]],\n",
       " 39: [[28, 1.0], [2, 1.0]],\n",
       " 40: [[22, 1.0], [10, 1.0]],\n",
       " 41: [[22, 1.0]]}"
      ]
     },
     "execution_count": 81,
     "metadata": {},
     "output_type": "execute_result"
    }
   ],
   "source": [
    "a, b = build_reactant_dict(reactants_list, products_list, speciesindices)\n",
    "b\n"
   ]
  },
  {
   "cell_type": "code",
   "execution_count": 57,
   "metadata": {},
   "outputs": [
    {
     "ename": "IndexError",
     "evalue": "string index out of range",
     "output_type": "error",
     "traceback": [
      "\u001b[0;31m---------------------------------------------------------------------------\u001b[0m",
      "\u001b[0;31mIndexError\u001b[0m                                Traceback (most recent call last)",
      "\u001b[0;32m<ipython-input-57-aa5aa277d9c5>\u001b[0m in \u001b[0;36m<module>\u001b[0;34m\u001b[0m\n\u001b[0;32m----> 1\u001b[0;31m \u001b[0ma\u001b[0m \u001b[0;34m=\u001b[0m \u001b[0mbuild_reactant_dict\u001b[0m\u001b[0;34m(\u001b[0m\u001b[0mreactionlist\u001b[0m\u001b[0;34m,\u001b[0m\u001b[0mindices_to_species\u001b[0m\u001b[0;34m)\u001b[0m\u001b[0;34m\u001b[0m\u001b[0;34m\u001b[0m\u001b[0m\n\u001b[0m\u001b[1;32m      2\u001b[0m \u001b[0ma\u001b[0m\u001b[0;34m\u001b[0m\u001b[0;34m\u001b[0m\u001b[0m\n",
      "\u001b[0;32m<ipython-input-54-d2dc0961681b>\u001b[0m in \u001b[0;36mbuild_reactant_dict\u001b[0;34m(reac_list, speciesindices)\u001b[0m\n\u001b[1;32m     26\u001b[0m             \u001b[0;31m# if the species is a reactant\u001b[0m\u001b[0;34m\u001b[0m\u001b[0;34m\u001b[0m\u001b[0;34m\u001b[0m\u001b[0m\n\u001b[1;32m     27\u001b[0m          \u001b[0;31m#   if float(x.split('_')[0]) < 0:\u001b[0m\u001b[0;34m\u001b[0m\u001b[0;34m\u001b[0m\u001b[0;34m\u001b[0m\u001b[0m\n\u001b[0;32m---> 28\u001b[0;31m             reactants.append([speciesindices[reaction[x][1]],\n\u001b[0m\u001b[1;32m     29\u001b[0m                                 -1*float(reaction[x][0])])\n\u001b[1;32m     30\u001b[0m             \u001b[0;31m#    in preceding line: *-1 because I want the |stoich coeff|\u001b[0m\u001b[0;34m\u001b[0m\u001b[0;34m\u001b[0m\u001b[0;34m\u001b[0m\u001b[0m\n",
      "\u001b[0;31mIndexError\u001b[0m: string index out of range"
     ]
    }
   ],
   "source": [
    "a = build_reactant_dict(reactionlist,indices_to_species)\n",
    "a"
   ]
  },
  {
   "cell_type": "code",
   "execution_count": null,
   "metadata": {},
   "outputs": [],
   "source": []
  }
 ],
 "metadata": {
  "kernelspec": {
   "display_name": "kmpy",
   "language": "python",
   "name": "kmpy"
  },
  "language_info": {
   "codemirror_mode": {
    "name": "ipython",
    "version": 3
   },
   "file_extension": ".py",
   "mimetype": "text/x-python",
   "name": "python",
   "nbconvert_exporter": "python",
   "pygments_lexer": "ipython3",
   "version": "3.7.3"
  }
 },
 "nbformat": 4,
 "nbformat_minor": 2
}
