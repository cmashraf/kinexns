{
 "cells": [
  {
   "cell_type": "code",
   "execution_count": 3,
   "metadata": {},
   "outputs": [],
   "source": [
    "import os, sys\n",
    "import numpy as np\n",
    "from constants import GAS_CONST"
   ]
  },
  {
   "cell_type": "code",
   "execution_count": 4,
   "metadata": {},
   "outputs": [],
   "source": [
    "def set_paths():\n",
    "    \"\"\"\n",
    "    Set the absolute path to required files on the current machine.\n",
    "\n",
    "    Returns\n",
    "    -------\n",
    "    reactionlist_path     : str\n",
    "                            path to the file `complete_reactionlist.dat`\n",
    "    rateconstantlist_path : str\n",
    "                            path to the file `complete_rateconstantlist.dat`\n",
    "    compositionlist_path  : str\n",
    "                            path to the file `compositionlist.dat`\n",
    "    \"\"\"\n",
    "    module_dir = os.getcwd().split('ligpy_utils')[0]\n",
    "    reactionlist_path = module_dir + '/data/complete_reaction_list.dat'\n",
    "    rateconstantlist_path = module_dir + '/data/complete_rateconstant_list.dat'\n",
    "    compositionlist_path = module_dir + '/data/compositionlist.dat'\n",
    "    return reactionlist_path, rateconstantlist_path, compositionlist_path"
   ]
  },
  {
   "cell_type": "code",
   "execution_count": 5,
   "metadata": {},
   "outputs": [],
   "source": [
    "reactionlist, rateconstantlist, compositionlist = set_paths()"
   ]
  },
  {
   "cell_type": "code",
   "execution_count": 6,
   "metadata": {},
   "outputs": [
    {
     "name": "stdout",
     "output_type": "stream",
     "text": [
      "/Users/chowdhury/Documents/kmpy/kmpy/data/complete_reaction_list.dat\n"
     ]
    }
   ],
   "source": [
    "print(reactionlist)"
   ]
  },
  {
   "cell_type": "code",
   "execution_count": 7,
   "metadata": {},
   "outputs": [],
   "source": [
    "class Reaction(object):\n",
    "    \n",
    "    \n",
    "    def __init__(self):\n",
    "        self.reactants_names = []\n",
    "        self.products_names = []\n",
    "        self.uniqueSpeciesList = []\n",
    "        #species_names = []\n",
    "        \n",
    "   \n",
    "    def getReactantsName(self, line):\n",
    "        \n",
    "        for spec in line.split(','):\n",
    "            if float(spec.split('_')[0].split()[0]) < 0:\n",
    "                self.reactants_names.append((spec.split('_')[0].split()[0],\n",
    "                                          spec.split('_')[1].split()[0]))\n",
    "            #print(self.species_names)\n",
    "        return self.reactants_names\n",
    "    \n",
    "    def getProductsName(self, line):\n",
    "        \n",
    "        for spec in line.split(','):\n",
    "            if float(spec.split('_')[0].split()[0]) > 0:\n",
    "                self.products_names.append((spec.split('_')[0].split()[0],\n",
    "                                          spec.split('_')[1].split()[0]))\n",
    "            #print(self.species_names)\n",
    "        return self.products_names\n",
    "    \n",
    "    def uniqueSpeciesName(self, line, species_list):\n",
    "        #self.uniqueSpeciesList = species_list\n",
    "        for spec in line.split(','):\n",
    "            #self.uniqueSpeciesList = species_list\n",
    "            # If the species has already been added to the list then move on.\n",
    "            if spec.split('_')[1].split()[0] in species_list:\n",
    "                self.uniqueSpeciesList = species_list\n",
    "                continue\n",
    "            else:\n",
    "                #print(self.uniqueSpeciesList)\n",
    "                self.uniqueSpeciesList = species_list\n",
    "                self.uniqueSpeciesList.append(spec.split('_')[1].split()[0])\n",
    "            #print(spec.split('_')[1].split()[0])\n",
    "        return self.uniqueSpeciesList\n",
    "    "
   ]
  },
  {
   "cell_type": "code",
   "execution_count": 64,
   "metadata": {},
   "outputs": [],
   "source": [
    "def build_species_list(reaction_file):\n",
    "    \"\"\"\n",
    "    Build reactnat and product list for each reaction. Also builds a list\n",
    "    of unique species in the mechanism\n",
    "    Parameters\n",
    "    ----------\n",
    "    reaction_file       : str\n",
    "                           path to the file `complete_reaction_list.dat`\n",
    "    Returns\n",
    "    __________\n",
    "\n",
    "    reactant_list       : list\n",
    "                         a list of the reactants and their stoichiometric\n",
    "                         coeffs for each reaction\n",
    "    product_list        : list\n",
    "                         a list of the products and their stoichiometric\n",
    "                         coeffs for each reaction\n",
    "    species_list        : list\n",
    "                        a list of unique species in the mechanism\n",
    "    \"\"\"\n",
    "\n",
    "    #initializing reactant, product and unique species list\n",
    "    reactant_list = []\n",
    "    product_list = []\n",
    "    species_name = []\n",
    "\n",
    "    for line in open(reaction_file, 'r').readlines():\n",
    "        reac = Reaction()\n",
    "        reactant_list.append(reac.getReactantsName(line))\n",
    "        product_list.append(reac.getProductsName(line))\n",
    "        current_species = species_name\n",
    "        #print(current_species)\n",
    "        species_list = reac.uniqueSpeciesName(line, current_species)\n",
    "        #print(species_name)\n",
    "    species_list.sort()\n",
    "\n",
    "    return reactant_list, product_list, species_list\n",
    "\n",
    "reactants_list, products_list, unique_species = build_species_list(reactionlist)\n",
    "    "
   ]
  },
  {
   "cell_type": "code",
   "execution_count": 65,
   "metadata": {},
   "outputs": [
    {
     "name": "stdout",
     "output_type": "stream",
     "text": [
      "['A', 'B', 'C', 'D', 'E', 'F']\n"
     ]
    }
   ],
   "source": [
    "print(unique_species)"
   ]
  },
  {
   "cell_type": "code",
   "execution_count": 127,
   "metadata": {},
   "outputs": [
    {
     "name": "stdout",
     "output_type": "stream",
     "text": [
      "[[('1', 'C'), ('1', 'D')], [('1', 'E')], [('1', 'D'), ('1', 'E')], [('1', 'D'), ('1', 'F')]]\n"
     ]
    }
   ],
   "source": [
    "print(products_list)\n"
   ]
  },
  {
   "cell_type": "code",
   "execution_count": 11,
   "metadata": {},
   "outputs": [],
   "source": [
    "reac_prod_list = [react + prod for react, prod in zip(reactants_list, products_list)]\n",
    "# for react, prod in zip(reactants, products):\n",
    "#     total.append(react + prod)\n",
    "#print(total)"
   ]
  },
  {
   "cell_type": "code",
   "execution_count": 12,
   "metadata": {},
   "outputs": [
    {
     "data": {
      "text/plain": [
       "[[('-1', 'A'), ('-2', 'B'), ('1', 'C'), ('1', 'D')],\n",
       " [('-1', 'A'), ('1', 'E')],\n",
       " [('-1', 'B'), ('-1', 'C'), ('1', 'D'), ('1', 'E')],\n",
       " [('-1', 'A'), ('1', 'D'), ('1', 'F')]]"
      ]
     },
     "execution_count": 12,
     "metadata": {},
     "output_type": "execute_result"
    }
   ],
   "source": [
    "reac_prod_list"
   ]
  },
  {
   "cell_type": "code",
   "execution_count": 13,
   "metadata": {},
   "outputs": [],
   "source": [
    "#generating a dictionary of unique species from the species_list\n",
    "speciesindices = {species_list[i]:i for i in range(0, len(species_list))}\n",
    "\n",
    "indices_to_species = dict(zip(speciesindices.values(), speciesindices.keys()))"
   ]
  },
  {
   "cell_type": "code",
   "execution_count": 14,
   "metadata": {},
   "outputs": [],
   "source": [
    "#speciesindices"
   ]
  },
  {
   "cell_type": "code",
   "execution_count": 15,
   "metadata": {},
   "outputs": [],
   "source": [
    "class Kinetic_params(object):\n",
    "      \n",
    "    def __init__(self):\n",
    "        self.forward_rate_params = []\n",
    "        self.forward_rates = []\n",
    "        #self.forward_E = []\n",
    "        #self.uniqueSpeciesList = []\n",
    "        #species_names = []\n",
    "    \n",
    "    def getForwardRateParameters(self, line):\n",
    "        \n",
    "        self.forward_rate_params = [line.split(' ')[0], line.split(' ')[1],\n",
    "                      line.split(' ')[2].split()[0]]\n",
    "      \n",
    "        return self.forward_rate_params\n",
    "    \n",
    "    def getForwardRateConstant(self, parameters, T):\n",
    "        \n",
    "        self.forward_rates = eval(params[0]) * np.exp(- eval(params[2])/\n",
    "                                                               (GAS_CONST * temp))\n",
    "        return self.forward_rates"
   ]
  },
  {
   "cell_type": "code",
   "execution_count": 16,
   "metadata": {},
   "outputs": [],
   "source": [
    "forward_rate_constants = []\n",
    "temp = 298"
   ]
  },
  {
   "cell_type": "code",
   "execution_count": 17,
   "metadata": {},
   "outputs": [],
   "source": [
    "for line in open(rateconstantlist, 'r').readlines():\n",
    "    f_params = Kinetic_params()\n",
    "    params = f_params.getForwardRateParameters(line)\n",
    "    forward_rate_constants.append(f_params.getForwardRateConstant(params, temp))"
   ]
  },
  {
   "cell_type": "code",
   "execution_count": 18,
   "metadata": {},
   "outputs": [
    {
     "data": {
      "text/plain": [
       "[2.4162838852855017e-16,\n",
       " 2.4162838852855017e-16,\n",
       " 2.4162838852855017e-16,\n",
       " 2.4162838852855017e-16]"
      ]
     },
     "execution_count": 18,
     "metadata": {},
     "output_type": "execute_result"
    }
   ],
   "source": [
    "forward_rate_constants"
   ]
  },
  {
   "cell_type": "code",
   "execution_count": 19,
   "metadata": {},
   "outputs": [],
   "source": [
    "def build_reac_prod_dict(reac_list, prod_list, speciesindices):\n",
    "    \"\"\"\n",
    "    Build a dictionary of the reactants involved in each reaction,\n",
    "    along with their stoichiometric coefficients.  The keys of the\n",
    "    dictionary are the reaction numbers, the values are lists of lists\n",
    "    [[reactant1index, -1*coeff1],...]\n",
    "    Parameters\n",
    "    ----------\n",
    "    completereactionlist : str\n",
    "                           path to the file `complete_reaction_list.dat`\n",
    "    speciesindices       : dict\n",
    "                           the dictionary speciesindices from\n",
    "                           get_speciesindices()\n",
    "    Returns\n",
    "    -------\n",
    "    reactant_dict : dict\n",
    "                    a dictionary where keys are reaction numbers and values\n",
    "                    are lists of lists with the reactants and their\n",
    "                    stoichiometric coefficients for each reaction\n",
    "    \"\"\"\n",
    "    reactant_dict = {}\n",
    "    for rxnindex, reaction in enumerate(reac_list):\n",
    "        reactants = []\n",
    "        #\n",
    "        for x in range(len(reaction)):\n",
    "            # if the species is a reactant\n",
    "         #   if float(x.split('_')[0]) < 0:\n",
    "            reactants.append([speciesindices[reaction[x][1]],\n",
    "                                -1*float(reaction[x][0])])\n",
    "            #    in preceding line: *-1 because I want the |stoich coeff|\n",
    "        reactant_dict[rxnindex] = reactants\n",
    "        \n",
    "    products_dict = {}\n",
    "    for rxnindex, reaction in enumerate(prod_list):\n",
    "        products = []\n",
    "        #\n",
    "        for x in range(len(reaction)):\n",
    "            # if the species is a reactant\n",
    "         #   if float(x.split('_')[0]) < 0:\n",
    "            products.append([speciesindices[reaction[x][1]],\n",
    "                                1*float(reaction[x][0])])\n",
    "            #    in preceding line: *-1 because I want the |stoich coeff|\n",
    "        products_dict[rxnindex] = products\n",
    "    return reactant_dict, products_dict"
   ]
  },
  {
   "cell_type": "code",
   "execution_count": null,
   "metadata": {},
   "outputs": [],
   "source": []
  },
  {
   "cell_type": "code",
   "execution_count": 135,
   "metadata": {},
   "outputs": [
    {
     "data": {
      "text/plain": [
       "{0: [[0, 1.0], [1, 2.0]],\n",
       " 1: [[0, 1.0]],\n",
       " 2: [[1, 1.0], [2, 1.0]],\n",
       " 3: [[0, 1.0]]}"
      ]
     },
     "execution_count": 135,
     "metadata": {},
     "output_type": "execute_result"
    }
   ],
   "source": [
    "reac_dict, prod_dict = build_reac_prod_dict(reactants_list, products_list, speciesindices)\n",
    "reac_dict\n"
   ]
  },
  {
   "cell_type": "code",
   "execution_count": 21,
   "metadata": {},
   "outputs": [],
   "source": [
    "def build_reac_species_dict(reacprodlist, specieslist):\n",
    "    \"\"\"\n",
    "    Build a dictionary where keys are species and values are lists with the\n",
    "    reactions that species is involved in, that reaction's sign in the net\n",
    "    rate equation, and the stoichiometric coefficient of the species in that\n",
    "    reaction.\n",
    "    Parameters\n",
    "    ----------\n",
    "    reacprodlist : list\n",
    "                        a list of both reactants and products and their \n",
    "                        stoichiometric co-effs\n",
    "    specieslist  : list\n",
    "                        a list of unique species in the mecahnism\n",
    "    \n",
    "    Returns\n",
    "    -------\n",
    "    reac_species : dict\n",
    "                   keys are the species in the model; values are lists of\n",
    "                   [reaction that species is involved in,\n",
    "                   sign of that species in the net rate equation,\n",
    "                   stoichiometric coefficient]\n",
    "    \"\"\"\n",
    "    #specieslist = get_specieslist(set_paths()[0])\n",
    "    reac_species = {}\n",
    "    for species in species_list:\n",
    "        # This loop makes a list of which reactions \"species\" takes part in\n",
    "        # and what sign that term in the net rate eqn has\n",
    "        # and what the stoichiometric coefficient is\n",
    "    \n",
    "        reactions_involved = []\n",
    "        for rxnindex, reac_list in enumerate (reacprodlist):\n",
    "            for x in range(len(reac_list)):\n",
    "                # If the species being iterated over is part of this reaction\n",
    "                if species == reac_list[x][1]:\n",
    "                    # if the species is a reactant\n",
    "                    if float(reac_list[x][0]) < 0:\n",
    "                        reactions_involved.append(\n",
    "                            [rxnindex, -1, str(-1), '+'+str(1)])\n",
    "                    \n",
    "                    # if the species is a product\n",
    "                    if float(reac_list[x][0]) > 0:\n",
    "                        reactions_involved.append(\n",
    "                            [rxnindex, 1, '+'+str(1), str(-1)])\n",
    "    \n",
    "        reac_species[species] = reactions_involved\n",
    "    return reac_species"
   ]
  },
  {
   "cell_type": "code",
   "execution_count": 22,
   "metadata": {},
   "outputs": [
    {
     "data": {
      "text/plain": [
       "{'A': [[0, -1, '-1', '+1'], [1, -1, '-1', '+1'], [3, -1, '-1', '+1']],\n",
       " 'B': [[0, -1, '-1', '+1'], [2, -1, '-1', '+1']],\n",
       " 'C': [[0, 1, '+1', '-1'], [2, -1, '-1', '+1']],\n",
       " 'D': [[0, 1, '+1', '-1'], [2, 1, '+1', '-1'], [3, 1, '+1', '-1']],\n",
       " 'E': [[1, 1, '+1', '-1'], [2, 1, '+1', '-1']],\n",
       " 'F': [[3, 1, '+1', '-1']]}"
      ]
     },
     "execution_count": 22,
     "metadata": {},
     "output_type": "execute_result"
    }
   ],
   "source": [
    "reac_species = build_reac_species_dict(reac_prod_list, species_list)\n",
    "reac_species"
   ]
  },
  {
   "cell_type": "code",
   "execution_count": 56,
   "metadata": {},
   "outputs": [
    {
     "name": "stdout",
     "output_type": "stream",
     "text": [
      "['rate_f[0] = kf(T,0) * y[0]**1.0 * y[1]**2.0 ', 'rate_f[1] = kf(T,1) * y[0]**1.0 ', 'rate_f[2] = kf(T,2) * y[1]**1.0 * y[2]**1.0 ', 'rate_f[3] = kf(T,3) * y[0]**1.0 ']\n"
     ]
    }
   ],
   "source": [
    "def build_rate_eqn(k_mat, r_dict, s_indices, human, forward):\n",
    "\n",
    "    \"\"\" This function writes the list of rate expressions for each reaction.\n",
    "    Parameters\n",
    "    ----------\n",
    "    kmat               : list\n",
    "                         A list of reaction rate contstants (k_forward or k_reverse)\n",
    "    r_dict             : dictionary\n",
    "                         reactant or product directory\n",
    "    s_indices          : dict\n",
    "                         the reverse of speciesindices (keys are the indices\n",
    "                         and values are the species)\n",
    "    human              : str, optional\n",
    "                         indicate whether the output of this function should\n",
    "                         be formatted for a human to read ('yes'). Default\n",
    "                         is 'no'\n",
    "    forward             : str\n",
    "                        reaction type,if 'yes', it is forward reaction\n",
    "                        default is 'yes'\n",
    "    Returns\n",
    "    -------\n",
    "    rates_list : list\n",
    "                A list of the rate expressions for all the reactions in the mecahnism\n",
    "    \"\"\"\n",
    "\n",
    "    rates_list = []\n",
    "    for i, line in enumerate(k_mat):\n",
    "        if forward == 'yes':\n",
    "            rate = 'rate_f[%s] = kf(T,%s) ' % (i, i)\n",
    "        else:\n",
    "            rate = 'rate_r[%s] = kr(T,%s) ' % (i, i)\n",
    "        concentrations = ''\n",
    "        for entry in r_dict[i]:\n",
    "            if entry == 'n':   # if there is no reaction\n",
    "                concentrations = '* 0'\n",
    "                break\n",
    "            else:\n",
    "                if human == 'no':\n",
    "                    concentrations += '* y[%s]**%s ' % (entry[0], entry[1])\n",
    "                elif human == 'yes':\n",
    "                    concentrations += '* [%s]**%s ' % \\\n",
    "                        (s_indices[entry[0]], entry[1])\n",
    "                else:\n",
    "                    raise ValueError('human must be a string: yes or no')\n",
    "        rate += concentrations\n",
    "\n",
    "        #rate = rate_reactant + rate_product\n",
    "        rates_list.append(rate)\n",
    "        \n",
    "    return rates_list\n",
    "\n",
    "\n",
    "rates_f = build_rate_eqn(forward_rate_constants, reac_dict, indices_to_species, human = 'no', forward = 'yes')\n",
    "rates_r = build_rate_eqn(forward_rate_constants, prod_dict, indices_to_species, human = 'no', forward = 'yes')\n",
    "\n",
    "\n",
    "print(rates_f)"
   ]
  },
  {
   "cell_type": "code",
   "execution_count": 57,
   "metadata": {},
   "outputs": [],
   "source": [
    "def build_dydt_list(rates_forward, rates_reverse, specieslist, species_rxns, human='no'):\n",
    "    \"\"\"This function returns the list of dydt expressions generated for all\n",
    "    the reactions from rates_list.\n",
    "    Parameters\n",
    "    ----------\n",
    "    rates_list         : list\n",
    "                         the output of build_rates_list()\n",
    "    specieslist        : list\n",
    "                         a list of all the species in the kinetic scheme\n",
    "    species_rxns       : dict\n",
    "                         dictionary where keys that are the model species and\n",
    "                         values are the reactions they are involved in\n",
    "    human              : str, optional\n",
    "                         indicate whether the output of this function should\n",
    "                         be formatted for a human to read ('yes'). Default\n",
    "                         is 'no'\n",
    "    Returns\n",
    "    -------\n",
    "    dydt_expressions : list\n",
    "                       expressions for the ODEs expressing the concentration\n",
    "                       of each species with time\n",
    "    \"\"\"\n",
    "    dydt_expressions = []\n",
    "    for species in specieslist:\n",
    "        rate_formation = 'd[%s]/dt = ' % (species)\n",
    "        # \"entry\" is [reaction#, sign of that reaction, coefficient]\n",
    "        for entry in species_rxns[species]:\n",
    "            if human == 'no':\n",
    "                rate_formation += '%s*%s' % \\\n",
    "                    (entry[2], rates_forward[entry[0]].split(' = ')[1])\n",
    "                rate_formation += '%s*%s' % \\\n",
    "                    (entry[3], rates_reverse[entry[0]].split(' = ')[1])\n",
    "            elif human == 'yes':\n",
    "                rate_formation += '%s*rate_f[%s] ' % (entry[2], entry[0])\n",
    "                rate_formation += '%s*rate_r[%s] ' % (entry[3], entry[0])\n",
    "            else:\n",
    "                raise ValueError('human must be a string: yes or no')\n",
    "        dydt_expressions.append(rate_formation)\n",
    "    return dydt_expressions\n"
   ]
  },
  {
   "cell_type": "code",
   "execution_count": 58,
   "metadata": {},
   "outputs": [],
   "source": [
    "dydt_list = build_dydt_list(rates_f, rates_r, species_list, reac_species, human='no')"
   ]
  },
  {
   "cell_type": "code",
   "execution_count": 59,
   "metadata": {},
   "outputs": [
    {
     "data": {
      "text/plain": [
       "['d[A]/dt = -1*kf(T,0) * y[0]**1.0 * y[1]**2.0 +1*kf(T,0) * y[2]**1.0 * y[3]**1.0 -1*kf(T,1) * y[0]**1.0 +1*kf(T,1) * y[4]**1.0 -1*kf(T,3) * y[0]**1.0 +1*kf(T,3) * y[3]**1.0 * y[5]**1.0 ',\n",
       " 'd[B]/dt = -1*kf(T,0) * y[0]**1.0 * y[1]**2.0 +1*kf(T,0) * y[2]**1.0 * y[3]**1.0 -1*kf(T,2) * y[1]**1.0 * y[2]**1.0 +1*kf(T,2) * y[3]**1.0 * y[4]**1.0 ',\n",
       " 'd[C]/dt = +1*kf(T,0) * y[0]**1.0 * y[1]**2.0 -1*kf(T,0) * y[2]**1.0 * y[3]**1.0 -1*kf(T,2) * y[1]**1.0 * y[2]**1.0 +1*kf(T,2) * y[3]**1.0 * y[4]**1.0 ',\n",
       " 'd[D]/dt = +1*kf(T,0) * y[0]**1.0 * y[1]**2.0 -1*kf(T,0) * y[2]**1.0 * y[3]**1.0 +1*kf(T,2) * y[1]**1.0 * y[2]**1.0 -1*kf(T,2) * y[3]**1.0 * y[4]**1.0 +1*kf(T,3) * y[0]**1.0 -1*kf(T,3) * y[3]**1.0 * y[5]**1.0 ',\n",
       " 'd[E]/dt = +1*kf(T,1) * y[0]**1.0 -1*kf(T,1) * y[4]**1.0 +1*kf(T,2) * y[1]**1.0 * y[2]**1.0 -1*kf(T,2) * y[3]**1.0 * y[4]**1.0 ',\n",
       " 'd[F]/dt = +1*kf(T,3) * y[0]**1.0 -1*kf(T,3) * y[3]**1.0 * y[5]**1.0 ']"
      ]
     },
     "execution_count": 59,
     "metadata": {},
     "output_type": "execute_result"
    }
   ],
   "source": [
    "dydt_list"
   ]
  },
  {
   "cell_type": "code",
   "execution_count": 61,
   "metadata": {},
   "outputs": [],
   "source": [
    "paths = set_paths()"
   ]
  },
  {
   "cell_type": "code",
   "execution_count": 110,
   "metadata": {},
   "outputs": [],
   "source": [
    "specieslist = build_species_list(paths[0])\n",
    "output_dict = {specieslist[2][i]:i for i in range(0, len(specieslist[2]))}"
   ]
  },
  {
   "cell_type": "code",
   "execution_count": 124,
   "metadata": {},
   "outputs": [
    {
     "name": "stdout",
     "output_type": "stream",
     "text": [
      "B\n",
      "6\n"
     ]
    }
   ],
   "source": [
    "output_dict_reverse = dict(zip(output_dict.values(), output_dict.keys()))\n",
    "print(output_dict_reverse[1])\n",
    "print(len(specieslist[2]))"
   ]
  },
  {
   "cell_type": "code",
   "execution_count": 126,
   "metadata": {},
   "outputs": [
    {
     "name": "stdout",
     "output_type": "stream",
     "text": [
      "0\n",
      "1\n",
      "2\n",
      "3\n",
      "4\n",
      "5\n"
     ]
    }
   ],
   "source": [
    "for i in range(len(specieslist[2])):\n",
    "    spec = output_dict_reverse[i]\n",
    "    print(output_dict[spec])\n",
    "    "
   ]
  },
  {
   "cell_type": "code",
   "execution_count": 77,
   "metadata": {},
   "outputs": [
    {
     "name": "stderr",
     "output_type": "stream",
     "text": [
      "test_correct_format (__main__.TestGetSpecieslist)\n",
      "Are the entries in specieslist strings longer than 1 character? ... /Users/chowdhury/anaconda2/lib/python3.7/site-packages/ipykernel_launcher.py:27: ResourceWarning: unclosed file <_io.TextIOWrapper name='/Users/chowdhury/Documents/kmpy/kmpy/data/complete_reaction_list.dat' mode='r' encoding='UTF-8'>\n",
      "FAIL\n",
      "test_add (__main__.TestNotebook) ... ERROR\n",
      "\n",
      "======================================================================\n",
      "ERROR: test_add (__main__.TestNotebook)\n",
      "----------------------------------------------------------------------\n",
      "Traceback (most recent call last):\n",
      "  File \"<ipython-input-77-2b366691654a>\", line 6, in test_add\n",
      "    self.assertEqual(add(2, 2), 4)\n",
      "NameError: name 'add' is not defined\n",
      "\n",
      "======================================================================\n",
      "FAIL: test_correct_format (__main__.TestGetSpecieslist)\n",
      "Are the entries in specieslist strings longer than 1 character?\n",
      "----------------------------------------------------------------------\n",
      "Traceback (most recent call last):\n",
      "  File \"<ipython-input-72-02d228ecfcea>\", line 17, in test_correct_format\n",
      "    self.assertGreaterEqual(len(specieslist[2][i]), 2)\n",
      "AssertionError: 1 not greater than or equal to 2\n",
      "\n",
      "----------------------------------------------------------------------\n",
      "Ran 2 tests in 0.004s\n",
      "\n",
      "FAILED (failures=1, errors=1)\n"
     ]
    },
    {
     "data": {
      "text/plain": [
       "<unittest.main.TestProgram at 0x1202ed0b8>"
      ]
     },
     "execution_count": 77,
     "metadata": {},
     "output_type": "execute_result"
    }
   ],
   "source": []
  },
  {
   "cell_type": "code",
   "execution_count": null,
   "metadata": {},
   "outputs": [],
   "source": []
  }
 ],
 "metadata": {
  "kernelspec": {
   "display_name": "kmpy",
   "language": "python",
   "name": "kmpy"
  },
  "language_info": {
   "codemirror_mode": {
    "name": "ipython",
    "version": 3
   },
   "file_extension": ".py",
   "mimetype": "text/x-python",
   "name": "python",
   "nbconvert_exporter": "python",
   "pygments_lexer": "ipython3",
   "version": "3.7.1"
  }
 },
 "nbformat": 4,
 "nbformat_minor": 2
}
