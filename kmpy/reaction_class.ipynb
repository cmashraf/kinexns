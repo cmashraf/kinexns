{
 "cells": [
  {
   "cell_type": "code",
   "execution_count": 150,
   "metadata": {},
   "outputs": [],
   "source": [
    "import os, sys\n",
    "import numpy as np\n",
    "from constants import GAS_CONST, MW"
   ]
  },
  {
   "cell_type": "code",
   "execution_count": 151,
   "metadata": {},
   "outputs": [],
   "source": [
    "def set_paths():\n",
    "    \"\"\"\n",
    "    Set the absolute path to required files on the current machine.\n",
    "\n",
    "    Returns\n",
    "    -------\n",
    "    reactionlist_path     : str\n",
    "                            path to the file `complete_reactionlist.dat`\n",
    "    rateconstantlist_path : str\n",
    "                            path to the file `complete_rateconstantlist.dat`\n",
    "    compositionlist_path  : str\n",
    "                            path to the file `compositionlist.dat`\n",
    "    \"\"\"\n",
    "    module_dir = os.getcwd().split('ligpy_utils')[0]\n",
    "    reactionlist_path = module_dir + '/data/complete_reaction_list.dat'\n",
    "    rateconstantlist_path = module_dir + '/data/complete_rateconstant_list.dat'\n",
    "    compositionlist_path = module_dir + '/data/compositionlist.dat'\n",
    "    return reactionlist_path, rateconstantlist_path, compositionlist_path"
   ]
  },
  {
   "cell_type": "code",
   "execution_count": 152,
   "metadata": {},
   "outputs": [],
   "source": [
    "reactionlist, rateconstantlist, compositionlist = set_paths()"
   ]
  },
  {
   "cell_type": "code",
   "execution_count": 153,
   "metadata": {},
   "outputs": [
    {
     "name": "stdout",
     "output_type": "stream",
     "text": [
      "/Users/chowdhury/Documents/km_py/ligpy/data/complete_reaction_list.dat\n"
     ]
    }
   ],
   "source": [
    "print(reactionlist)"
   ]
  },
  {
   "cell_type": "code",
   "execution_count": 303,
   "metadata": {},
   "outputs": [],
   "source": [
    "class reaction(object):\n",
    "    \n",
    "    \n",
    "    def __init__(self):\n",
    "        self.reactants_names = []\n",
    "        self.products_names = []\n",
    "        self.uniqueSpeciesList = []\n",
    "        #species_names = []\n",
    "        \n",
    "   \n",
    "    def getReactantsName(self, line):\n",
    "        \n",
    "        for spec in line.split(','):\n",
    "            if float(spec.split('_')[0].split()[0]) < 0:\n",
    "                self.reactants_names.append((spec.split('_')[0].split()[0],\n",
    "                                          spec.split('_')[1].split()[0]))\n",
    "            #print(self.species_names)\n",
    "        return self.reactants_names\n",
    "    \n",
    "    def getProductsName(self, line):\n",
    "        \n",
    "        for spec in line.split(','):\n",
    "            if float(spec.split('_')[0].split()[0]) > 0:\n",
    "                self.products_names.append((spec.split('_')[0].split()[0],\n",
    "                                          spec.split('_')[1].split()[0]))\n",
    "            #print(self.species_names)\n",
    "        return self.products_names\n",
    "    \n",
    "    def uniqueSpeciesName(self, line, species_list):\n",
    "        #self.uniqueSpeciesList = species_list\n",
    "        for spec in line.split(','):\n",
    "            #self.uniqueSpeciesList = species_list\n",
    "            # If the species has already been added to the list then move on.\n",
    "            if spec.split('_')[1].split()[0] in species_list:\n",
    "                continue\n",
    "            else:\n",
    "                #print(self.uniqueSpeciesList)\n",
    "                self.uniqueSpeciesList = species_list\n",
    "                self.uniqueSpeciesList.append(spec.split('_')[1].split()[0])\n",
    "            #print(spec.split('_')[1].split()[0])\n",
    "        return self.uniqueSpeciesList\n",
    "    "
   ]
  },
  {
   "cell_type": "code",
   "execution_count": 305,
   "metadata": {},
   "outputs": [
    {
     "name": "stdout",
     "output_type": "stream",
     "text": [
      "[]\n",
      "['PLIGH', 'PRLIGH']\n",
      "['PLIGH', 'PRLIGH', 'C3H6', 'OH', 'RLIGM2A']\n",
      "['PLIGH', 'PRLIGH', 'C3H6', 'OH', 'RLIGM2A', 'LIGM2', 'RPHENOXM2', 'RADIOM2']\n",
      "['PLIGH', 'PRLIGH', 'C3H6', 'OH', 'RLIGM2A', 'LIGM2', 'RPHENOXM2', 'RADIOM2', 'PLIGM2', 'PRADIOM2']\n",
      "['PLIGH', 'PRLIGH', 'C3H6', 'OH', 'RLIGM2A', 'LIGM2', 'RPHENOXM2', 'RADIOM2', 'PLIGM2', 'PRADIOM2', 'LIG', 'RPHENOX', 'RADIO']\n",
      "['PLIGH', 'PRLIGH', 'C3H6', 'OH', 'RLIGM2A', 'LIGM2', 'RPHENOXM2', 'RADIOM2', 'PLIGM2', 'PRADIOM2', 'LIG', 'RPHENOX', 'RADIO', 'PLIG', 'PRADIO']\n",
      "['PLIGH', 'PRLIGH', 'C3H6', 'OH', 'RLIGM2A', 'LIGM2', 'RPHENOXM2', 'RADIOM2', 'PLIGM2', 'PRADIOM2', 'LIG', 'RPHENOX', 'RADIO', 'PLIG', 'PRADIO', 'PADIOM2']\n",
      "['PLIGH', 'PRLIGH', 'C3H6', 'OH', 'RLIGM2A', 'LIGM2', 'RPHENOXM2', 'RADIOM2', 'PLIGM2', 'PRADIOM2', 'LIG', 'RPHENOX', 'RADIO', 'PLIG', 'PRADIO', 'PADIOM2', 'PADIO']\n",
      "['PLIGH', 'PRLIGH', 'C3H6', 'OH', 'RLIGM2A', 'LIGM2', 'RPHENOXM2', 'RADIOM2', 'PLIGM2', 'PRADIOM2', 'LIG', 'RPHENOX', 'RADIO', 'PLIG', 'PRADIO', 'PADIOM2', 'PADIO', 'PKETM2', 'PRKETM2']\n"
     ]
    }
   ],
   "source": [
    "reactants = []\n",
    "products = []\n",
    "species_name = []\n",
    "\n",
    "for line in open(reactionlist, 'r').readlines():\n",
    "    reac = reaction()\n",
    "    reactants.append(reac.getReactantsName(line))\n",
    "    products.append(reac.getProductsName(line))\n",
    "    current_species = species_name\n",
    "    print(current_species)\n",
    "    species_name = reac.uniqueSpeciesName(line, current_species)\n",
    "    x= reac.uniqueSpeciesName(line, current_species)\n",
    "    #print(x)\n",
    "#species_name.sort()\n",
    "    "
   ]
  },
  {
   "cell_type": "code",
   "execution_count": null,
   "metadata": {},
   "outputs": [],
   "source": []
  },
  {
   "cell_type": "code",
   "execution_count": 266,
   "metadata": {},
   "outputs": [
    {
     "name": "stdout",
     "output_type": "stream",
     "text": [
      "3\n"
     ]
    }
   ],
   "source": [
    "print(len(products[1]))"
   ]
  },
  {
   "cell_type": "code",
   "execution_count": 261,
   "metadata": {},
   "outputs": [
    {
     "name": "stdout",
     "output_type": "stream",
     "text": [
      "[[('-1', 'PLIGH'), ('1', 'PRLIGH')], [('-1', 'PLIGH'), ('1', 'C3H6'), ('1', 'OH'), ('1', 'RLIGM2A')], [('-1', 'LIGM2'), ('1', 'RPHENOXM2'), ('1', 'RADIOM2')], [('-1', 'PLIGM2'), ('1', 'RPHENOXM2'), ('1', 'PRADIOM2')], [('-1', 'LIG'), ('1', 'RPHENOX'), ('1', 'RADIO')], [('-1', 'PLIG'), ('1', 'RPHENOX'), ('1', 'PRADIO')], [('-1', 'PADIOM2'), ('1', 'PRADIOM2')], [('-1', 'PADIO'), ('1', 'PRADIO')], [('-1', 'PKETM2'), ('1', 'PRKETM2')], [('-1', 'PRKETM2'), ('1', 'KETDM2'), ('1', 'OH')]]\n"
     ]
    }
   ],
   "source": [
    "total = [react + prod for react, prod in zip(reactants, products)]\n",
    "# for react, prod in zip(reactants, products):\n",
    "#     total.append(react + prod)\n",
    "print(total)"
   ]
  },
  {
   "cell_type": "code",
   "execution_count": 92,
   "metadata": {},
   "outputs": [
    {
     "name": "stdout",
     "output_type": "stream",
     "text": [
      "<zip object at 0x10d6e9508>\n"
     ]
    }
   ],
   "source": [
    "print(species)"
   ]
  },
  {
   "cell_type": "code",
   "execution_count": null,
   "metadata": {},
   "outputs": [],
   "source": []
  }
 ],
 "metadata": {
  "kernelspec": {
   "display_name": "py3",
   "language": "python",
   "name": "py3"
  },
  "language_info": {
   "codemirror_mode": {
    "name": "ipython",
    "version": 3
   },
   "file_extension": ".py",
   "mimetype": "text/x-python",
   "name": "python",
   "nbconvert_exporter": "python",
   "pygments_lexer": "ipython3",
   "version": "3.6.7"
  }
 },
 "nbformat": 4,
 "nbformat_minor": 2
}
