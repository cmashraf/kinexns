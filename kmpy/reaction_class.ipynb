{
 "cells": [
  {
   "cell_type": "code",
   "execution_count": null,
   "metadata": {},
   "outputs": [],
   "source": [
    "import os, sys\n",
    "import numpy as np\n",
    "from constants import GAS_CONST, MW"
   ]
  },
  {
   "cell_type": "code",
   "execution_count": null,
   "metadata": {},
   "outputs": [],
   "source": [
    "def set_paths():\n",
    "    \"\"\"\n",
    "    Set the absolute path to required files on the current machine.\n",
    "\n",
    "    Returns\n",
    "    -------\n",
    "    reactionlist_path     : str\n",
    "                            path to the file `complete_reactionlist.dat`\n",
    "    rateconstantlist_path : str\n",
    "                            path to the file `complete_rateconstantlist.dat`\n",
    "    compositionlist_path  : str\n",
    "                            path to the file `compositionlist.dat`\n",
    "    \"\"\"\n",
    "    module_dir = os.getcwd().split('ligpy_utils')[0]\n",
    "    reactionlist_path = module_dir + '/data/complete_reaction_list.dat'\n",
    "    rateconstantlist_path = module_dir + '/data/complete_rateconstant_list.dat'\n",
    "    compositionlist_path = module_dir + '/data/compositionlist.dat'\n",
    "    return reactionlist_path, rateconstantlist_path, compositionlist_path"
   ]
  },
  {
   "cell_type": "code",
   "execution_count": 3,
   "metadata": {},
   "outputs": [],
   "source": [
    "reactionlist, rateconstantlist, compositionlist = set_paths()"
   ]
  },
  {
   "cell_type": "code",
   "execution_count": 4,
   "metadata": {},
   "outputs": [
    {
     "name": "stdout",
     "output_type": "stream",
     "text": [
      "/Users/chowdhury/Documents/kmpy/kmpy/data/complete_reaction_list.dat\n"
     ]
    }
   ],
   "source": [
    "print(reactionlist)"
   ]
  },
  {
   "cell_type": "code",
   "execution_count": 5,
   "metadata": {},
   "outputs": [],
   "source": [
    "class Reaction(object):\n",
    "    \n",
    "    \n",
    "    def __init__(self):\n",
    "        self.reactants_names = []\n",
    "        self.products_names = []\n",
    "        self.uniqueSpeciesList = []\n",
    "        #species_names = []\n",
    "        \n",
    "   \n",
    "    def getReactantsName(self, line):\n",
    "        \n",
    "        for spec in line.split(','):\n",
    "            if float(spec.split('_')[0].split()[0]) < 0:\n",
    "                self.reactants_names.append((spec.split('_')[0].split()[0],\n",
    "                                          spec.split('_')[1].split()[0]))\n",
    "            #print(self.species_names)\n",
    "        return self.reactants_names\n",
    "    \n",
    "    def getProductsName(self, line):\n",
    "        \n",
    "        for spec in line.split(','):\n",
    "            if float(spec.split('_')[0].split()[0]) > 0:\n",
    "                self.products_names.append((spec.split('_')[0].split()[0],\n",
    "                                          spec.split('_')[1].split()[0]))\n",
    "            #print(self.species_names)\n",
    "        return self.products_names\n",
    "    \n",
    "    def uniqueSpeciesName(self, line, species_list):\n",
    "        #self.uniqueSpeciesList = species_list\n",
    "        for spec in line.split(','):\n",
    "            #self.uniqueSpeciesList = species_list\n",
    "            # If the species has already been added to the list then move on.\n",
    "            if spec.split('_')[1].split()[0] in species_list:\n",
    "                self.uniqueSpeciesList = species_list\n",
    "                continue\n",
    "            else:\n",
    "                #print(self.uniqueSpeciesList)\n",
    "                self.uniqueSpeciesList = species_list\n",
    "                self.uniqueSpeciesList.append(spec.split('_')[1].split()[0])\n",
    "            #print(spec.split('_')[1].split()[0])\n",
    "        return self.uniqueSpeciesList\n",
    "    "
   ]
  },
  {
   "cell_type": "code",
   "execution_count": 32,
   "metadata": {},
   "outputs": [],
   "source": [
    "reactants_list = []\n",
    "products_list = []\n",
    "species_name = []\n",
    "\n",
    "for line in open(reactionlist, 'r').readlines():\n",
    "    reac = Reaction()\n",
    "    reactants_list.append(reac.getReactantsName(line))\n",
    "    products_list.append(reac.getProductsName(line))\n",
    "    current_species = species_name\n",
    "    #print(current_species)\n",
    "    species_list = reac.uniqueSpeciesName(line, current_species)\n",
    "    #print(species_name)\n",
    "species_list.sort()\n",
    "    "
   ]
  },
  {
   "cell_type": "code",
   "execution_count": 33,
   "metadata": {},
   "outputs": [
    {
     "name": "stdout",
     "output_type": "stream",
     "text": [
      "['C=C(O)C=O', 'C=C(O)[C@@H](O)[C@H](O)C=O', 'C=O', 'CC(=O)/C=C(/O)C=O', 'CC(=O)C=O', 'CC(=O)CC(=O)C=O', 'CC(=O)CO', 'CC(=O)[C@@H](O)[C@H](O)C=O', 'CC=O', 'O', 'O/C=C/O', 'O=C/C=C(\\\\O)[C@@H](O)CO', 'O=C/C=C/C(=O)CO', 'O=C/C=C\\\\[C@@H](O)C=O', 'O=C1COC=C[C@@H]1O', 'O=C1COCC(=O)C1', 'O=C1COC[C@@H](O)[C@@H]1O', 'O=CC(O)C=O', 'O=CC1=C[C@@H](O)CO1', 'O=CC=O', 'O=CCC(=O)[C@@H](O)CO', 'O=CCC=O', 'O=CCO', 'O=CC[C@H](O)[C@@H](O)C=O', 'O=CC[C@H](O)[C@H](O)C=O', 'O=C[C@@H](O)/C=C(\\\\O)CO', 'O=C[C@@H](O)CC(=O)CO', 'O=C[C@@H](O)[C@@H](O)/C=C\\\\O', 'O=C[C@@H](O)[C@@H](O)CO', 'O=C[C@@H](O)[C@H](O)[C@@H](O)CO', 'O=C[C@H](O)/C=C(/O)CO', 'O=C[C@H](O)CC(=O)CO', 'O=C[C@H](O)CO', 'O=C[C@H](O)[C@@H](O)/C=C\\\\O', 'O=C[C@H]1OC[C@H](O)[C@H]1O', 'O=Cc1ccco1', 'OC1=COC=C[C@@H]1O', 'OC1=COCC(O)=C1', 'OC1=COC[C@@H](O)[C@@H]1O', 'OC1=C[C@@H](O)[C@H](O)OC1', 'O[C@H]1C=CO[C@@H](O)[C@@H]1O', 'O[C@H]1[C@H](O)CO[C@@H](O)[C@@H]1O']\n"
     ]
    }
   ],
   "source": [
    "print(species_list)"
   ]
  },
  {
   "cell_type": "code",
   "execution_count": 73,
   "metadata": {},
   "outputs": [
    {
     "name": "stdout",
     "output_type": "stream",
     "text": [
      "42\n"
     ]
    }
   ],
   "source": [
    "print(len(products_list))"
   ]
  },
  {
   "cell_type": "code",
   "execution_count": 112,
   "metadata": {},
   "outputs": [],
   "source": [
    "reac_prod_list = [react + prod for react, prod in zip(reactants_list, products_list)]\n",
    "# for react, prod in zip(reactants, products):\n",
    "#     total.append(react + prod)\n",
    "#print(total)"
   ]
  },
  {
   "cell_type": "code",
   "execution_count": 113,
   "metadata": {},
   "outputs": [
    {
     "data": {
      "text/plain": [
       "[[('-1', 'O[C@H]1[C@H](O)CO[C@@H](O)[C@@H]1O'),\n",
       "  ('1', 'O'),\n",
       "  ('1', 'OC1=COC[C@@H](O)[C@@H]1O')],\n",
       " [('-1', 'O[C@H]1[C@H](O)CO[C@@H](O)[C@@H]1O'),\n",
       "  ('1', 'O'),\n",
       "  ('1', 'OC1=C[C@@H](O)[C@H](O)OC1')],\n",
       " [('-1', 'O[C@H]1[C@H](O)CO[C@@H](O)[C@@H]1O'),\n",
       "  ('1', 'O'),\n",
       "  ('1', 'O[C@H]1C=CO[C@@H](O)[C@@H]1O')],\n",
       " [('-1', 'O[C@H]1[C@H](O)CO[C@@H](O)[C@@H]1O'),\n",
       "  ('1', 'O=C[C@@H](O)[C@H](O)[C@@H](O)CO')],\n",
       " [('-1', 'O[C@H]1C=CO[C@@H](O)[C@@H]1O'),\n",
       "  ('1', 'O=C[C@H](O)[C@@H](O)/C=C\\\\O')],\n",
       " [('-1', 'O=C[C@H](O)[C@@H](O)/C=C\\\\O'), ('1', 'O=CC[C@H](O)[C@@H](O)C=O')],\n",
       " [('-1', 'O=CC[C@H](O)[C@@H](O)C=O'), ('1', 'O=CCO'), ('1', 'O=CCC=O')],\n",
       " [('-1', 'O=CC[C@H](O)[C@@H](O)C=O'),\n",
       "  ('1', 'O'),\n",
       "  ('1', 'O=C/C=C\\\\[C@@H](O)C=O')],\n",
       " [('-1', 'O[C@H]1C=CO[C@@H](O)[C@@H]1O'),\n",
       "  ('1', 'O'),\n",
       "  ('1', 'OC1=COC=C[C@@H]1O')],\n",
       " [('-1', 'OC1=C[C@@H](O)[C@H](O)OC1'), ('1', 'O=C[C@H](O)/C=C(/O)CO')],\n",
       " [('-1', 'O=C[C@H](O)/C=C(/O)CO'), ('1', 'O=C[C@H](O)CC(=O)CO')],\n",
       " [('-1', 'O=C[C@H](O)CC(=O)CO'), ('1', 'O'), ('1', 'O=C/C=C/C(=O)CO')],\n",
       " [('-1', 'O=C[C@H](O)CC(=O)CO'), ('1', 'CC(=O)CO'), ('1', 'O=CC=O')],\n",
       " [('-1', 'OC1=C[C@@H](O)[C@H](O)OC1'), ('1', 'O'), ('1', 'OC1=COCC(O)=C1')],\n",
       " [('-1', 'OC1=COCC(O)=C1'), ('1', 'O=C1COCC(=O)C1')],\n",
       " [('-1', 'OC1=COC[C@@H](O)[C@@H]1O'), ('1', 'O'), ('1', 'OC1=COCC(O)=C1')],\n",
       " [('-1', 'OC1=COC[C@@H](O)[C@@H]1O'), ('1', 'O=C1COC[C@@H](O)[C@@H]1O')],\n",
       " [('-1', 'OC1=COC[C@@H](O)[C@@H]1O'), ('1', 'C=C(O)[C@@H](O)[C@H](O)C=O')],\n",
       " [('-1', 'C=C(O)[C@@H](O)[C@H](O)C=O'), ('1', 'CC(=O)[C@@H](O)[C@H](O)C=O')],\n",
       " [('-1', 'CC(=O)[C@@H](O)[C@H](O)C=O'), ('1', 'CC(=O)C=O'), ('1', 'O=CCO')],\n",
       " [('-1', 'CC(=O)[C@@H](O)[C@H](O)C=O'),\n",
       "  ('1', 'O'),\n",
       "  ('1', 'CC(=O)/C=C(/O)C=O')],\n",
       " [('-1', 'CC(=O)/C=C(/O)C=O'), ('1', 'CC(=O)CC(=O)C=O')],\n",
       " [('-1', 'OC1=COC[C@@H](O)[C@@H]1O'), ('1', 'O'), ('1', 'OC1=COC=C[C@@H]1O')],\n",
       " [('-1', 'OC1=COC=C[C@@H]1O'), ('1', 'O=C1COC=C[C@@H]1O')],\n",
       " [('-1', 'O=C[C@@H](O)[C@H](O)[C@@H](O)CO'),\n",
       "  ('1', 'O'),\n",
       "  ('1', 'O=C[C@H]1OC[C@H](O)[C@H]1O')],\n",
       " [('-1', 'O=C[C@H]1OC[C@H](O)[C@H]1O'),\n",
       "  ('1', 'O'),\n",
       "  ('1', 'O=CC1=C[C@@H](O)CO1')],\n",
       " [('-1', 'O=CC1=C[C@@H](O)CO1'), ('1', 'O'), ('1', 'O=Cc1ccco1')],\n",
       " [('-1', 'O=C[C@@H](O)[C@H](O)[C@@H](O)CO'),\n",
       "  ('1', 'O'),\n",
       "  ('1', 'O=C[C@@H](O)[C@@H](O)/C=C\\\\O')],\n",
       " [('-1', 'O=C[C@@H](O)[C@@H](O)/C=C\\\\O'), ('1', 'O=CC[C@H](O)[C@H](O)C=O')],\n",
       " [('-1', 'O=CC[C@H](O)[C@H](O)C=O'), ('1', 'O=CC(O)C=O'), ('1', 'CC=O')],\n",
       " [('-1', 'O=C[C@@H](O)[C@H](O)[C@@H](O)CO'),\n",
       "  ('1', 'O'),\n",
       "  ('1', 'O=C[C@@H](O)/C=C(\\\\O)CO')],\n",
       " [('-1', 'O=C[C@@H](O)/C=C(\\\\O)CO'), ('1', 'O=C[C@@H](O)CC(=O)CO')],\n",
       " [('-1', 'O=C[C@@H](O)CC(=O)CO'), ('1', 'O=CCO'), ('1', 'C=C(O)C=O')],\n",
       " [('-1', 'CC(=O)C=O'), ('1', 'CC(=O)C=O')],\n",
       " [('-1', 'O=C[C@@H](O)[C@H](O)[C@@H](O)CO'),\n",
       "  ('1', 'O'),\n",
       "  ('1', 'O=C/C=C(\\\\O)[C@@H](O)CO')],\n",
       " [('-1', 'O=C/C=C(\\\\O)[C@@H](O)CO'), ('1', 'O=CCC(=O)[C@@H](O)CO')],\n",
       " [('-1', 'O=CCC(=O)[C@@H](O)CO'), ('1', 'O=CCO'), ('1', 'O=CCC=O')],\n",
       " [('-1', 'O=C[C@@H](O)[C@H](O)[C@@H](O)CO'),\n",
       "  ('1', 'O=CCO'),\n",
       "  ('1', 'O=C[C@H](O)CO')],\n",
       " [('-1', 'O=C[C@H](O)CO'), ('1', 'O'), ('1', 'C=C(O)C=O')],\n",
       " [('-1', 'O=C[C@@H](O)[C@H](O)[C@@H](O)CO'),\n",
       "  ('1', 'O=C[C@@H](O)[C@@H](O)CO'),\n",
       "  ('1', 'C=O')],\n",
       " [('-1', 'O=C[C@@H](O)[C@@H](O)CO'), ('1', 'O=CCO'), ('1', 'O/C=C/O')],\n",
       " [('-1', 'O/C=C/O'), ('1', 'O=CCO')]]"
      ]
     },
     "execution_count": 113,
     "metadata": {},
     "output_type": "execute_result"
    }
   ],
   "source": [
    "reac_prod_list"
   ]
  },
  {
   "cell_type": "code",
   "execution_count": 91,
   "metadata": {},
   "outputs": [],
   "source": [
    "#generating a dictionary of unique species from the species_list\n",
    "speciesindices = {species_list[i]:i for i in range(0, len(species_list))}\n",
    "\n",
    "indices_to_species = dict(zip(speciesindices.values(), speciesindices.keys()))"
   ]
  },
  {
   "cell_type": "code",
   "execution_count": 93,
   "metadata": {},
   "outputs": [
    {
     "data": {
      "text/plain": [
       "{'C=C(O)C=O': 0,\n",
       " 'C=C(O)[C@@H](O)[C@H](O)C=O': 1,\n",
       " 'C=O': 2,\n",
       " 'CC(=O)/C=C(/O)C=O': 3,\n",
       " 'CC(=O)C=O': 4,\n",
       " 'CC(=O)CC(=O)C=O': 5,\n",
       " 'CC(=O)CO': 6,\n",
       " 'CC(=O)[C@@H](O)[C@H](O)C=O': 7,\n",
       " 'CC=O': 8,\n",
       " 'O': 9,\n",
       " 'O/C=C/O': 10,\n",
       " 'O=C/C=C(\\\\O)[C@@H](O)CO': 11,\n",
       " 'O=C/C=C/C(=O)CO': 12,\n",
       " 'O=C/C=C\\\\[C@@H](O)C=O': 13,\n",
       " 'O=C1COC=C[C@@H]1O': 14,\n",
       " 'O=C1COCC(=O)C1': 15,\n",
       " 'O=C1COC[C@@H](O)[C@@H]1O': 16,\n",
       " 'O=CC(O)C=O': 17,\n",
       " 'O=CC1=C[C@@H](O)CO1': 18,\n",
       " 'O=CC=O': 19,\n",
       " 'O=CCC(=O)[C@@H](O)CO': 20,\n",
       " 'O=CCC=O': 21,\n",
       " 'O=CCO': 22,\n",
       " 'O=CC[C@H](O)[C@@H](O)C=O': 23,\n",
       " 'O=CC[C@H](O)[C@H](O)C=O': 24,\n",
       " 'O=C[C@@H](O)/C=C(\\\\O)CO': 25,\n",
       " 'O=C[C@@H](O)CC(=O)CO': 26,\n",
       " 'O=C[C@@H](O)[C@@H](O)/C=C\\\\O': 27,\n",
       " 'O=C[C@@H](O)[C@@H](O)CO': 28,\n",
       " 'O=C[C@@H](O)[C@H](O)[C@@H](O)CO': 29,\n",
       " 'O=C[C@H](O)/C=C(/O)CO': 30,\n",
       " 'O=C[C@H](O)CC(=O)CO': 31,\n",
       " 'O=C[C@H](O)CO': 32,\n",
       " 'O=C[C@H](O)[C@@H](O)/C=C\\\\O': 33,\n",
       " 'O=C[C@H]1OC[C@H](O)[C@H]1O': 34,\n",
       " 'O=Cc1ccco1': 35,\n",
       " 'OC1=COC=C[C@@H]1O': 36,\n",
       " 'OC1=COCC(O)=C1': 37,\n",
       " 'OC1=COC[C@@H](O)[C@@H]1O': 38,\n",
       " 'OC1=C[C@@H](O)[C@H](O)OC1': 39,\n",
       " 'O[C@H]1C=CO[C@@H](O)[C@@H]1O': 40,\n",
       " 'O[C@H]1[C@H](O)CO[C@@H](O)[C@@H]1O': 41}"
      ]
     },
     "execution_count": 93,
     "metadata": {},
     "output_type": "execute_result"
    }
   ],
   "source": [
    "speciesindices"
   ]
  },
  {
   "cell_type": "code",
   "execution_count": 94,
   "metadata": {},
   "outputs": [],
   "source": [
    "class Kinetic_params(object):\n",
    "      \n",
    "    def __init__(self):\n",
    "        self.forward_rate_params = []\n",
    "        self.forward_rates = []\n",
    "        #self.forward_E = []\n",
    "        #self.uniqueSpeciesList = []\n",
    "        #species_names = []\n",
    "    \n",
    "    def getForwardRateParameters(self, line):\n",
    "        \n",
    "        self.forward_rate_params = [line.split(' ')[0], line.split(' ')[1],\n",
    "                      line.split(' ')[2].split()[0]]\n",
    "      \n",
    "        return self.forward_rate_params\n",
    "    \n",
    "    def getForwardRateConstant(self, parameters, T):\n",
    "        \n",
    "        self.forward_rates = eval(params[0]) * np.exp(- eval(params[2])/\n",
    "                                                               (GAS_CONST * temp))\n",
    "        return self.forward_rates"
   ]
  },
  {
   "cell_type": "code",
   "execution_count": 95,
   "metadata": {},
   "outputs": [],
   "source": [
    "forward_rate_constants = []\n",
    "temp = 298"
   ]
  },
  {
   "cell_type": "code",
   "execution_count": 96,
   "metadata": {},
   "outputs": [],
   "source": [
    "for line in open(rateconstantlist, 'r').readlines():\n",
    "    f_params = Kinetic_params()\n",
    "    params = f_params.getForwardRateParameters(line)\n",
    "    forward_rate_constants.append(f_params.getForwardRateConstant(params, temp))"
   ]
  },
  {
   "cell_type": "code",
   "execution_count": 97,
   "metadata": {},
   "outputs": [
    {
     "data": {
      "text/plain": [
       "[2.4162838852855017e-16,\n",
       " 2.4162838852855017e-16,\n",
       " 2.4162838852855017e-16,\n",
       " 2.4162838852855017e-16,\n",
       " 5.179892807527631e-20,\n",
       " 9.562145232193119e-21,\n",
       " 8.234117945288891e-18,\n",
       " 2.8059905853701646e-19,\n",
       " 4.460489491159207e-17,\n",
       " 5.257778998806434e-09]"
      ]
     },
     "execution_count": 97,
     "metadata": {},
     "output_type": "execute_result"
    }
   ],
   "source": [
    "forward_rate_constants"
   ]
  },
  {
   "cell_type": "code",
   "execution_count": 98,
   "metadata": {},
   "outputs": [],
   "source": [
    "def build_reac_prod_dict(reac_list, prod_list,speciesindices):\n",
    "    \"\"\"\n",
    "    Build a dictionary of the reactants involved in each reaction,\n",
    "    along with their stoichiometric coefficients.  The keys of the\n",
    "    dictionary are the reaction numbers, the values are lists of lists\n",
    "    [[reactant1index, -1*coeff1],...]\n",
    "    Parameters\n",
    "    ----------\n",
    "    completereactionlist : str\n",
    "                           path to the file `complete_reaction_list.dat`\n",
    "    speciesindices       : dict\n",
    "                           the dictionary speciesindices from\n",
    "                           get_speciesindices()\n",
    "    Returns\n",
    "    -------\n",
    "    reactant_dict : dict\n",
    "                    a dictionary where keys are reaction numbers and values\n",
    "                    are lists of lists with the reactants and their\n",
    "                    stoichiometric coefficients for each reaction\n",
    "    \"\"\"\n",
    "    reactant_dict = {}\n",
    "    for rxnindex, reaction in enumerate(reac_list):\n",
    "        reactants = []\n",
    "        #\n",
    "        for x in range(len(reaction)):\n",
    "            # if the species is a reactant\n",
    "         #   if float(x.split('_')[0]) < 0:\n",
    "            reactants.append([speciesindices[reaction[x][1]],\n",
    "                                -1*float(reaction[x][0])])\n",
    "            #    in preceding line: *-1 because I want the |stoich coeff|\n",
    "        reactant_dict[rxnindex] = reactants\n",
    "        \n",
    "    products_dict = {}\n",
    "    for rxnindex, reaction in enumerate(prod_list):\n",
    "        products = []\n",
    "        #\n",
    "        for x in range(len(reaction)):\n",
    "            # if the species is a reactant\n",
    "         #   if float(x.split('_')[0]) < 0:\n",
    "            products.append([speciesindices[reaction[x][1]],\n",
    "                                1*float(reaction[x][0])])\n",
    "            #    in preceding line: *-1 because I want the |stoich coeff|\n",
    "        products_dict[rxnindex] = products\n",
    "    return reactant_dict, products_dict"
   ]
  },
  {
   "cell_type": "code",
   "execution_count": null,
   "metadata": {},
   "outputs": [],
   "source": []
  },
  {
   "cell_type": "code",
   "execution_count": 100,
   "metadata": {},
   "outputs": [
    {
     "data": {
      "text/plain": [
       "{0: [[41, 1.0]],\n",
       " 1: [[41, 1.0]],\n",
       " 2: [[41, 1.0]],\n",
       " 3: [[41, 1.0]],\n",
       " 4: [[40, 1.0]],\n",
       " 5: [[33, 1.0]],\n",
       " 6: [[23, 1.0]],\n",
       " 7: [[23, 1.0]],\n",
       " 8: [[40, 1.0]],\n",
       " 9: [[39, 1.0]],\n",
       " 10: [[30, 1.0]],\n",
       " 11: [[31, 1.0]],\n",
       " 12: [[31, 1.0]],\n",
       " 13: [[39, 1.0]],\n",
       " 14: [[37, 1.0]],\n",
       " 15: [[38, 1.0]],\n",
       " 16: [[38, 1.0]],\n",
       " 17: [[38, 1.0]],\n",
       " 18: [[1, 1.0]],\n",
       " 19: [[7, 1.0]],\n",
       " 20: [[7, 1.0]],\n",
       " 21: [[3, 1.0]],\n",
       " 22: [[38, 1.0]],\n",
       " 23: [[36, 1.0]],\n",
       " 24: [[29, 1.0]],\n",
       " 25: [[34, 1.0]],\n",
       " 26: [[18, 1.0]],\n",
       " 27: [[29, 1.0]],\n",
       " 28: [[27, 1.0]],\n",
       " 29: [[24, 1.0]],\n",
       " 30: [[29, 1.0]],\n",
       " 31: [[25, 1.0]],\n",
       " 32: [[26, 1.0]],\n",
       " 33: [[4, 1.0]],\n",
       " 34: [[29, 1.0]],\n",
       " 35: [[11, 1.0]],\n",
       " 36: [[20, 1.0]],\n",
       " 37: [[29, 1.0]],\n",
       " 38: [[32, 1.0]],\n",
       " 39: [[29, 1.0]],\n",
       " 40: [[28, 1.0]],\n",
       " 41: [[10, 1.0]]}"
      ]
     },
     "execution_count": 100,
     "metadata": {},
     "output_type": "execute_result"
    }
   ],
   "source": [
    "a, b = build_reac_prod_dict(reactants_list, products_list, speciesindices)\n",
    "a"
   ]
  },
  {
   "cell_type": "code",
   "execution_count": 106,
   "metadata": {},
   "outputs": [],
   "source": [
    "def build_species_rxns_dict(completereactionlist, specieslist):\n",
    "    \"\"\"\n",
    "    Build a dictionary where keys are species and values are lists with the\n",
    "    reactions that species is involved in, that reaction's sign in the net\n",
    "    rate equation, and the stoichiometric coefficient of the species in that\n",
    "    reaction.\n",
    "    Parameters\n",
    "    ----------\n",
    "    completereactionlist : str\n",
    "                           path to the file `complete_reaction_list.dat`\n",
    "    Returns\n",
    "    -------\n",
    "    species_rxns : dict\n",
    "                   keys are the species in the model; values are lists of\n",
    "                   [reaction that species is involved in,\n",
    "                   sign of that species in the net rate equation,\n",
    "                   stoichiometric coefficient]\n",
    "    \"\"\"\n",
    "    #specieslist = get_specieslist(set_paths()[0])\n",
    "    species_rxns = {}\n",
    "    for species in specieslist:\n",
    "        # This loop makes a list of which reactions \"species\" takes part in\n",
    "        # and what sign that term in the net rate eqn has\n",
    "        # and what the stoichiometric coefficient is\n",
    "        reactions_involved = []\n",
    "        for rxnindex, line in enumerate(open(completereactionlist, 'r')\n",
    "                                        .readlines()):\n",
    "            # example of x = '-1_ADIO'\n",
    "            for x in line.split(','):\n",
    "                # If the species being iterated over is part of this reaction\n",
    "                if species == x.split('_')[1].split()[0]:\n",
    "                    # if the species is a reactant\n",
    "                    if float(x.split('_')[0]) < 0:\n",
    "                        reactions_involved.append(\n",
    "                            [rxnindex, -1, x.split('_')[0]])\n",
    "                    # if the species is a product\n",
    "                    if float(x.split('_')[0]) > 0:\n",
    "                        reactions_involved.append(\n",
    "                            [rxnindex, 1, '+' + x.split('_')[0]])\n",
    "        species_rxns[species] = reactions_involved\n",
    "    return species_rxns"
   ]
  },
  {
   "cell_type": "code",
   "execution_count": 107,
   "metadata": {},
   "outputs": [],
   "source": [
    "x = build_species_rxns_dict(reactionlist, species_list)"
   ]
  },
  {
   "cell_type": "code",
   "execution_count": 111,
   "metadata": {},
   "outputs": [
    {
     "data": {
      "text/plain": [
       "{'C=C(O)C=O': [[32, 1, '+1'], [38, 1, '+1']],\n",
       " 'C=C(O)[C@@H](O)[C@H](O)C=O': [[17, 1, '+1'], [18, -1, '-1']],\n",
       " 'C=O': [[39, 1, '+1']],\n",
       " 'CC(=O)/C=C(/O)C=O': [[20, 1, '+1'], [21, -1, '-1']],\n",
       " 'CC(=O)C=O': [[19, 1, '+1'], [33, -1, '-1'], [33, 1, '+1']],\n",
       " 'CC(=O)CC(=O)C=O': [[21, 1, '+1']],\n",
       " 'CC(=O)CO': [[12, 1, '+1']],\n",
       " 'CC(=O)[C@@H](O)[C@H](O)C=O': [[18, 1, '+1'], [19, -1, '-1'], [20, -1, '-1']],\n",
       " 'CC=O': [[29, 1, '+1']],\n",
       " 'O': [[0, 1, '+1'],\n",
       "  [1, 1, '+1'],\n",
       "  [2, 1, '+1'],\n",
       "  [7, 1, '+1'],\n",
       "  [8, 1, '+1'],\n",
       "  [11, 1, '+1'],\n",
       "  [13, 1, '+1'],\n",
       "  [15, 1, '+1'],\n",
       "  [20, 1, '+1'],\n",
       "  [22, 1, '+1'],\n",
       "  [24, 1, '+1'],\n",
       "  [25, 1, '+1'],\n",
       "  [26, 1, '+1'],\n",
       "  [27, 1, '+1'],\n",
       "  [30, 1, '+1'],\n",
       "  [34, 1, '+1'],\n",
       "  [38, 1, '+1']],\n",
       " 'O/C=C/O': [[40, 1, '+1'], [41, -1, '-1']],\n",
       " 'O=C/C=C(\\\\O)[C@@H](O)CO': [[34, 1, '+1'], [35, -1, '-1']],\n",
       " 'O=C/C=C/C(=O)CO': [[11, 1, '+1']],\n",
       " 'O=C/C=C\\\\[C@@H](O)C=O': [[7, 1, '+1']],\n",
       " 'O=C1COC=C[C@@H]1O': [[23, 1, '+1']],\n",
       " 'O=C1COCC(=O)C1': [[14, 1, '+1']],\n",
       " 'O=C1COC[C@@H](O)[C@@H]1O': [[16, 1, '+1']],\n",
       " 'O=CC(O)C=O': [[29, 1, '+1']],\n",
       " 'O=CC1=C[C@@H](O)CO1': [[25, 1, '+1'], [26, -1, '-1']],\n",
       " 'O=CC=O': [[12, 1, '+1']],\n",
       " 'O=CCC(=O)[C@@H](O)CO': [[35, 1, '+1'], [36, -1, '-1']],\n",
       " 'O=CCC=O': [[6, 1, '+1'], [36, 1, '+1']],\n",
       " 'O=CCO': [[6, 1, '+1'],\n",
       "  [19, 1, '+1'],\n",
       "  [32, 1, '+1'],\n",
       "  [36, 1, '+1'],\n",
       "  [37, 1, '+1'],\n",
       "  [40, 1, '+1'],\n",
       "  [41, 1, '+1']],\n",
       " 'O=CC[C@H](O)[C@@H](O)C=O': [[5, 1, '+1'], [6, -1, '-1'], [7, -1, '-1']],\n",
       " 'O=CC[C@H](O)[C@H](O)C=O': [[28, 1, '+1'], [29, -1, '-1']],\n",
       " 'O=C[C@@H](O)/C=C(\\\\O)CO': [[30, 1, '+1'], [31, -1, '-1']],\n",
       " 'O=C[C@@H](O)CC(=O)CO': [[31, 1, '+1'], [32, -1, '-1']],\n",
       " 'O=C[C@@H](O)[C@@H](O)/C=C\\\\O': [[27, 1, '+1'], [28, -1, '-1']],\n",
       " 'O=C[C@@H](O)[C@@H](O)CO': [[39, 1, '+1'], [40, -1, '-1']],\n",
       " 'O=C[C@@H](O)[C@H](O)[C@@H](O)CO': [[3, 1, '+1'],\n",
       "  [24, -1, '-1'],\n",
       "  [27, -1, '-1'],\n",
       "  [30, -1, '-1'],\n",
       "  [34, -1, '-1'],\n",
       "  [37, -1, '-1'],\n",
       "  [39, -1, '-1']],\n",
       " 'O=C[C@H](O)/C=C(/O)CO': [[9, 1, '+1'], [10, -1, '-1']],\n",
       " 'O=C[C@H](O)CC(=O)CO': [[10, 1, '+1'], [11, -1, '-1'], [12, -1, '-1']],\n",
       " 'O=C[C@H](O)CO': [[37, 1, '+1'], [38, -1, '-1']],\n",
       " 'O=C[C@H](O)[C@@H](O)/C=C\\\\O': [[4, 1, '+1'], [5, -1, '-1']],\n",
       " 'O=C[C@H]1OC[C@H](O)[C@H]1O': [[24, 1, '+1'], [25, -1, '-1']],\n",
       " 'O=Cc1ccco1': [[26, 1, '+1']],\n",
       " 'OC1=COC=C[C@@H]1O': [[8, 1, '+1'], [22, 1, '+1'], [23, -1, '-1']],\n",
       " 'OC1=COCC(O)=C1': [[13, 1, '+1'], [14, -1, '-1'], [15, 1, '+1']],\n",
       " 'OC1=COC[C@@H](O)[C@@H]1O': [[0, 1, '+1'],\n",
       "  [15, -1, '-1'],\n",
       "  [16, -1, '-1'],\n",
       "  [17, -1, '-1'],\n",
       "  [22, -1, '-1']],\n",
       " 'OC1=C[C@@H](O)[C@H](O)OC1': [[1, 1, '+1'], [9, -1, '-1'], [13, -1, '-1']],\n",
       " 'O[C@H]1C=CO[C@@H](O)[C@@H]1O': [[2, 1, '+1'], [4, -1, '-1'], [8, -1, '-1']],\n",
       " 'O[C@H]1[C@H](O)CO[C@@H](O)[C@@H]1O': [[0, -1, '-1'],\n",
       "  [1, -1, '-1'],\n",
       "  [2, -1, '-1'],\n",
       "  [3, -1, '-1']]}"
      ]
     },
     "execution_count": 111,
     "metadata": {},
     "output_type": "execute_result"
    }
   ],
   "source": [
    "x"
   ]
  },
  {
   "cell_type": "code",
   "execution_count": null,
   "metadata": {},
   "outputs": [],
   "source": []
  }
 ],
 "metadata": {
  "kernelspec": {
   "display_name": "kmpy",
   "language": "python",
   "name": "kmpy"
  },
  "language_info": {
   "codemirror_mode": {
    "name": "ipython",
    "version": 3
   },
   "file_extension": ".py",
   "mimetype": "text/x-python",
   "name": "python",
   "nbconvert_exporter": "python",
   "pygments_lexer": "ipython3",
   "version": "3.7.3"
  }
 },
 "nbformat": 4,
 "nbformat_minor": 2
}
