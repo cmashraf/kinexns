{
 "cells": [
  {
   "cell_type": "markdown",
   "metadata": {},
   "source": [
    "# Determine conversion factor between DFT and Faravelli et al. values\n",
    "This is a notebook for analyzing the density functional theory experiments we performed in order to assign values to the kinetic parameters of reactions we added to the Faravelli et al. scheme.\n",
    "\n",
    "In this section of the notebook we look at the results of carrying out DFT calculations on molecules designed to replicate reactions that exist in Faravelli et al.'s scheme.  We are doing this to see how close the DFT-based values are to the activation energies in their scheme.\n",
    "\n",
    "Based on this comparison we estimate a conversion factor between our DFT-derived activation energies and comparable values to fit with their scheme."
   ]
  },
  {
   "cell_type": "code",
   "execution_count": 21,
   "metadata": {},
   "outputs": [
    {
     "data": {
      "text/plain": [
       "{'4PLIGM2': -840591.4858810776,\n",
       " '4PRADIOM2': -504413.693561363,\n",
       " '4RPHENOXM2': -336107.820617898,\n",
       " '5LIG': -553252.906038605,\n",
       " '5RADIO': -360748.3070629715,\n",
       " '5RPHENOX': -192437.77799901649,\n",
       " '7PADIOM2': -504824.21341381053,\n",
       " '7PRADIOM2': -504413.693561363,\n",
       " '8PADIO': -361162.4332125155,\n",
       " '8PRADIO': -360748.3070629715,\n",
       " '9PKETM2': -504086.96756248845,\n",
       " '9PRKETM2': -503682.1925595135,\n",
       " 'Hatom': -311.102894853}"
      ]
     },
     "execution_count": 21,
     "output_type": "execute_result",
     "metadata": {}
    }
   ],
   "source": [
    "import matplotlib.pyplot as plt\n",
    "\n",
    "%matplotlib inline  \n",
    "\n",
    "\n",
    "logfiles = !ls data/DFT/initiation_reactions/*.log\n",
    "\n",
    "# A dictionary of the enthalpies for each molecule\n",
    "enthal = {}\n",
    "for filename in logfiles:\n",
    "    with open(filename, 'r') as log:\n",
    "        for line in log:\n",
    "            if all(word in line for word in ['Sum', 'Enthal']):\n",
    "                enthal[filename.split('/')[3].split('.')[0]] = (627.5095 *\n",
    "                                                    float(line.split()[6]))\n",
    "\n",
    "# This is the enthalpy in kcal/mol (measure of the internal energy of system)\n",
    "enthal"
   ]
  },
  {
   "cell_type": "code",
   "execution_count": 22,
   "metadata": {},
   "outputs": [
    {
     "name": "stdout",
     "output_type": "stream",
     "text": [
      "[292762, 279579, 415961, 431049, 391924]\n"
     ]
    }
   ],
   "source": [
    "# calculate deltaH for each of the reactions [J/mol]\n",
    "deltaH_4 = int(round(4184 * (enthal['4PRADIOM2'] +\n",
    "                             enthal['4RPHENOXM2'] - enthal['4PLIGM2'])))\n",
    "deltaH_5 = int(round(4184 * (enthal['5RPHENOX'] +\n",
    "                             enthal['5RADIO'] - enthal['5LIG'])))\n",
    "deltaH_7 = int(round(4184 * (enthal['7PRADIOM2'] +\n",
    "                             enthal['Hatom'] - enthal['7PADIOM2'])))\n",
    "deltaH_8 = int(round(4184 * (enthal['8PRADIO'] +\n",
    "                             enthal['Hatom'] - enthal['8PADIO'])))\n",
    "deltaH_9 = int(round(4184 * (enthal['9PRKETM2'] +\n",
    "                             enthal['Hatom'] - enthal['9PKETM2'])))\n",
    "\n",
    "# estimating Ea [J/mol] from deltaH using Blowers Masel correlation\n",
    "E0 = 9 * 4184\n",
    "e_a = []\n",
    "\n",
    "for deltaH in [deltaH_4, deltaH_5, deltaH_7, deltaH_8, deltaH_9]:\n",
    "    try:\n",
    "        if deltaH < -4 * E0:\n",
    "            e_a.append(0)\n",
    "        elif deltaH > 4 * E0:\n",
    "            e_a.append(int(round(deltaH)))\n",
    "        else:\n",
    "            e_a.append(int(round(E0 * ((1 + (deltaH / (4 * E0)))**2))))\n",
    "    except ValueError: print 'There was an error'\n",
    "\n",
    "# This is the activation energy in J/mol\n",
    "print e_a"
   ]
  },
  {
   "cell_type": "code",
   "execution_count": 23,
   "metadata": {},
   "outputs": [
    {
     "data": {
      "text/plain": [
       "<matplotlib.legend.Legend at 0x10b890510>"
      ]
     },
     "execution_count": 23,
     "output_type": "execute_result",
     "metadata": {}
    },
    {
     "data": {
      "image/png": "[encoded data removed]"
     },
     "output_type": "display_data",
     "metadata": {}
    }
   ],
   "source": [
    "# These are the values of Ea for the corresponding reactions from Faravelli \n",
    "# et al.'s kinetic scheme.\n",
    "# 1 is reaction 4, 2 is reaction 5, 3 is reaction 7,\n",
    "# 4 is reaction 8, 5 is reaction 9\n",
    "ea_paper = [[1,163254],[2,184184],[2,188370],[3,171626],[4,179998],[5,167440]]\n",
    "\n",
    "plt.scatter(*zip(*ea_paper), label='Faravelli')\n",
    "plt.plot([1, 2, 3, 4, 5], e_a, 'rv', label='DFT')\n",
    "plt.xlabel('Initiation Reaction Number')\n",
    "plt.ylabel('Ea (J/mol')\n",
    "plt.legend(loc=0)"
   ]
  },
  {
   "cell_type": "code",
   "execution_count": 25,
   "metadata": {},
   "outputs": [
    {
     "name": "stdout",
     "output_type": "stream",
     "text": [
      "2.08529291557\n"
     ]
    }
   ],
   "source": [
    "avg_DFT = sum(e_a) / len(e_a)\n",
    "avg_paper = 173719\n",
    "\n",
    "# This is the factor that you must divide the DFT-derived\n",
    "# results by to match the paper.\n",
    "factor = float(avg_DFT)/avg_paper\n",
    "print factor"
   ]
  },
  {
   "cell_type": "markdown",
   "metadata": {},
   "source": [
    "# Determine the activation energy for the initiation reactions we are adding to the kinetic scheme"
   ]
  },
  {
   "cell_type": "code",
   "execution_count": 26,
   "metadata": {},
   "outputs": [
    {
     "data": {
      "text/plain": [
       "{'Benzyl': -145216.34776372448,\n",
       " 'Mol1': -337737.9742096405,\n",
       " 'Mol2': -481401.489474703,\n",
       " 'Mol3': -387034.5946766795,\n",
       " 'Rad1': -192437.66755734448,\n",
       " 'Rad2': -336107.98377036804,\n",
       " 'Rad3': -241737.49961800448}"
      ]
     },
     "execution_count": 26,
     "output_type": "execute_result",
     "metadata": {}
    }
   ],
   "source": [
    "logfiles = !ls data/DFT/fission_reactions/*.log\n",
    "\n",
    "# A dictionary of the enthalpies for each molecule\n",
    "enthal = {}\n",
    "for filename in logfiles:\n",
    "    with open(filename, 'r') as log:\n",
    "        for line in log:\n",
    "            if all(word in line for word in ['Sum', 'Enthal']):\n",
    "                enthal[filename.split('/')[3].split('.')[0]] = (627.5095 * \n",
    "                                                        float(line.split()[6]))\n",
    "\n",
    "# This is the enthalpy in kcal/mol\n",
    "enthal"
   ]
  },
  {
   "cell_type": "code",
   "execution_count": 27,
   "metadata": {},
   "outputs": [
    {
     "name": "stdout",
     "output_type": "stream",
     "text": [
      "351284 \n",
      "322829\n"
     ]
    }
   ],
   "source": [
    "# Mol1 is PLIGC, Mol2 is PLIGH and PLIGO, benzyl is P* \n",
    "# in J/mol\n",
    "deltaH_PLIGC = int(round(4184 * (enthal['Rad1'] + enthal['Benzyl'] -\n",
    "                                 enthal['Mol1'])))\n",
    "deltaH_PLIGH = int(round(4184 * (enthal['Rad2'] + enthal['Benzyl'] -\n",
    "                                 enthal['Mol2'])))\n",
    "deltaH_PLIGO = deltaH_PLIGH\n",
    "\n",
    "print deltaH_PLIGC, '\\n', deltaH_PLIGH"
   ]
  },
  {
   "cell_type": "code",
   "execution_count": 28,
   "metadata": {},
   "outputs": [
    {
     "name": "stdout",
     "output_type": "stream",
     "text": [
      "[168458.0, 154812.0]\n"
     ]
    }
   ],
   "source": [
    "### estimating Ea from deltaH using Blowers Masel correlation\n",
    "E0 = 9 * 4184        # J/mol\n",
    "e_a = []\n",
    "\n",
    "for deltaH in [deltaH_PLIGC, deltaH_PLIGH]:\n",
    "    try:\n",
    "        if deltaH < -4 * E0:\n",
    "            e_a.append(0)\n",
    "        elif deltaH > 4 * E0:\n",
    "            e_a.append(int(round(deltaH)))\n",
    "        else:\n",
    "            e_a.append(int(round(E0 * ((1 + (deltaH / (4 * E0)))**2))))\n",
    "    except ValueError: print 'There was an error'\n",
    "    \n",
    "print [round(x / factor) for x in e_a]    # This prints Ea_PLIGC, Ea_PLIGH"
   ]
  },
  {
   "cell_type": "code",
   "execution_count": null,
   "metadata": {},
   "outputs": [],
   "source": [
    ""
   ]
  }
 ],
 "metadata": {
  "kernelspec": {
   "display_name": "Python 2",
   "language": "python",
   "name": "python2"
  },
  "language_info": {
   "codemirror_mode": {
    "name": "ipython",
    "version": 2.0
   },
   "file_extension": ".py",
   "mimetype": "text/x-python",
   "name": "python",
   "nbconvert_exporter": "python",
   "pygments_lexer": "ipython2",
   "version": "2.7.11"
  }
 },
 "nbformat": 4,
 "nbformat_minor": 0
}